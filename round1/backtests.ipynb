{
 "cells": [
  {
   "cell_type": "code",
   "execution_count": null,
   "metadata": {},
   "outputs": [],
   "source": [
    "import prosperity3bt"
   ]
  },
  {
   "cell_type": "code",
   "execution_count": 44,
   "metadata": {},
   "outputs": [
    {
     "name": "stderr",
     "output_type": "stream",
     "text": [
      "100%|##########| 10000/10000 [00:01<00:00, 5348.52it/s]\n"
     ]
    }
   ],
   "source": [
    "from prosperity3bt.runner import run_backtest\n",
    "from prosperity3bt.models import TradeMatchingMode\n",
    "from prosperity3bt.file_reader import FileSystemReader\n",
    "from pathlib import Path\n",
    "\n",
    "from trader_best import Trader\n",
    "\n",
    "trader = Trader()\n",
    "\n",
    "file_reader = FileSystemReader(Path('.'))\n",
    "\n",
    "backtest_results = prosperity3bt.runner.run_backtest(trader, file_reader=file_reader, round_num=1, day_num=0, print_output=True, trade_matching_mode=TradeMatchingMode.all, no_names=True, show_progress_bar=True)"
   ]
  },
  {
   "cell_type": "code",
   "execution_count": 49,
   "metadata": {},
   "outputs": [
    {
     "data": {
      "text/plain": [
       "['round_num',\n",
       " 'day_num',\n",
       " 'sandbox_logs',\n",
       " 'activity_logs',\n",
       " 'trades',\n",
       " '__module__',\n",
       " '__annotations__',\n",
       " '__dict__',\n",
       " '__weakref__',\n",
       " '__doc__',\n",
       " '__dataclass_params__',\n",
       " '__dataclass_fields__',\n",
       " '__init__',\n",
       " '__repr__',\n",
       " '__eq__',\n",
       " '__hash__',\n",
       " '__match_args__',\n",
       " '__new__',\n",
       " '__str__',\n",
       " '__getattribute__',\n",
       " '__setattr__',\n",
       " '__delattr__',\n",
       " '__lt__',\n",
       " '__le__',\n",
       " '__ne__',\n",
       " '__gt__',\n",
       " '__ge__',\n",
       " '__reduce_ex__',\n",
       " '__reduce__',\n",
       " '__subclasshook__',\n",
       " '__init_subclass__',\n",
       " '__format__',\n",
       " '__sizeof__',\n",
       " '__dir__',\n",
       " '__class__']"
      ]
     },
     "execution_count": 49,
     "metadata": {},
     "output_type": "execute_result"
    }
   ],
   "source": [
    "backtest_results.__dir__()"
   ]
  }
 ],
 "metadata": {
  "kernelspec": {
   "display_name": ".venv",
   "language": "python",
   "name": "python3"
  },
  "language_info": {
   "codemirror_mode": {
    "name": "ipython",
    "version": 3
   },
   "file_extension": ".py",
   "mimetype": "text/x-python",
   "name": "python",
   "nbconvert_exporter": "python",
   "pygments_lexer": "ipython3",
   "version": "3.10.15"
  }
 },
 "nbformat": 4,
 "nbformat_minor": 2
}
