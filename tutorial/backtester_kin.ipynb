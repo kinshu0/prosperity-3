{
 "cells": [
  {
   "cell_type": "code",
   "execution_count": null,
   "metadata": {},
   "outputs": [],
   "source": [
    "from trader_kin import Trader\n",
    "import pandas as pd\n",
    "from io import StringIO\n",
    "import json\n",
    "import re\n",
    "\n",
    "from datamodel import OrderDepth, TradingState, Listing, Order"
   ]
  },
  {
   "cell_type": "code",
   "execution_count": 87,
   "metadata": {},
   "outputs": [],
   "source": [
    "def read_submission_log(filename: str) -> tuple[pd.DataFrame, pd.DataFrame, pd.DataFrame]:\n",
    "    with open(filename, 'r') as f:\n",
    "        log_content = f.read()\n",
    "\n",
    "    sandbox, market = log_content.split(\"Sandbox logs:\")[1].split(\"Activities log:\")\n",
    "    market, trade_history = market.split(\"Trade History:\")\n",
    "\n",
    "    market = pd.read_csv(StringIO(market.strip()), sep=';')\n",
    "    trade_history = json.loads(trade_history.strip())\n",
    "    trade_history = pd.DataFrame(trade_history)\n",
    "    sandbox = [json.loads(s) for s in re.findall(r'\\{.*?\\}', sandbox, re.DOTALL)]\n",
    "    sandbox = pd.DataFrame(sandbox)\n",
    "    return market, trade_history, sandbox\n",
    "    \n",
    "market_data, trade_history, sandbox = read_submission_log('logs/empty_submission.log')"
   ]
  },
  {
   "cell_type": "code",
   "execution_count": null,
   "metadata": {},
   "outputs": [
    {
     "name": "stdout",
     "output_type": "stream",
     "text": [
      "Timestamp: 0\n",
      "Market bids: {10002: 1, 9996.0: 2.0, 9995.0: 29.0}\n",
      "Market asks: {10004: -2, 10005.0: -29.0}\n",
      "Resin orders: [(RAINFOREST_RESIN, 10002, -1)]\n",
      "{'RAINFOREST_RESIN': [(RAINFOREST_RESIN, 10002, -1)], 'KELP': []}\n"
     ]
    }
   ],
   "source": [
    "trader = Trader()\n",
    "\n",
    "class Backtester():\n",
    "    def __init__(self, trader: Trader, market_data: pd.DataFrame, trade_history: pd.DataFrame, listings: dict[str, Listing], position_limits: dict[str, int]):\n",
    "        self.trader = trader\n",
    "        self.market_data = market_data\n",
    "        self.trade_history = trade_history\n",
    "        self.listings = listings\n",
    "        self.position_limits = position_limits\n",
    "\n",
    "    def construct_order_depths(group) -> dict[str, OrderDepth]:\n",
    "        order_depths = {}\n",
    "        for _, row in group.iterrows():\n",
    "            product = row['product']\n",
    "            order_depth = OrderDepth()\n",
    "\n",
    "            order_depth.buy_orders = {}\n",
    "            for i in range(1, 4):\n",
    "                bid_price = row[f'bid_price_{i}']\n",
    "                bid_volume = row[f'bid_volume_{i}']\n",
    "                if pd.notnull(bid_price):\n",
    "                    order_depth.buy_orders[bid_price] = bid_volume\n",
    "\n",
    "            order_depth.sell_orders = {}\n",
    "            for i in range(1, 4):\n",
    "                ask_price = row[f'ask_price_{i}']\n",
    "                ask_volume = -row[f'ask_volume_{i}']\n",
    "                if pd.notnull(ask_price):\n",
    "                    order_depth.sell_orders[ask_price] = ask_volume\n",
    "\n",
    "            order_depths[product] = order_depth\n",
    "        return order_depths\n",
    "\n",
    "    def match_orders(result: dict[str, list[Order]], order_depths: dict[str, OrderDepth]):\n",
    "        for product, orders in result.items():\n",
    "            order_depth = order_depths[product]\n",
    "            buy_orders = sorted(order_depth.buy_orders.items(), reverse=True)\n",
    "            sell_orders = sorted(order_depth.sell_orders.items())\n",
    "            \n",
    "\n",
    "\n",
    "listings = {\n",
    "    'RAINFOREST_RESIN': Listing(symbol='RAINFOREST_RESIN', product='RAINFOREST_RESIN', denomination='SEASHELLS'),\n",
    "    'KELP': Listing(symbol='KELP', product='KELP', denomination='SEASHELLS')\n",
    "}\n",
    "\n",
    "position_limits = {\n",
    "    'RAINFOREST_RESIN': 20,\n",
    "    'KELP': 20\n",
    "}\n",
    "\n",
    "trader_data = ''\n",
    "own_trades = {}\n",
    "market_trades = {}\n",
    "position = {}\n",
    "observation = 0\n",
    "\n",
    "for timestamp, group in market_data.groupby('timestamp'):\n",
    "    order_depths = construct_order_depths(group)\n",
    "    trading_state = TradingState(trader_data, timestamp, listings, order_depths, own_trades, market_trades, position, observation)\n",
    "    result, conversions, trader_data = trader.run(trading_state)\n",
    "    print(result)\n",
    "    break"
   ]
  }
 ],
 "metadata": {
  "kernelspec": {
   "display_name": ".venv",
   "language": "python",
   "name": "python3"
  },
  "language_info": {
   "codemirror_mode": {
    "name": "ipython",
    "version": 3
   },
   "file_extension": ".py",
   "mimetype": "text/x-python",
   "name": "python",
   "nbconvert_exporter": "python",
   "pygments_lexer": "ipython3",
   "version": "3.10.15"
  }
 },
 "nbformat": 4,
 "nbformat_minor": 2
}
