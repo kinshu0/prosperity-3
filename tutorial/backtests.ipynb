{
 "cells": [
  {
   "cell_type": "code",
   "execution_count": 1,
   "metadata": {},
   "outputs": [],
   "source": [
    "from backtester import Backtester, run_backtests, generate_param_combinations, read_trader_log\n",
    "\n",
    "from datamodel import Listing"
   ]
  },
  {
   "cell_type": "code",
   "execution_count": 2,
   "metadata": {},
   "outputs": [],
   "source": [
    "def calculate_kelp_fair(order_depth):\n",
    "    # assumes order_depth has orders in it \n",
    "    best_ask = min(order_depth.sell_orders.keys())\n",
    "    best_bid = max(order_depth.buy_orders.keys())\n",
    "    filtered_ask = [price for price in order_depth.sell_orders.keys() if abs(order_depth.sell_orders[price]) >= 15]\n",
    "    filtered_bid = [price for price in order_depth.buy_orders.keys() if abs(order_depth.buy_orders[price]) >= 15]\n",
    "    mm_ask = min(filtered_ask) if len(filtered_ask) > 0 else best_ask\n",
    "    mm_bid = max(filtered_bid) if len(filtered_bid) > 0 else best_bid\n",
    "\n",
    "    mmmid_price = (mm_ask + mm_bid) / 2\n",
    "    return mmmid_price\n",
    "    \n",
    "def calculate_resin_fair(order_depth):\n",
    "    return 10000\n",
    "\n",
    "listings = {\n",
    "    'RAINFOREST_RESIN': Listing(symbol='RAINFOREST_RESIN', product='RAINFOREST_RESIN', denomination='SEASHELLS'),\n",
    "    'KELP': Listing(symbol='KELP', product='KELP', denomination='SEASHELLS')\n",
    "}\n",
    "\n",
    "position_limit = {\n",
    "    'RAINFOREST_RESIN': 20,\n",
    "    'KELP': 20\n",
    "}\n",
    "\n",
    "fair_calculations = {\n",
    "    \"RAINFOREST_RESIN\": calculate_resin_fair,\n",
    "    \"KELP\": calculate_kelp_fair\n",
    "}\n"
   ]
  },
  {
   "cell_type": "markdown",
   "metadata": {},
   "source": [
    "- trader v0: initial trader params from p2 that has not been changed with same reversion beta and everything\n",
    "- trader v1: uses rolling mean instead of past prices to predict reversion?\n",
    "- trader v2: linreg w updated proper reversion beta"
   ]
  },
  {
   "cell_type": "code",
   "execution_count": 9,
   "metadata": {},
   "outputs": [],
   "source": [
    "# trader v0\n",
    "\n",
    "from trader_v0 import Trader, Product\n",
    "\n",
    "param_grid = {\n",
    "    Product.RESIN: {\n",
    "        \"fair_value\": [10000],\n",
    "        \"take_width\": [1],\n",
    "        \"clear_width\": [0],\n",
    "        # for making\n",
    "        \"disregard_edge\": [1],  # disregards orders for joining or pennying within this value from fair\n",
    "        \"join_edge\": [2],  # joins orders within this edge\n",
    "        \"default_edge\": [4],\n",
    "        \"soft_position_limit\": [10],\n",
    "    },\n",
    "    Product.KELP: {\n",
    "        \"take_width\": [1],\n",
    "        \"clear_width\": [0],\n",
    "        \"prevent_adverse\": [True],\n",
    "        \"adverse_volume\": [15],\n",
    "        \"reversion_beta\": [-0.229],\n",
    "        \"disregard_edge\": [1],\n",
    "        \"join_edge\": [0],\n",
    "        \"default_edge\": [1],\n",
    "    },\n",
    "}\n",
    "\n",
    "backtest_dir = \"backtests/v0/\""
   ]
  },
  {
   "cell_type": "markdown",
   "metadata": {},
   "source": [
    "trader v0\n",
    "\n",
    "```\n",
    "RAINFOREST_RESIN backtest pnl: 3010\n",
    "{'fair_value': 10000, 'take_width': 1, 'clear_width': 0, 'disregard_edge': 1, 'join_edge': 2, 'default_edge': 4, 'soft_position_limit': 10}\n",
    "\n",
    "KELP backtest pnl: 627.0\n",
    "{'take_width': 1, 'clear_width': 0, 'prevent_adverse': True, 'adverse_volume': 15, 'reversion_beta': -0.229, 'disregard_edge': 1, 'join_edge': 0, 'default_edge': 1}\n",
    "\n",
    "```"
   ]
  },
  {
   "cell_type": "code",
   "execution_count": 5,
   "metadata": {},
   "outputs": [],
   "source": [
    "# trader v1\n",
    "import trader_v1\n",
    "from importlib import reload\n",
    "reload(trader_v1)\n",
    "\n",
    "Trader = trader_v1.Trader\n",
    "Product = trader_v1.Product\n",
    "\n",
    "param_grid = {\n",
    "    Product.RESIN: {\n",
    "        \"fair_value\": [10000],\n",
    "        \"take_width\": [1],\n",
    "        \"clear_width\": [0],\n",
    "        # for making\n",
    "        \"disregard_edge\": [1],  # disregards orders for joining or pennying within this value from fair\n",
    "        \"join_edge\": [2],  # joins orders within this edge\n",
    "        \"default_edge\": [4],\n",
    "        \"soft_position_limit\": [10],\n",
    "    },\n",
    "    Product.KELP: {\n",
    "        \"take_width\": [1],\n",
    "        \"clear_width\": [0],\n",
    "        \"prevent_adverse\": [True],\n",
    "        \"adverse_volume\": [15],\n",
    "        \"disregard_edge\": [1],\n",
    "        \"join_edge\": [0],\n",
    "        \"default_edge\": [1],\n",
    "        'rolling_window_size': [2, 3, 4, 5, 6, 7, 8, 9, 10],\n",
    "    },\n",
    "}\n",
    "\n",
    "backtest_dir = \"backtests/v1/\""
   ]
  },
  {
   "cell_type": "markdown",
   "metadata": {},
   "source": [
    "simple rolling mean reversion\n",
    "```\n",
    "KELP PNL: 667.0\n",
    "{'take_width': 1, 'clear_width': 0, 'prevent_adverse': True, 'adverse_volume': 15, 'disregard_edge': 1, 'join_edge': 0, 'default_edge': 1, 'rolling_window_size': 3}\n",
    "KELP PNL: 655.0\n",
    "{'take_width': 1, 'clear_width': 0, 'prevent_adverse': True, 'adverse_volume': 15, 'disregard_edge': 1, 'join_edge': 0, 'default_edge': 1, 'rolling_window_size': 4}\n",
    "\n",
    "```"
   ]
  },
  {
   "cell_type": "code",
   "execution_count": 6,
   "metadata": {},
   "outputs": [],
   "source": [
    "# trader v2\n",
    "import trader_v2\n",
    "reload(trader_v2)\n",
    "\n",
    "Trader = trader_v2.Trader\n",
    "Product = trader_v2.Product\n",
    "\n",
    "param_grid = {\n",
    "    Product.RESIN: {\n",
    "        \"fair_value\": [10000],\n",
    "        \"take_width\": [1],\n",
    "        \"clear_width\": [0.5],\n",
    "        \"volume_limit\": [0],\n",
    "        # for making\n",
    "        \"disregard_edge\": [1],  # disregards orders for joining or pennying within this value from fair\n",
    "        \"join_edge\": [2],# joins orders within this edge \n",
    "        \"default_edge\": [4],\n",
    "        'soft_position_limit': [10]\n",
    "    },\n",
    "    Product.KELP: {\n",
    "        \"take_width\": [1],\n",
    "        \"clear_width\": [0],\n",
    "        \"prevent_adverse\": [True],\n",
    "        \"adverse_volume\": [15],\n",
    "        \"reversion_beta\": [-0.18172393033850867],\n",
    "        \"disregard_edge\": [1],\n",
    "        \"join_edge\": [0],\n",
    "        \"default_edge\": [1],\n",
    "    },\n",
    "}\n",
    "\n",
    "    # Product.KELP: {\n",
    "    #     \"take_width\": [1, 2, 3],\n",
    "    #     \"clear_width\": [-0.25, 0, 1],\n",
    "    #     \"prevent_adverse\": [True],\n",
    "    #     \"adverse_volume\": [15],\n",
    "    #     'reversion_beta': [-0.18172393033850867],\n",
    "    #     # for making\n",
    "    #     \"disregard_edge\": [1],\n",
    "    #     \"join_edge\": [3],\n",
    "    #     \"default_edge\": [5],\n",
    "    #     'soft_position_limit': [0]\n",
    "    # },\n",
    "\n",
    "backtest_dir = \"backtests/v2/\""
   ]
  },
  {
   "cell_type": "markdown",
   "metadata": {},
   "source": [
    "only changing reversion beta wout any other changes from v0\n",
    "```\n",
    "KELP PNL: 627.0\n",
    "{'take_width': 1, 'clear_width': 0, 'prevent_adverse': True, 'adverse_volume': 15, 'reversion_beta': -0.18172393033850867, 'disregard_edge': 1, 'join_edge': 0, 'default_edge': 1}\n",
    "```"
   ]
  },
  {
   "cell_type": "code",
   "execution_count": 7,
   "metadata": {},
   "outputs": [],
   "source": [
    "# backtesting different execution parameters\n",
    "reload(trader_v2)\n",
    "\n",
    "Trader = trader_v2.Trader\n",
    "Product = trader_v2.Product\n",
    "\n",
    "param_grid = {\n",
    "    Product.RESIN: {\n",
    "        \"fair_value\": [10000],\n",
    "        \"take_width\": [1],\n",
    "        \"clear_width\": [0.5],\n",
    "        \"volume_limit\": [0],\n",
    "        # for making\n",
    "        \"disregard_edge\": [1],  # disregards orders for joining or pennying within this value from fair\n",
    "        \"join_edge\": [2],# joins orders within this edge \n",
    "        \"default_edge\": [4],\n",
    "        'soft_position_limit': [10]\n",
    "    },\n",
    "    Product.KELP: {\n",
    "        \"take_width\": [0, 1, 2, 3],\n",
    "        \"clear_width\": [-0.25, 0, 1],\n",
    "        \"prevent_adverse\": [True, False],\n",
    "        \"adverse_volume\": [15],\n",
    "        'reversion_beta': [-0.18172393033850867],\n",
    "        # for making\n",
    "        \"disregard_edge\": [1],\n",
    "        \"join_edge\": [0],\n",
    "        \"default_edge\": [1],\n",
    "    },\n",
    "}\n",
    "\n",
    "\n",
    "backtest_dir = \"backtests/executionParams/\""
   ]
  },
  {
   "cell_type": "markdown",
   "metadata": {},
   "source": [
    "diff execution params:\n",
    "\n",
    "```\n",
    "KELP PNL: 688.0\n",
    "{'take_width': 2, 'clear_width': 1, 'prevent_adverse': True, 'adverse_volume': 15, 'reversion_beta': -0.18172393033850867, 'disregard_edge': 1, 'join_edge': 0, 'default_edge': 1}\n",
    "KELP PNL: 688.0\n",
    "{'take_width': 2, 'clear_width': 1, 'prevent_adverse': False, 'adverse_volume': 15, 'reversion_beta': -0.18172393033850867, 'disregard_edge': 1, 'join_edge': 0, 'default_edge': 1}\n",
    "KELP PNL: 688.0\n",
    "{'take_width': 3, 'clear_width': 1, 'prevent_adverse': True, 'adverse_volume': 15, 'reversion_beta': -0.18172393033850867, 'disregard_edge': 1, 'join_edge': 0, 'default_edge': 1}\n",
    "```"
   ]
  },
  {
   "cell_type": "code",
   "execution_count": 8,
   "metadata": {},
   "outputs": [],
   "source": [
    "market_data, trade_history = read_trader_log('logs/empty_submission.log')"
   ]
  },
  {
   "cell_type": "code",
   "execution_count": 9,
   "metadata": {},
   "outputs": [
    {
     "name": "stderr",
     "output_type": "stream",
     "text": [
      "Running backtests for RAINFOREST_RESIN: 100%|██████████| 1/1 [00:01<00:00,  1.06s/backtest]\n"
     ]
    },
    {
     "name": "stdout",
     "output_type": "stream",
     "text": [
      "RAINFOREST_RESIN results:\n",
      "RESIN PNL: 3010\n",
      "{'fair_value': 10000, 'take_width': 1, 'clear_width': 0.5, 'volume_limit': 0, 'disregard_edge': 1, 'join_edge': 2, 'default_edge': 4, 'soft_position_limit': 10}\n"
     ]
    },
    {
     "name": "stderr",
     "output_type": "stream",
     "text": [
      "Running backtests for KELP: 100%|██████████| 24/24 [00:18<00:00,  1.33backtest/s]"
     ]
    },
    {
     "name": "stdout",
     "output_type": "stream",
     "text": [
      "KELP results:\n",
      "KELP PNL: 688.0\n",
      "{'take_width': 2, 'clear_width': 1, 'prevent_adverse': True, 'adverse_volume': 15, 'reversion_beta': -0.18172393033850867, 'disregard_edge': 1, 'join_edge': 0, 'default_edge': 1}\n",
      "KELP PNL: 688.0\n",
      "{'take_width': 2, 'clear_width': 1, 'prevent_adverse': False, 'adverse_volume': 15, 'reversion_beta': -0.18172393033850867, 'disregard_edge': 1, 'join_edge': 0, 'default_edge': 1}\n",
      "KELP PNL: 688.0\n",
      "{'take_width': 3, 'clear_width': 1, 'prevent_adverse': True, 'adverse_volume': 15, 'reversion_beta': -0.18172393033850867, 'disregard_edge': 1, 'join_edge': 0, 'default_edge': 1}\n",
      "KELP PNL: 688.0\n",
      "{'take_width': 3, 'clear_width': 1, 'prevent_adverse': False, 'adverse_volume': 15, 'reversion_beta': -0.18172393033850867, 'disregard_edge': 1, 'join_edge': 0, 'default_edge': 1}\n",
      "KELP PNL: 659.0\n",
      "{'take_width': 2, 'clear_width': 0, 'prevent_adverse': True, 'adverse_volume': 15, 'reversion_beta': -0.18172393033850867, 'disregard_edge': 1, 'join_edge': 0, 'default_edge': 1}\n"
     ]
    },
    {
     "name": "stderr",
     "output_type": "stream",
     "text": [
      "\n"
     ]
    }
   ],
   "source": [
    "trader = Trader()\n",
    "\n",
    "resin_results = run_backtests(trader, listings, position_limit, fair_calculations, market_data, trade_history, backtest_dir, param_grid, \"RAINFOREST_RESIN\")\n",
    "resin_results.sort(key=lambda x: x[1], reverse=True)\n",
    "print(\"RAINFOREST_RESIN results:\")\n",
    "for params, pnl in resin_results[:5]:\n",
    "    print(f\"RESIN PNL: {pnl}\")\n",
    "    print(params)\n",
    "\n",
    "kelp_results = run_backtests(trader, listings, position_limit, fair_calculations, market_data, trade_history, backtest_dir, param_grid, \"KELP\")\n",
    "kelp_results.sort(key=lambda x: x[1], reverse=True)\n",
    "print(\"KELP results:\")\n",
    "for params, pnl in kelp_results[:5]: \n",
    "    print(f\"KELP PNL: {pnl}\")\n",
    "    print(params)"
   ]
  },
  {
   "cell_type": "code",
   "execution_count": 10,
   "metadata": {},
   "outputs": [
    {
     "data": {
      "text/plain": [
       "[({'take_width': 0,\n",
       "   'clear_width': 0,\n",
       "   'prevent_adverse': False,\n",
       "   'adverse_volume': 15,\n",
       "   'reversion_beta': -0.18172393033850867,\n",
       "   'disregard_edge': 1,\n",
       "   'join_edge': 0,\n",
       "   'default_edge': 1},\n",
       "  543.0),\n",
       " ({'take_width': 0,\n",
       "   'clear_width': -0.25,\n",
       "   'prevent_adverse': True,\n",
       "   'adverse_volume': 15,\n",
       "   'reversion_beta': -0.18172393033850867,\n",
       "   'disregard_edge': 1,\n",
       "   'join_edge': 0,\n",
       "   'default_edge': 1},\n",
       "  528.0),\n",
       " ({'take_width': 0,\n",
       "   'clear_width': -0.25,\n",
       "   'prevent_adverse': False,\n",
       "   'adverse_volume': 15,\n",
       "   'reversion_beta': -0.18172393033850867,\n",
       "   'disregard_edge': 1,\n",
       "   'join_edge': 0,\n",
       "   'default_edge': 1},\n",
       "  528.0)]"
      ]
     },
     "execution_count": 10,
     "metadata": {},
     "output_type": "execute_result"
    }
   ],
   "source": [
    "kelp_results[-3:]"
   ]
  },
  {
   "cell_type": "markdown",
   "metadata": {},
   "source": [
    "**So far rolling mean reversion has done better than all other strategies with same execution parameters!**\n",
    "\n",
    "Reversion pnl 667 as opposed to both reversion strategies with pnl 627, slight coefficient change didn't do anything for improvement.\n",
    "\n",
    "Definitely just have to optimize for execution parameters\n",
    "\n",
    "Doesn't this indicate our model is messed up or MUCH more likely that our execution is SEVERELY MESSED UP?"
   ]
  },
  {
   "cell_type": "code",
   "execution_count": 28,
   "metadata": {},
   "outputs": [],
   "source": [
    "# p9 code for trader\n",
    "import trader_p9\n",
    "Trader = trader_p9.Trader\n",
    "\n",
    "backtest_dir = 'backtests/trader_p9.log'\n",
    "\n",
    "trader = Trader()\n",
    "\n",
    "backtester = Backtester(trader, listings, position_limit, fair_calculations, market_data, trade_history, backtest_dir)\n",
    "backtester.run()"
   ]
  },
  {
   "cell_type": "code",
   "execution_count": 29,
   "metadata": {},
   "outputs": [
    {
     "data": {
      "text/plain": [
       "{'RAINFOREST_RESIN': 2220, 'KELP': 519.0}"
      ]
     },
     "execution_count": 29,
     "metadata": {},
     "output_type": "execute_result"
    }
   ],
   "source": [
    "backtester.pnl"
   ]
  },
  {
   "cell_type": "code",
   "execution_count": 11,
   "metadata": {},
   "outputs": [],
   "source": [
    "params = {'take_width': 2, 'clear_width': 1, 'prevent_adverse': True, 'adverse_volume': 15, 'reversion_beta': -0.18172393033850867, 'disregard_edge': 1, 'join_edge': 0, 'default_edge': 1}\n",
    "\n",
    "\n",
    "backtest_dir = 'backtests/executionParams'\n",
    "symbol = 'KELP'\n",
    "param_str = \";\".join([f\"{key}={value}\" for key, value in params.items()])\n",
    "log_filename = f\"{backtest_dir}/{symbol}_{param_str}.log\"\n",
    "\n",
    "\n",
    "from parse_log import parse_log\n",
    "\n",
    "sandbox, market, trades = parse_log(log_filename)\n"
   ]
  },
  {
   "cell_type": "code",
   "execution_count": 12,
   "metadata": {},
   "outputs": [],
   "source": [
    "import pandas as pd\n",
    "kelp_trades = trades[(trades['symbol'] == 'KELP') & ((trades['buyer'] == 'SUBMISSION') | (trades['seller'] == 'SUBMISSION'))]\n",
    "kelp_trade_vol = pd.DataFrame()\n",
    "\n",
    "kelp_trade_vol['timestamp'] = kelp_trades['timestamp']\n",
    "kelp_trade_vol['quantity'] = kelp_trades['quantity'] * ((kelp_trades['buyer'] == 'SUBMISSION') * 2 - 1)\n",
    "kelp_trade_vol['price'] = kelp_trades['price']"
   ]
  },
  {
   "cell_type": "code",
   "execution_count": 13,
   "metadata": {},
   "outputs": [
    {
     "data": {
      "text/plain": [
       "timestamp\n",
       "0         3\n",
       "2400      1\n",
       "3000      1\n",
       "3100      1\n",
       "3200      1\n",
       "         ..\n",
       "198800    1\n",
       "198900    1\n",
       "199000    1\n",
       "199100    1\n",
       "199400    1\n",
       "Length: 460, dtype: int64"
      ]
     },
     "execution_count": 13,
     "metadata": {},
     "output_type": "execute_result"
    }
   ],
   "source": [
    "kelp_trades.groupby('timestamp').size()"
   ]
  },
  {
   "cell_type": "code",
   "execution_count": 27,
   "metadata": {},
   "outputs": [
    {
     "data": {
      "text/plain": [
       "<Axes: xlabel='timestamp'>"
      ]
     },
     "execution_count": 27,
     "metadata": {},
     "output_type": "execute_result"
    },
    {
     "data": {
      "image/png": "[encoded data removed]",
      "text/plain": [
       "<Figure size 640x480 with 1 Axes>"
      ]
     },
     "metadata": {},
     "output_type": "display_data"
    }
   ],
   "source": [
    "kelp_trade_vol.groupby('timestamp')['quantity'].sum().sort_index().cumsum().plot()"
   ]
  },
  {
   "cell_type": "code",
   "execution_count": 48,
   "metadata": {},
   "outputs": [
    {
     "data": {
      "application/vnd.plotly.v1+json": {
       "config": {
        "plotlyServerURL": "https://plot.ly"
       },
       "data": [
        {
         "hovertemplate": "x=%{x}<br>y=%{y}<extra></extra>",
         "legendgroup": "",
         "line": {
          "color": "#636efa",
          "dash": "solid"
         },
         "marker": {
          "symbol": "circle"
         },
         "mode": "lines",
         "name": "",
         "showlegend": false,
         "type": "scattergl",
         "x": {
          "bdata": "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",
          "dtype": "i4"
         },
         "xaxis": "x",
         "y": {
          "bdata": "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",
          "dtype": "f8"
         },
         "yaxis": "y"
        }
       ],
       "layout": {
        "legend": {
         "tracegroupgap": 0
        },
        "margin": {
         "t": 60
        },
        "template": {
         "data": {
          "bar": [
           {
            "error_x": {
             "color": "#2a3f5f"
            },
            "error_y": {
             "color": "#2a3f5f"
            },
            "marker": {
             "line": {
              "color": "#E5ECF6",
              "width": 0.5
             },
             "pattern": {
              "fillmode": "overlay",
              "size": 10,
              "solidity": 0.2
             }
            },
            "type": "bar"
           }
          ],
          "barpolar": [
           {
            "marker": {
             "line": {
              "color": "#E5ECF6",
              "width": 0.5
             },
             "pattern": {
              "fillmode": "overlay",
              "size": 10,
              "solidity": 0.2
             }
            },
            "type": "barpolar"
           }
          ],
          "carpet": [
           {
            "aaxis": {
             "endlinecolor": "#2a3f5f",
             "gridcolor": "white",
             "linecolor": "white",
             "minorgridcolor": "white",
             "startlinecolor": "#2a3f5f"
            },
            "baxis": {
             "endlinecolor": "#2a3f5f",
             "gridcolor": "white",
             "linecolor": "white",
             "minorgridcolor": "white",
             "startlinecolor": "#2a3f5f"
            },
            "type": "carpet"
           }
          ],
          "choropleth": [
           {
            "colorbar": {
             "outlinewidth": 0,
             "ticks": ""
            },
            "type": "choropleth"
           }
          ],
          "contour": [
           {
            "colorbar": {
             "outlinewidth": 0,
             "ticks": ""
            },
            "colorscale": [
             [
              0,
              "#0d0887"
             ],
             [
              0.1111111111111111,
              "#46039f"
             ],
             [
              0.2222222222222222,
              "#7201a8"
             ],
             [
              0.3333333333333333,
              "#9c179e"
             ],
             [
              0.4444444444444444,
              "#bd3786"
             ],
             [
              0.5555555555555556,
              "#d8576b"
             ],
             [
              0.6666666666666666,
              "#ed7953"
             ],
             [
              0.7777777777777778,
              "#fb9f3a"
             ],
             [
              0.8888888888888888,
              "#fdca26"
             ],
             [
              1,
              "#f0f921"
             ]
            ],
            "type": "contour"
           }
          ],
          "contourcarpet": [
           {
            "colorbar": {
             "outlinewidth": 0,
             "ticks": ""
            },
            "type": "contourcarpet"
           }
          ],
          "heatmap": [
           {
            "colorbar": {
             "outlinewidth": 0,
             "ticks": ""
            },
            "colorscale": [
             [
              0,
              "#0d0887"
             ],
             [
              0.1111111111111111,
              "#46039f"
             ],
             [
              0.2222222222222222,
              "#7201a8"
             ],
             [
              0.3333333333333333,
              "#9c179e"
             ],
             [
              0.4444444444444444,
              "#bd3786"
             ],
             [
              0.5555555555555556,
              "#d8576b"
             ],
             [
              0.6666666666666666,
              "#ed7953"
             ],
             [
              0.7777777777777778,
              "#fb9f3a"
             ],
             [
              0.8888888888888888,
              "#fdca26"
             ],
             [
              1,
              "#f0f921"
             ]
            ],
            "type": "heatmap"
           }
          ],
          "histogram": [
           {
            "marker": {
             "pattern": {
              "fillmode": "overlay",
              "size": 10,
              "solidity": 0.2
             }
            },
            "type": "histogram"
           }
          ],
          "histogram2d": [
           {
            "colorbar": {
             "outlinewidth": 0,
             "ticks": ""
            },
            "colorscale": [
             [
              0,
              "#0d0887"
             ],
             [
              0.1111111111111111,
              "#46039f"
             ],
             [
              0.2222222222222222,
              "#7201a8"
             ],
             [
              0.3333333333333333,
              "#9c179e"
             ],
             [
              0.4444444444444444,
              "#bd3786"
             ],
             [
              0.5555555555555556,
              "#d8576b"
             ],
             [
              0.6666666666666666,
              "#ed7953"
             ],
             [
              0.7777777777777778,
              "#fb9f3a"
             ],
             [
              0.8888888888888888,
              "#fdca26"
             ],
             [
              1,
              "#f0f921"
             ]
            ],
            "type": "histogram2d"
           }
          ],
          "histogram2dcontour": [
           {
            "colorbar": {
             "outlinewidth": 0,
             "ticks": ""
            },
            "colorscale": [
             [
              0,
              "#0d0887"
             ],
             [
              0.1111111111111111,
              "#46039f"
             ],
             [
              0.2222222222222222,
              "#7201a8"
             ],
             [
              0.3333333333333333,
              "#9c179e"
             ],
             [
              0.4444444444444444,
              "#bd3786"
             ],
             [
              0.5555555555555556,
              "#d8576b"
             ],
             [
              0.6666666666666666,
              "#ed7953"
             ],
             [
              0.7777777777777778,
              "#fb9f3a"
             ],
             [
              0.8888888888888888,
              "#fdca26"
             ],
             [
              1,
              "#f0f921"
             ]
            ],
            "type": "histogram2dcontour"
           }
          ],
          "mesh3d": [
           {
            "colorbar": {
             "outlinewidth": 0,
             "ticks": ""
            },
            "type": "mesh3d"
           }
          ],
          "parcoords": [
           {
            "line": {
             "colorbar": {
              "outlinewidth": 0,
              "ticks": ""
             }
            },
            "type": "parcoords"
           }
          ],
          "pie": [
           {
            "automargin": true,
            "type": "pie"
           }
          ],
          "scatter": [
           {
            "fillpattern": {
             "fillmode": "overlay",
             "size": 10,
             "solidity": 0.2
            },
            "type": "scatter"
           }
          ],
          "scatter3d": [
           {
            "line": {
             "colorbar": {
              "outlinewidth": 0,
              "ticks": ""
             }
            },
            "marker": {
             "colorbar": {
              "outlinewidth": 0,
              "ticks": ""
             }
            },
            "type": "scatter3d"
           }
          ],
          "scattercarpet": [
           {
            "marker": {
             "colorbar": {
              "outlinewidth": 0,
              "ticks": ""
             }
            },
            "type": "scattercarpet"
           }
          ],
          "scattergeo": [
           {
            "marker": {
             "colorbar": {
              "outlinewidth": 0,
              "ticks": ""
             }
            },
            "type": "scattergeo"
           }
          ],
          "scattergl": [
           {
            "marker": {
             "colorbar": {
              "outlinewidth": 0,
              "ticks": ""
             }
            },
            "type": "scattergl"
           }
          ],
          "scattermap": [
           {
            "marker": {
             "colorbar": {
              "outlinewidth": 0,
              "ticks": ""
             }
            },
            "type": "scattermap"
           }
          ],
          "scattermapbox": [
           {
            "marker": {
             "colorbar": {
              "outlinewidth": 0,
              "ticks": ""
             }
            },
            "type": "scattermapbox"
           }
          ],
          "scatterpolar": [
           {
            "marker": {
             "colorbar": {
              "outlinewidth": 0,
              "ticks": ""
             }
            },
            "type": "scatterpolar"
           }
          ],
          "scatterpolargl": [
           {
            "marker": {
             "colorbar": {
              "outlinewidth": 0,
              "ticks": ""
             }
            },
            "type": "scatterpolargl"
           }
          ],
          "scatterternary": [
           {
            "marker": {
             "colorbar": {
              "outlinewidth": 0,
              "ticks": ""
             }
            },
            "type": "scatterternary"
           }
          ],
          "surface": [
           {
            "colorbar": {
             "outlinewidth": 0,
             "ticks": ""
            },
            "colorscale": [
             [
              0,
              "#0d0887"
             ],
             [
              0.1111111111111111,
              "#46039f"
             ],
             [
              0.2222222222222222,
              "#7201a8"
             ],
             [
              0.3333333333333333,
              "#9c179e"
             ],
             [
              0.4444444444444444,
              "#bd3786"
             ],
             [
              0.5555555555555556,
              "#d8576b"
             ],
             [
              0.6666666666666666,
              "#ed7953"
             ],
             [
              0.7777777777777778,
              "#fb9f3a"
             ],
             [
              0.8888888888888888,
              "#fdca26"
             ],
             [
              1,
              "#f0f921"
             ]
            ],
            "type": "surface"
           }
          ],
          "table": [
           {
            "cells": {
             "fill": {
              "color": "#EBF0F8"
             },
             "line": {
              "color": "white"
             }
            },
            "header": {
             "fill": {
              "color": "#C8D4E3"
             },
             "line": {
              "color": "white"
             }
            },
            "type": "table"
           }
          ]
         },
         "layout": {
          "annotationdefaults": {
           "arrowcolor": "#2a3f5f",
           "arrowhead": 0,
           "arrowwidth": 1
          },
          "autotypenumbers": "strict",
          "coloraxis": {
           "colorbar": {
            "outlinewidth": 0,
            "ticks": ""
           }
          },
          "colorscale": {
           "diverging": [
            [
             0,
             "#8e0152"
            ],
            [
             0.1,
             "#c51b7d"
            ],
            [
             0.2,
             "#de77ae"
            ],
            [
             0.3,
             "#f1b6da"
            ],
            [
             0.4,
             "#fde0ef"
            ],
            [
             0.5,
             "#f7f7f7"
            ],
            [
             0.6,
             "#e6f5d0"
            ],
            [
             0.7,
             "#b8e186"
            ],
            [
             0.8,
             "#7fbc41"
            ],
            [
             0.9,
             "#4d9221"
            ],
            [
             1,
             "#276419"
            ]
           ],
           "sequential": [
            [
             0,
             "#0d0887"
            ],
            [
             0.1111111111111111,
             "#46039f"
            ],
            [
             0.2222222222222222,
             "#7201a8"
            ],
            [
             0.3333333333333333,
             "#9c179e"
            ],
            [
             0.4444444444444444,
             "#bd3786"
            ],
            [
             0.5555555555555556,
             "#d8576b"
            ],
            [
             0.6666666666666666,
             "#ed7953"
            ],
            [
             0.7777777777777778,
             "#fb9f3a"
            ],
            [
             0.8888888888888888,
             "#fdca26"
            ],
            [
             1,
             "#f0f921"
            ]
           ],
           "sequentialminus": [
            [
             0,
             "#0d0887"
            ],
            [
             0.1111111111111111,
             "#46039f"
            ],
            [
             0.2222222222222222,
             "#7201a8"
            ],
            [
             0.3333333333333333,
             "#9c179e"
            ],
            [
             0.4444444444444444,
             "#bd3786"
            ],
            [
             0.5555555555555556,
             "#d8576b"
            ],
            [
             0.6666666666666666,
             "#ed7953"
            ],
            [
             0.7777777777777778,
             "#fb9f3a"
            ],
            [
             0.8888888888888888,
             "#fdca26"
            ],
            [
             1,
             "#f0f921"
            ]
           ]
          },
          "colorway": [
           "#636efa",
           "#EF553B",
           "#00cc96",
           "#ab63fa",
           "#FFA15A",
           "#19d3f3",
           "#FF6692",
           "#B6E880",
           "#FF97FF",
           "#FECB52"
          ],
          "font": {
           "color": "#2a3f5f"
          },
          "geo": {
           "bgcolor": "white",
           "lakecolor": "white",
           "landcolor": "#E5ECF6",
           "showlakes": true,
           "showland": true,
           "subunitcolor": "white"
          },
          "hoverlabel": {
           "align": "left"
          },
          "hovermode": "closest",
          "mapbox": {
           "style": "light"
          },
          "paper_bgcolor": "white",
          "plot_bgcolor": "#E5ECF6",
          "polar": {
           "angularaxis": {
            "gridcolor": "white",
            "linecolor": "white",
            "ticks": ""
           },
           "bgcolor": "#E5ECF6",
           "radialaxis": {
            "gridcolor": "white",
            "linecolor": "white",
            "ticks": ""
           }
          },
          "scene": {
           "xaxis": {
            "backgroundcolor": "#E5ECF6",
            "gridcolor": "white",
            "gridwidth": 2,
            "linecolor": "white",
            "showbackground": true,
            "ticks": "",
            "zerolinecolor": "white"
           },
           "yaxis": {
            "backgroundcolor": "#E5ECF6",
            "gridcolor": "white",
            "gridwidth": 2,
            "linecolor": "white",
            "showbackground": true,
            "ticks": "",
            "zerolinecolor": "white"
           },
           "zaxis": {
            "backgroundcolor": "#E5ECF6",
            "gridcolor": "white",
            "gridwidth": 2,
            "linecolor": "white",
            "showbackground": true,
            "ticks": "",
            "zerolinecolor": "white"
           }
          },
          "shapedefaults": {
           "line": {
            "color": "#2a3f5f"
           }
          },
          "ternary": {
           "aaxis": {
            "gridcolor": "white",
            "linecolor": "white",
            "ticks": ""
           },
           "baxis": {
            "gridcolor": "white",
            "linecolor": "white",
            "ticks": ""
           },
           "bgcolor": "#E5ECF6",
           "caxis": {
            "gridcolor": "white",
            "linecolor": "white",
            "ticks": ""
           }
          },
          "title": {
           "x": 0.05
          },
          "xaxis": {
           "automargin": true,
           "gridcolor": "white",
           "linecolor": "white",
           "ticks": "",
           "title": {
            "standoff": 15
           },
           "zerolinecolor": "white",
           "zerolinewidth": 2
          },
          "yaxis": {
           "automargin": true,
           "gridcolor": "white",
           "linecolor": "white",
           "ticks": "",
           "title": {
            "standoff": 15
           },
           "zerolinecolor": "white",
           "zerolinewidth": 2
          }
         }
        },
        "xaxis": {
         "anchor": "y",
         "domain": [
          0,
          1
         ],
         "title": {
          "text": "x"
         }
        },
        "yaxis": {
         "anchor": "x",
         "domain": [
          0,
          1
         ],
         "title": {
          "text": "y"
         }
        }
       }
      }
     },
     "metadata": {},
     "output_type": "display_data"
    }
   ],
   "source": [
    "import plotly.express as px\n",
    "\n",
    "kelp = market[market['product'] == 'KELP']\n",
    "px.line(x=kelp['timestamp'], y=kelp['profit_and_loss'])"
   ]
  }
 ],
 "metadata": {
  "kernelspec": {
   "display_name": ".venv",
   "language": "python",
   "name": "python3"
  },
  "language_info": {
   "codemirror_mode": {
    "name": "ipython",
    "version": 3
   },
   "file_extension": ".py",
   "mimetype": "text/x-python",
   "name": "python",
   "nbconvert_exporter": "python",
   "pygments_lexer": "ipython3",
   "version": "3.10.15"
  }
 },
 "nbformat": 4,
 "nbformat_minor": 2
}
