{
 "cells": [
  {
   "cell_type": "code",
   "execution_count": 170,
   "metadata": {
    "ExecuteTime": {
     "end_time": "2024-04-19T23:30:33.004109Z",
     "start_time": "2024-04-19T23:30:32.390117Z"
    }
   },
   "outputs": [],
   "source": [
    "import pandas as pd\n",
    "import numpy as np\n",
    "import plotly.graph_objects as go\n",
    "import plotly.express as px\n",
    "import statistics as st\n",
    "\n",
    "def get_df(day):\n",
    "    file_name = f\"./round3/prices_round_3_day_{day}.csv\"\n",
    "    return pd.read_csv(file_name, sep=';')\n",
    "\n",
    "def get_product(df, product):\n",
    "    return df[df['product'] == product].copy()\n",
    "\n",
    "def get_first_two_dfs():\n",
    "    first_df = get_df(0)\n",
    "    second_df = get_df(1)\n",
    "    second_df['timestamp'] = second_df['timestamp'] + 1000000\n",
    "    return pd.concat([first_df, second_df])\n",
    "\n"
   ]
  },
  {
   "cell_type": "code",
   "execution_count": 171,
   "metadata": {},
   "outputs": [],
   "source": [
    "class Product:\n",
    "    ROCK = 'VOLCANIC_ROCK'\n",
    "    VOUCHER_9500 = 'VOLCANIC_ROCK_VOUCHER_9500'\n",
    "    VOUCHER_9750 = 'VOLCANIC_ROCK_VOUCHER_9750'\n",
    "    VOUCHER_10000 = 'VOLCANIC_ROCK_VOUCHER_10000'\n",
    "    VOUCHER_10250 = 'VOLCANIC_ROCK_VOUCHER_10250'\n",
    "    VOUCHER_10500 = 'VOLCANIC_ROCK_VOUCHER_10500'\n",
    "\n",
    "position_limits = {\n",
    "    Product.ROCK: 400,\n",
    "    Product.VOUCHER_9500: 200,\n",
    "    Product.VOUCHER_9750: 200,\n",
    "    Product.VOUCHER_10000: 200,\n",
    "    Product.VOUCHER_10250: 200,\n",
    "    Product.VOUCHER_10500: 200\n",
    "}"
   ]
  },
  {
   "cell_type": "code",
   "execution_count": 172,
   "metadata": {},
   "outputs": [],
   "source": [
    "# prices = pd.read_csv('round2/prices_round_2_day_0.csv', sep=';')\n",
    "# trades = pd.read_csv('round2/trades_round_2_day_0_nn.csv', sep=';')\n",
    "prices = pd.concat([pd.read_csv(f'round3/prices_round_3_day_{i}.csv', sep=';') for i in range(3)], ignore_index=True)\n",
    "trades = pd.concat([pd.read_csv(f'round3/trades_round_3_day_{i}_nn.csv', sep=';') for i in range(3)], ignore_index=True)"
   ]
  },
  {
   "cell_type": "code",
   "execution_count": 173,
   "metadata": {},
   "outputs": [],
   "source": [
    "prices['swmid'] = (prices['bid_price_1'] * prices['ask_volume_1'] + prices['ask_price_1'] * prices['bid_volume_1']) / (prices['ask_volume_1'] + prices['bid_volume_1'])"
   ]
  },
  {
   "cell_type": "code",
   "execution_count": 174,
   "metadata": {},
   "outputs": [],
   "source": [
    "rock = prices[prices[\"product\"] == Product.ROCK].reset_index(drop=True).copy()\n",
    "voucher_9500 = prices[prices[\"product\"] == Product.VOUCHER_9500].reset_index(drop=True).copy()\n",
    "voucher_9750 = prices[prices[\"product\"] == Product.VOUCHER_9750].reset_index(drop=True).copy()\n",
    "voucher_10000 = prices[prices[\"product\"] == Product.VOUCHER_10000].reset_index(drop=True).copy()\n",
    "voucher_10250 = prices[prices[\"product\"] == Product.VOUCHER_10250].reset_index(drop=True).copy()\n",
    "voucher_10500 = prices[prices[\"product\"] == Product.VOUCHER_10500].reset_index(drop=True).copy()"
   ]
  },
  {
   "cell_type": "code",
   "execution_count": 175,
   "metadata": {},
   "outputs": [],
   "source": [
    "[rock, voucher_9500, voucher_9750, voucher_10000, voucher_10250, voucher_10500] = [df.rename(columns={'ask_price_1': 'ask_price', 'bid_price_1': 'bid_price', 'ask_volume_1': 'ask_volume', 'bid_volume_1': 'bid_volume'}) for df in [rock, voucher_9500, voucher_9750, voucher_10000, voucher_10250, voucher_10500]]"
   ]
  },
  {
   "cell_type": "code",
   "execution_count": 176,
   "metadata": {},
   "outputs": [],
   "source": [
    "rock = rock.drop(columns=['product'], axis=1).rename(columns={col: col + '_rock' for col in rock.columns if col not in ['timestamp', 'day']})\n",
    "voucher_9500 = voucher_9500.drop(columns=['product'], axis=1).rename(columns={col: col + '_voucher9500' for col in voucher_9500.columns if col not in ['timestamp', 'day']})\n",
    "voucher_9750 = voucher_9750.drop(columns=['product'], axis=1).rename(columns={col: col + '_voucher9750' for col in voucher_9750.columns if col not in ['timestamp', 'day']})\n",
    "voucher_10000 = voucher_10000.drop(columns=['product'], axis=1).rename(columns={col: col + '_voucher10000' for col in voucher_10000.columns if col not in ['timestamp', 'day']})\n",
    "voucher_10250 = voucher_10250.drop(columns=['product'], axis=1).rename(columns={col: col + '_voucher10250' for col in voucher_10250.columns if col not in ['timestamp', 'day']})\n",
    "voucher_10500 = voucher_10500.drop(columns=['product'], axis=1).rename(columns={col: col + '_voucher10500' for col in voucher_10500.columns if col not in ['timestamp', 'day']})"
   ]
  },
  {
   "cell_type": "code",
   "execution_count": 177,
   "metadata": {},
   "outputs": [
    {
     "data": {
      "text/html": [
       "<div>\n",
       "<style scoped>\n",
       "    .dataframe tbody tr th:only-of-type {\n",
       "        vertical-align: middle;\n",
       "    }\n",
       "\n",
       "    .dataframe tbody tr th {\n",
       "        vertical-align: top;\n",
       "    }\n",
       "\n",
       "    .dataframe thead th {\n",
       "        text-align: right;\n",
       "    }\n",
       "</style>\n",
       "<table border=\"1\" class=\"dataframe\">\n",
       "  <thead>\n",
       "    <tr style=\"text-align: right;\">\n",
       "      <th></th>\n",
       "      <th>day</th>\n",
       "      <th>timestamp</th>\n",
       "      <th>bid_price_rock</th>\n",
       "      <th>bid_volume_rock</th>\n",
       "      <th>bid_price_2_rock</th>\n",
       "      <th>bid_volume_2_rock</th>\n",
       "      <th>bid_price_3_rock</th>\n",
       "      <th>bid_volume_3_rock</th>\n",
       "      <th>ask_price_rock</th>\n",
       "      <th>ask_volume_rock</th>\n",
       "      <th>...</th>\n",
       "      <th>bid_volume_3_voucher10500</th>\n",
       "      <th>ask_price_voucher10500</th>\n",
       "      <th>ask_volume_voucher10500</th>\n",
       "      <th>ask_price_2_voucher10500</th>\n",
       "      <th>ask_volume_2_voucher10500</th>\n",
       "      <th>ask_price_3_voucher10500</th>\n",
       "      <th>ask_volume_3_voucher10500</th>\n",
       "      <th>mid_price_voucher10500</th>\n",
       "      <th>profit_and_loss_voucher10500</th>\n",
       "      <th>swmid_voucher10500</th>\n",
       "    </tr>\n",
       "  </thead>\n",
       "  <tbody>\n",
       "    <tr>\n",
       "      <th>0</th>\n",
       "      <td>0</td>\n",
       "      <td>0</td>\n",
       "      <td>10502.0</td>\n",
       "      <td>205.0</td>\n",
       "      <td>NaN</td>\n",
       "      <td>NaN</td>\n",
       "      <td>NaN</td>\n",
       "      <td>NaN</td>\n",
       "      <td>10504</td>\n",
       "      <td>146</td>\n",
       "      <td>...</td>\n",
       "      <td>NaN</td>\n",
       "      <td>100</td>\n",
       "      <td>19</td>\n",
       "      <td>NaN</td>\n",
       "      <td>NaN</td>\n",
       "      <td>NaN</td>\n",
       "      <td>NaN</td>\n",
       "      <td>99.5</td>\n",
       "      <td>0.0</td>\n",
       "      <td>99.5</td>\n",
       "    </tr>\n",
       "    <tr>\n",
       "      <th>1</th>\n",
       "      <td>0</td>\n",
       "      <td>100</td>\n",
       "      <td>10509.0</td>\n",
       "      <td>192.0</td>\n",
       "      <td>NaN</td>\n",
       "      <td>NaN</td>\n",
       "      <td>NaN</td>\n",
       "      <td>NaN</td>\n",
       "      <td>10511</td>\n",
       "      <td>122</td>\n",
       "      <td>...</td>\n",
       "      <td>NaN</td>\n",
       "      <td>103</td>\n",
       "      <td>13</td>\n",
       "      <td>NaN</td>\n",
       "      <td>NaN</td>\n",
       "      <td>NaN</td>\n",
       "      <td>NaN</td>\n",
       "      <td>102.5</td>\n",
       "      <td>0.0</td>\n",
       "      <td>102.5</td>\n",
       "    </tr>\n",
       "    <tr>\n",
       "      <th>2</th>\n",
       "      <td>0</td>\n",
       "      <td>200</td>\n",
       "      <td>10512.0</td>\n",
       "      <td>167.0</td>\n",
       "      <td>NaN</td>\n",
       "      <td>NaN</td>\n",
       "      <td>NaN</td>\n",
       "      <td>NaN</td>\n",
       "      <td>10514</td>\n",
       "      <td>109</td>\n",
       "      <td>...</td>\n",
       "      <td>NaN</td>\n",
       "      <td>105</td>\n",
       "      <td>15</td>\n",
       "      <td>NaN</td>\n",
       "      <td>NaN</td>\n",
       "      <td>NaN</td>\n",
       "      <td>NaN</td>\n",
       "      <td>104.5</td>\n",
       "      <td>0.0</td>\n",
       "      <td>104.5</td>\n",
       "    </tr>\n",
       "    <tr>\n",
       "      <th>3</th>\n",
       "      <td>0</td>\n",
       "      <td>300</td>\n",
       "      <td>10517.0</td>\n",
       "      <td>118.0</td>\n",
       "      <td>10516.0</td>\n",
       "      <td>68.0</td>\n",
       "      <td>NaN</td>\n",
       "      <td>NaN</td>\n",
       "      <td>10518</td>\n",
       "      <td>118</td>\n",
       "      <td>...</td>\n",
       "      <td>NaN</td>\n",
       "      <td>107</td>\n",
       "      <td>13</td>\n",
       "      <td>NaN</td>\n",
       "      <td>NaN</td>\n",
       "      <td>NaN</td>\n",
       "      <td>NaN</td>\n",
       "      <td>106.5</td>\n",
       "      <td>0.0</td>\n",
       "      <td>106.5</td>\n",
       "    </tr>\n",
       "    <tr>\n",
       "      <th>4</th>\n",
       "      <td>0</td>\n",
       "      <td>400</td>\n",
       "      <td>10509.0</td>\n",
       "      <td>128.0</td>\n",
       "      <td>10508.0</td>\n",
       "      <td>73.0</td>\n",
       "      <td>NaN</td>\n",
       "      <td>NaN</td>\n",
       "      <td>10510</td>\n",
       "      <td>128</td>\n",
       "      <td>...</td>\n",
       "      <td>NaN</td>\n",
       "      <td>103</td>\n",
       "      <td>15</td>\n",
       "      <td>NaN</td>\n",
       "      <td>NaN</td>\n",
       "      <td>NaN</td>\n",
       "      <td>NaN</td>\n",
       "      <td>102.5</td>\n",
       "      <td>0.0</td>\n",
       "      <td>102.5</td>\n",
       "    </tr>\n",
       "    <tr>\n",
       "      <th>...</th>\n",
       "      <td>...</td>\n",
       "      <td>...</td>\n",
       "      <td>...</td>\n",
       "      <td>...</td>\n",
       "      <td>...</td>\n",
       "      <td>...</td>\n",
       "      <td>...</td>\n",
       "      <td>...</td>\n",
       "      <td>...</td>\n",
       "      <td>...</td>\n",
       "      <td>...</td>\n",
       "      <td>...</td>\n",
       "      <td>...</td>\n",
       "      <td>...</td>\n",
       "      <td>...</td>\n",
       "      <td>...</td>\n",
       "      <td>...</td>\n",
       "      <td>...</td>\n",
       "      <td>...</td>\n",
       "      <td>...</td>\n",
       "      <td>...</td>\n",
       "    </tr>\n",
       "    <tr>\n",
       "      <th>29995</th>\n",
       "      <td>2</td>\n",
       "      <td>999500</td>\n",
       "      <td>10167.0</td>\n",
       "      <td>110.0</td>\n",
       "      <td>10166.0</td>\n",
       "      <td>51.0</td>\n",
       "      <td>NaN</td>\n",
       "      <td>NaN</td>\n",
       "      <td>10169</td>\n",
       "      <td>156</td>\n",
       "      <td>...</td>\n",
       "      <td>NaN</td>\n",
       "      <td>4</td>\n",
       "      <td>20</td>\n",
       "      <td>NaN</td>\n",
       "      <td>NaN</td>\n",
       "      <td>NaN</td>\n",
       "      <td>NaN</td>\n",
       "      <td>3.5</td>\n",
       "      <td>0.0</td>\n",
       "      <td>3.2</td>\n",
       "    </tr>\n",
       "    <tr>\n",
       "      <th>29996</th>\n",
       "      <td>2</td>\n",
       "      <td>999600</td>\n",
       "      <td>10166.0</td>\n",
       "      <td>161.0</td>\n",
       "      <td>NaN</td>\n",
       "      <td>NaN</td>\n",
       "      <td>NaN</td>\n",
       "      <td>NaN</td>\n",
       "      <td>10168</td>\n",
       "      <td>101</td>\n",
       "      <td>...</td>\n",
       "      <td>NaN</td>\n",
       "      <td>4</td>\n",
       "      <td>14</td>\n",
       "      <td>NaN</td>\n",
       "      <td>NaN</td>\n",
       "      <td>NaN</td>\n",
       "      <td>NaN</td>\n",
       "      <td>3.5</td>\n",
       "      <td>0.0</td>\n",
       "      <td>3.5</td>\n",
       "    </tr>\n",
       "    <tr>\n",
       "      <th>29997</th>\n",
       "      <td>2</td>\n",
       "      <td>999700</td>\n",
       "      <td>10166.0</td>\n",
       "      <td>143.0</td>\n",
       "      <td>10165.0</td>\n",
       "      <td>51.0</td>\n",
       "      <td>NaN</td>\n",
       "      <td>NaN</td>\n",
       "      <td>10168</td>\n",
       "      <td>194</td>\n",
       "      <td>...</td>\n",
       "      <td>NaN</td>\n",
       "      <td>4</td>\n",
       "      <td>13</td>\n",
       "      <td>NaN</td>\n",
       "      <td>NaN</td>\n",
       "      <td>NaN</td>\n",
       "      <td>NaN</td>\n",
       "      <td>3.5</td>\n",
       "      <td>0.0</td>\n",
       "      <td>3.5</td>\n",
       "    </tr>\n",
       "    <tr>\n",
       "      <th>29998</th>\n",
       "      <td>2</td>\n",
       "      <td>999800</td>\n",
       "      <td>10167.0</td>\n",
       "      <td>119.0</td>\n",
       "      <td>10166.0</td>\n",
       "      <td>57.0</td>\n",
       "      <td>NaN</td>\n",
       "      <td>NaN</td>\n",
       "      <td>10168</td>\n",
       "      <td>119</td>\n",
       "      <td>...</td>\n",
       "      <td>NaN</td>\n",
       "      <td>4</td>\n",
       "      <td>20</td>\n",
       "      <td>NaN</td>\n",
       "      <td>NaN</td>\n",
       "      <td>NaN</td>\n",
       "      <td>NaN</td>\n",
       "      <td>3.5</td>\n",
       "      <td>0.0</td>\n",
       "      <td>3.5</td>\n",
       "    </tr>\n",
       "    <tr>\n",
       "      <th>29999</th>\n",
       "      <td>2</td>\n",
       "      <td>999900</td>\n",
       "      <td>10166.0</td>\n",
       "      <td>137.0</td>\n",
       "      <td>10165.0</td>\n",
       "      <td>75.0</td>\n",
       "      <td>NaN</td>\n",
       "      <td>NaN</td>\n",
       "      <td>10167</td>\n",
       "      <td>137</td>\n",
       "      <td>...</td>\n",
       "      <td>NaN</td>\n",
       "      <td>4</td>\n",
       "      <td>20</td>\n",
       "      <td>NaN</td>\n",
       "      <td>NaN</td>\n",
       "      <td>NaN</td>\n",
       "      <td>NaN</td>\n",
       "      <td>3.5</td>\n",
       "      <td>0.0</td>\n",
       "      <td>3.5</td>\n",
       "    </tr>\n",
       "  </tbody>\n",
       "</table>\n",
       "<p>30000 rows × 92 columns</p>\n",
       "</div>"
      ],
      "text/plain": [
       "       day  timestamp  bid_price_rock  bid_volume_rock  bid_price_2_rock  \\\n",
       "0        0          0         10502.0            205.0               NaN   \n",
       "1        0        100         10509.0            192.0               NaN   \n",
       "2        0        200         10512.0            167.0               NaN   \n",
       "3        0        300         10517.0            118.0           10516.0   \n",
       "4        0        400         10509.0            128.0           10508.0   \n",
       "...    ...        ...             ...              ...               ...   \n",
       "29995    2     999500         10167.0            110.0           10166.0   \n",
       "29996    2     999600         10166.0            161.0               NaN   \n",
       "29997    2     999700         10166.0            143.0           10165.0   \n",
       "29998    2     999800         10167.0            119.0           10166.0   \n",
       "29999    2     999900         10166.0            137.0           10165.0   \n",
       "\n",
       "       bid_volume_2_rock  bid_price_3_rock  bid_volume_3_rock  ask_price_rock  \\\n",
       "0                    NaN               NaN                NaN           10504   \n",
       "1                    NaN               NaN                NaN           10511   \n",
       "2                    NaN               NaN                NaN           10514   \n",
       "3                   68.0               NaN                NaN           10518   \n",
       "4                   73.0               NaN                NaN           10510   \n",
       "...                  ...               ...                ...             ...   \n",
       "29995               51.0               NaN                NaN           10169   \n",
       "29996                NaN               NaN                NaN           10168   \n",
       "29997               51.0               NaN                NaN           10168   \n",
       "29998               57.0               NaN                NaN           10168   \n",
       "29999               75.0               NaN                NaN           10167   \n",
       "\n",
       "       ask_volume_rock  ...  bid_volume_3_voucher10500  \\\n",
       "0                  146  ...                        NaN   \n",
       "1                  122  ...                        NaN   \n",
       "2                  109  ...                        NaN   \n",
       "3                  118  ...                        NaN   \n",
       "4                  128  ...                        NaN   \n",
       "...                ...  ...                        ...   \n",
       "29995              156  ...                        NaN   \n",
       "29996              101  ...                        NaN   \n",
       "29997              194  ...                        NaN   \n",
       "29998              119  ...                        NaN   \n",
       "29999              137  ...                        NaN   \n",
       "\n",
       "       ask_price_voucher10500  ask_volume_voucher10500  \\\n",
       "0                         100                       19   \n",
       "1                         103                       13   \n",
       "2                         105                       15   \n",
       "3                         107                       13   \n",
       "4                         103                       15   \n",
       "...                       ...                      ...   \n",
       "29995                       4                       20   \n",
       "29996                       4                       14   \n",
       "29997                       4                       13   \n",
       "29998                       4                       20   \n",
       "29999                       4                       20   \n",
       "\n",
       "       ask_price_2_voucher10500  ask_volume_2_voucher10500  \\\n",
       "0                           NaN                        NaN   \n",
       "1                           NaN                        NaN   \n",
       "2                           NaN                        NaN   \n",
       "3                           NaN                        NaN   \n",
       "4                           NaN                        NaN   \n",
       "...                         ...                        ...   \n",
       "29995                       NaN                        NaN   \n",
       "29996                       NaN                        NaN   \n",
       "29997                       NaN                        NaN   \n",
       "29998                       NaN                        NaN   \n",
       "29999                       NaN                        NaN   \n",
       "\n",
       "       ask_price_3_voucher10500  ask_volume_3_voucher10500  \\\n",
       "0                           NaN                        NaN   \n",
       "1                           NaN                        NaN   \n",
       "2                           NaN                        NaN   \n",
       "3                           NaN                        NaN   \n",
       "4                           NaN                        NaN   \n",
       "...                         ...                        ...   \n",
       "29995                       NaN                        NaN   \n",
       "29996                       NaN                        NaN   \n",
       "29997                       NaN                        NaN   \n",
       "29998                       NaN                        NaN   \n",
       "29999                       NaN                        NaN   \n",
       "\n",
       "       mid_price_voucher10500  profit_and_loss_voucher10500  \\\n",
       "0                        99.5                           0.0   \n",
       "1                       102.5                           0.0   \n",
       "2                       104.5                           0.0   \n",
       "3                       106.5                           0.0   \n",
       "4                       102.5                           0.0   \n",
       "...                       ...                           ...   \n",
       "29995                     3.5                           0.0   \n",
       "29996                     3.5                           0.0   \n",
       "29997                     3.5                           0.0   \n",
       "29998                     3.5                           0.0   \n",
       "29999                     3.5                           0.0   \n",
       "\n",
       "       swmid_voucher10500  \n",
       "0                    99.5  \n",
       "1                   102.5  \n",
       "2                   104.5  \n",
       "3                   106.5  \n",
       "4                   102.5  \n",
       "...                   ...  \n",
       "29995                 3.2  \n",
       "29996                 3.5  \n",
       "29997                 3.5  \n",
       "29998                 3.5  \n",
       "29999                 3.5  \n",
       "\n",
       "[30000 rows x 92 columns]"
      ]
     },
     "execution_count": 177,
     "metadata": {},
     "output_type": "execute_result"
    }
   ],
   "source": [
    "# join croissants, james, djembes, basket1, basket2 on timestamp\n",
    "mk = rock.merge(voucher_9500, on=['day', 'timestamp'])\n",
    "mk = mk.merge(voucher_9750, on=['day', 'timestamp'])\n",
    "mk = mk.merge(voucher_10000, on=['day', 'timestamp'])\n",
    "mk = mk.merge(voucher_10250, on=['day', 'timestamp'])\n",
    "mk = mk.merge(voucher_10500, on=['day', 'timestamp'])\n",
    "mk"
   ]
  },
  {
   "cell_type": "code",
   "execution_count": 134,
   "metadata": {},
   "outputs": [],
   "source": [
    "trading_dte = 8 - mk['day']\n",
    "mk['time_to_expiry'] = 1 - mk['timestamp'] / (1_000_000 * trading_dte)"
   ]
  },
  {
   "cell_type": "code",
   "execution_count": 183,
   "metadata": {
    "ExecuteTime": {
     "end_time": "2024-04-19T23:30:34.015345Z",
     "start_time": "2024-04-19T23:30:33.919596Z"
    }
   },
   "outputs": [],
   "source": [
    "# df = get_first_two_dfs()\n",
    "q = mk['day'] == 1\n",
    "df = mk[q].copy()\n",
    "df['time_to_expiry'] = 1 - df['timestamp'] / (1_000_000 * 7)"
   ]
  },
  {
   "cell_type": "code",
   "execution_count": 184,
   "metadata": {
    "ExecuteTime": {
     "end_time": "2024-04-19T23:30:37.886766Z",
     "start_time": "2024-04-19T23:30:37.490363Z"
    }
   },
   "outputs": [
    {
     "data": {
      "application/vnd.plotly.v1+json": {
       "config": {
        "plotlyServerURL": "https://plot.ly"
       },
       "data": [
        {
         "name": "Rock Mid Price",
         "type": "scatter",
         "x": {
          "bdata": "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",
          "dtype": "i4"
         },
         "y": {
          "bdata": "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",
          "dtype": "f8"
         }
        },
        {
         "name": "Rock Call Mid Price",
         "type": "scatter",
         "x": {
          "bdata": "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",
          "dtype": "i4"
         },
         "y": {
          "bdata": "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",
          "dtype": "f8"
         },
         "yaxis": "y2"
        }
       ],
       "layout": {
        "template": {
         "data": {
          "bar": [
           {
            "error_x": {
             "color": "#2a3f5f"
            },
            "error_y": {
             "color": "#2a3f5f"
            },
            "marker": {
             "line": {
              "color": "#E5ECF6",
              "width": 0.5
             },
             "pattern": {
              "fillmode": "overlay",
              "size": 10,
              "solidity": 0.2
             }
            },
            "type": "bar"
           }
          ],
          "barpolar": [
           {
            "marker": {
             "line": {
              "color": "#E5ECF6",
              "width": 0.5
             },
             "pattern": {
              "fillmode": "overlay",
              "size": 10,
              "solidity": 0.2
             }
            },
            "type": "barpolar"
           }
          ],
          "carpet": [
           {
            "aaxis": {
             "endlinecolor": "#2a3f5f",
             "gridcolor": "white",
             "linecolor": "white",
             "minorgridcolor": "white",
             "startlinecolor": "#2a3f5f"
            },
            "baxis": {
             "endlinecolor": "#2a3f5f",
             "gridcolor": "white",
             "linecolor": "white",
             "minorgridcolor": "white",
             "startlinecolor": "#2a3f5f"
            },
            "type": "carpet"
           }
          ],
          "choropleth": [
           {
            "colorbar": {
             "outlinewidth": 0,
             "ticks": ""
            },
            "type": "choropleth"
           }
          ],
          "contour": [
           {
            "colorbar": {
             "outlinewidth": 0,
             "ticks": ""
            },
            "colorscale": [
             [
              0,
              "#0d0887"
             ],
             [
              0.1111111111111111,
              "#46039f"
             ],
             [
              0.2222222222222222,
              "#7201a8"
             ],
             [
              0.3333333333333333,
              "#9c179e"
             ],
             [
              0.4444444444444444,
              "#bd3786"
             ],
             [
              0.5555555555555556,
              "#d8576b"
             ],
             [
              0.6666666666666666,
              "#ed7953"
             ],
             [
              0.7777777777777778,
              "#fb9f3a"
             ],
             [
              0.8888888888888888,
              "#fdca26"
             ],
             [
              1,
              "#f0f921"
             ]
            ],
            "type": "contour"
           }
          ],
          "contourcarpet": [
           {
            "colorbar": {
             "outlinewidth": 0,
             "ticks": ""
            },
            "type": "contourcarpet"
           }
          ],
          "heatmap": [
           {
            "colorbar": {
             "outlinewidth": 0,
             "ticks": ""
            },
            "colorscale": [
             [
              0,
              "#0d0887"
             ],
             [
              0.1111111111111111,
              "#46039f"
             ],
             [
              0.2222222222222222,
              "#7201a8"
             ],
             [
              0.3333333333333333,
              "#9c179e"
             ],
             [
              0.4444444444444444,
              "#bd3786"
             ],
             [
              0.5555555555555556,
              "#d8576b"
             ],
             [
              0.6666666666666666,
              "#ed7953"
             ],
             [
              0.7777777777777778,
              "#fb9f3a"
             ],
             [
              0.8888888888888888,
              "#fdca26"
             ],
             [
              1,
              "#f0f921"
             ]
            ],
            "type": "heatmap"
           }
          ],
          "histogram": [
           {
            "marker": {
             "pattern": {
              "fillmode": "overlay",
              "size": 10,
              "solidity": 0.2
             }
            },
            "type": "histogram"
           }
          ],
          "histogram2d": [
           {
            "colorbar": {
             "outlinewidth": 0,
             "ticks": ""
            },
            "colorscale": [
             [
              0,
              "#0d0887"
             ],
             [
              0.1111111111111111,
              "#46039f"
             ],
             [
              0.2222222222222222,
              "#7201a8"
             ],
             [
              0.3333333333333333,
              "#9c179e"
             ],
             [
              0.4444444444444444,
              "#bd3786"
             ],
             [
              0.5555555555555556,
              "#d8576b"
             ],
             [
              0.6666666666666666,
              "#ed7953"
             ],
             [
              0.7777777777777778,
              "#fb9f3a"
             ],
             [
              0.8888888888888888,
              "#fdca26"
             ],
             [
              1,
              "#f0f921"
             ]
            ],
            "type": "histogram2d"
           }
          ],
          "histogram2dcontour": [
           {
            "colorbar": {
             "outlinewidth": 0,
             "ticks": ""
            },
            "colorscale": [
             [
              0,
              "#0d0887"
             ],
             [
              0.1111111111111111,
              "#46039f"
             ],
             [
              0.2222222222222222,
              "#7201a8"
             ],
             [
              0.3333333333333333,
              "#9c179e"
             ],
             [
              0.4444444444444444,
              "#bd3786"
             ],
             [
              0.5555555555555556,
              "#d8576b"
             ],
             [
              0.6666666666666666,
              "#ed7953"
             ],
             [
              0.7777777777777778,
              "#fb9f3a"
             ],
             [
              0.8888888888888888,
              "#fdca26"
             ],
             [
              1,
              "#f0f921"
             ]
            ],
            "type": "histogram2dcontour"
           }
          ],
          "mesh3d": [
           {
            "colorbar": {
             "outlinewidth": 0,
             "ticks": ""
            },
            "type": "mesh3d"
           }
          ],
          "parcoords": [
           {
            "line": {
             "colorbar": {
              "outlinewidth": 0,
              "ticks": ""
             }
            },
            "type": "parcoords"
           }
          ],
          "pie": [
           {
            "automargin": true,
            "type": "pie"
           }
          ],
          "scatter": [
           {
            "fillpattern": {
             "fillmode": "overlay",
             "size": 10,
             "solidity": 0.2
            },
            "type": "scatter"
           }
          ],
          "scatter3d": [
           {
            "line": {
             "colorbar": {
              "outlinewidth": 0,
              "ticks": ""
             }
            },
            "marker": {
             "colorbar": {
              "outlinewidth": 0,
              "ticks": ""
             }
            },
            "type": "scatter3d"
           }
          ],
          "scattercarpet": [
           {
            "marker": {
             "colorbar": {
              "outlinewidth": 0,
              "ticks": ""
             }
            },
            "type": "scattercarpet"
           }
          ],
          "scattergeo": [
           {
            "marker": {
             "colorbar": {
              "outlinewidth": 0,
              "ticks": ""
             }
            },
            "type": "scattergeo"
           }
          ],
          "scattergl": [
           {
            "marker": {
             "colorbar": {
              "outlinewidth": 0,
              "ticks": ""
             }
            },
            "type": "scattergl"
           }
          ],
          "scattermap": [
           {
            "marker": {
             "colorbar": {
              "outlinewidth": 0,
              "ticks": ""
             }
            },
            "type": "scattermap"
           }
          ],
          "scattermapbox": [
           {
            "marker": {
             "colorbar": {
              "outlinewidth": 0,
              "ticks": ""
             }
            },
            "type": "scattermapbox"
           }
          ],
          "scatterpolar": [
           {
            "marker": {
             "colorbar": {
              "outlinewidth": 0,
              "ticks": ""
             }
            },
            "type": "scatterpolar"
           }
          ],
          "scatterpolargl": [
           {
            "marker": {
             "colorbar": {
              "outlinewidth": 0,
              "ticks": ""
             }
            },
            "type": "scatterpolargl"
           }
          ],
          "scatterternary": [
           {
            "marker": {
             "colorbar": {
              "outlinewidth": 0,
              "ticks": ""
             }
            },
            "type": "scatterternary"
           }
          ],
          "surface": [
           {
            "colorbar": {
             "outlinewidth": 0,
             "ticks": ""
            },
            "colorscale": [
             [
              0,
              "#0d0887"
             ],
             [
              0.1111111111111111,
              "#46039f"
             ],
             [
              0.2222222222222222,
              "#7201a8"
             ],
             [
              0.3333333333333333,
              "#9c179e"
             ],
             [
              0.4444444444444444,
              "#bd3786"
             ],
             [
              0.5555555555555556,
              "#d8576b"
             ],
             [
              0.6666666666666666,
              "#ed7953"
             ],
             [
              0.7777777777777778,
              "#fb9f3a"
             ],
             [
              0.8888888888888888,
              "#fdca26"
             ],
             [
              1,
              "#f0f921"
             ]
            ],
            "type": "surface"
           }
          ],
          "table": [
           {
            "cells": {
             "fill": {
              "color": "#EBF0F8"
             },
             "line": {
              "color": "white"
             }
            },
            "header": {
             "fill": {
              "color": "#C8D4E3"
             },
             "line": {
              "color": "white"
             }
            },
            "type": "table"
           }
          ]
         },
         "layout": {
          "annotationdefaults": {
           "arrowcolor": "#2a3f5f",
           "arrowhead": 0,
           "arrowwidth": 1
          },
          "autotypenumbers": "strict",
          "coloraxis": {
           "colorbar": {
            "outlinewidth": 0,
            "ticks": ""
           }
          },
          "colorscale": {
           "diverging": [
            [
             0,
             "#8e0152"
            ],
            [
             0.1,
             "#c51b7d"
            ],
            [
             0.2,
             "#de77ae"
            ],
            [
             0.3,
             "#f1b6da"
            ],
            [
             0.4,
             "#fde0ef"
            ],
            [
             0.5,
             "#f7f7f7"
            ],
            [
             0.6,
             "#e6f5d0"
            ],
            [
             0.7,
             "#b8e186"
            ],
            [
             0.8,
             "#7fbc41"
            ],
            [
             0.9,
             "#4d9221"
            ],
            [
             1,
             "#276419"
            ]
           ],
           "sequential": [
            [
             0,
             "#0d0887"
            ],
            [
             0.1111111111111111,
             "#46039f"
            ],
            [
             0.2222222222222222,
             "#7201a8"
            ],
            [
             0.3333333333333333,
             "#9c179e"
            ],
            [
             0.4444444444444444,
             "#bd3786"
            ],
            [
             0.5555555555555556,
             "#d8576b"
            ],
            [
             0.6666666666666666,
             "#ed7953"
            ],
            [
             0.7777777777777778,
             "#fb9f3a"
            ],
            [
             0.8888888888888888,
             "#fdca26"
            ],
            [
             1,
             "#f0f921"
            ]
           ],
           "sequentialminus": [
            [
             0,
             "#0d0887"
            ],
            [
             0.1111111111111111,
             "#46039f"
            ],
            [
             0.2222222222222222,
             "#7201a8"
            ],
            [
             0.3333333333333333,
             "#9c179e"
            ],
            [
             0.4444444444444444,
             "#bd3786"
            ],
            [
             0.5555555555555556,
             "#d8576b"
            ],
            [
             0.6666666666666666,
             "#ed7953"
            ],
            [
             0.7777777777777778,
             "#fb9f3a"
            ],
            [
             0.8888888888888888,
             "#fdca26"
            ],
            [
             1,
             "#f0f921"
            ]
           ]
          },
          "colorway": [
           "#636efa",
           "#EF553B",
           "#00cc96",
           "#ab63fa",
           "#FFA15A",
           "#19d3f3",
           "#FF6692",
           "#B6E880",
           "#FF97FF",
           "#FECB52"
          ],
          "font": {
           "color": "#2a3f5f"
          },
          "geo": {
           "bgcolor": "white",
           "lakecolor": "white",
           "landcolor": "#E5ECF6",
           "showlakes": true,
           "showland": true,
           "subunitcolor": "white"
          },
          "hoverlabel": {
           "align": "left"
          },
          "hovermode": "closest",
          "mapbox": {
           "style": "light"
          },
          "paper_bgcolor": "white",
          "plot_bgcolor": "#E5ECF6",
          "polar": {
           "angularaxis": {
            "gridcolor": "white",
            "linecolor": "white",
            "ticks": ""
           },
           "bgcolor": "#E5ECF6",
           "radialaxis": {
            "gridcolor": "white",
            "linecolor": "white",
            "ticks": ""
           }
          },
          "scene": {
           "xaxis": {
            "backgroundcolor": "#E5ECF6",
            "gridcolor": "white",
            "gridwidth": 2,
            "linecolor": "white",
            "showbackground": true,
            "ticks": "",
            "zerolinecolor": "white"
           },
           "yaxis": {
            "backgroundcolor": "#E5ECF6",
            "gridcolor": "white",
            "gridwidth": 2,
            "linecolor": "white",
            "showbackground": true,
            "ticks": "",
            "zerolinecolor": "white"
           },
           "zaxis": {
            "backgroundcolor": "#E5ECF6",
            "gridcolor": "white",
            "gridwidth": 2,
            "linecolor": "white",
            "showbackground": true,
            "ticks": "",
            "zerolinecolor": "white"
           }
          },
          "shapedefaults": {
           "line": {
            "color": "#2a3f5f"
           }
          },
          "ternary": {
           "aaxis": {
            "gridcolor": "white",
            "linecolor": "white",
            "ticks": ""
           },
           "baxis": {
            "gridcolor": "white",
            "linecolor": "white",
            "ticks": ""
           },
           "bgcolor": "#E5ECF6",
           "caxis": {
            "gridcolor": "white",
            "linecolor": "white",
            "ticks": ""
           }
          },
          "title": {
           "x": 0.05
          },
          "xaxis": {
           "automargin": true,
           "gridcolor": "white",
           "linecolor": "white",
           "ticks": "",
           "title": {
            "standoff": 15
           },
           "zerolinecolor": "white",
           "zerolinewidth": 2
          },
          "yaxis": {
           "automargin": true,
           "gridcolor": "white",
           "linecolor": "white",
           "ticks": "",
           "title": {
            "standoff": 15
           },
           "zerolinecolor": "white",
           "zerolinewidth": 2
          }
         }
        },
        "title": {
         "text": "Rock and Rock Call Prices over Timestamp"
        },
        "yaxis": {
         "title": {
          "text": "Rock Mid Price"
         }
        },
        "yaxis2": {
         "overlaying": "y",
         "side": "right",
         "title": {
          "text": "Rock Call Bid Price"
         }
        }
       }
      }
     },
     "metadata": {},
     "output_type": "display_data"
    }
   ],
   "source": [
    "fig = go.Figure()\n",
    "fig.add_trace(go.Scatter(x=df['timestamp'], y=df['mid_price_rock'], name='Rock Mid Price'))\n",
    "fig.add_trace(go.Scatter(x=df['timestamp'], y=df['mid_price_voucher10000'], name='Rock Call Mid Price', yaxis='y2'))\n",
    "fig.update_layout(title='Rock and Rock Call Prices over Timestamp', yaxis=dict(title='Rock Mid Price'), yaxis2=dict(title='Rock Call Bid Price', overlaying='y', side='right'))\n",
    "fig.show()\n"
   ]
  },
  {
   "cell_type": "code",
   "execution_count": null,
   "metadata": {
    "ExecuteTime": {
     "end_time": "2024-04-20T00:37:18.444153Z",
     "start_time": "2024-04-20T00:37:18.415993Z"
    }
   },
   "outputs": [],
   "source": [
    "import numpy as np\n",
    "from scipy.stats import norm\n",
    "from scipy.optimize import brentq\n",
    "\n",
    "def black_scholes_call(spot, strike, time_to_expiry, volatility):\n",
    "    d1 = (np.log(spot / strike) + (0.5 * volatility ** 2) * time_to_expiry) / (volatility * np.sqrt(time_to_expiry))\n",
    "    d2 = d1 - volatility * np.sqrt(time_to_expiry)\n",
    "    call_price = (spot * norm.cdf(d1) - strike * norm.cdf(d2))\n",
    "    return call_price\n",
    "\n",
    "def black_scholes_put(spot, strike, time_to_expiry, volatility):\n",
    "    d1 = (np.log(spot / strike) + (0.5 * volatility ** 2) * time_to_expiry) / (volatility * np.sqrt(time_to_expiry))\n",
    "    d2 = d1 - volatility * np.sqrt(time_to_expiry)\n",
    "    put_price = (strike * norm.cdf(-d2) - spot * norm.cdf(-d1))\n",
    "    return put_price\n",
    "\n",
    "def delta(spot, strike, time_to_expiry, volatility):\n",
    "    d1 = (np.log(spot) - np.log(strike) + (0.5 * volatility ** 2) * time_to_expiry) / (volatility * np.sqrt(time_to_expiry))\n",
    "    return norm.cdf(d1)\n",
    "\n",
    "def gamma(spot, strike, time_to_expiry, volatility):\n",
    "    d1 = (np.log(spot) - np.log(strike) + (0.5 * volatility ** 2) * time_to_expiry) / (volatility * np.sqrt(time_to_expiry))\n",
    "    return norm.pdf(d1)/(spot * volatility * np.sqrt(time_to_expiry))\n",
    "\n",
    "def vega(spot, strike, time_to_expiry, volatility):\n",
    "    d1 = (np.log(spot) - np.log(strike) + (0.5 * volatility ** 2) * time_to_expiry) / (volatility * np.sqrt(time_to_expiry))\n",
    "    return norm.pdf(d1) * (spot * np.sqrt(time_to_expiry)) / 100\n",
    "\n",
    "def implied_volatility(call_price, spot, strike, time_to_expiry):\n",
    "    # Define the equation where the root is the implied volatility\n",
    "    def equation(volatility):\n",
    "        estimated_price = black_scholes_call(spot, strike, time_to_expiry, volatility)\n",
    "        return estimated_price - call_price\n",
    "\n",
    "    # Using Brent's method to find the root of the equation\n",
    "    implied_vol = brentq(equation, 1e-10, 3.0, xtol=1e-10)\n",
    "    return implied_vol\n",
    "\n",
    "def realized_vol(df_rock_call, window, step_size):\n",
    "    df_rock_call[f'log_return_{step_size}'] = np.log(df_rock_call['mid_price_rock'].to_numpy()/df_rock_call['mid_price_rock'].shift(step_size).to_numpy())\n",
    "    dt = step_size / 250 / 10000 \n",
    "    # dt = step_size / 250 / 10000 \n",
    "    df_rock_call[f'realized_vol_{step_size}'] = df_rock_call[f'log_return_{step_size}'].rolling(window=window).apply(lambda x: np.mean(x[::step_size]**2) / dt)\n",
    "    df_rock_call[f'realized_vol_{step_size}'] = np.sqrt(df_rock_call[f'realized_vol_{step_size}'].to_numpy())\n",
    "    return df_rock_call\n",
    "\n"
   ]
  },
  {
   "cell_type": "code",
   "execution_count": 186,
   "metadata": {},
   "outputs": [],
   "source": [
    "# spot_price = 10000        # Spot price of the underlying asset\n",
    "strike_price = 10000      # Strike price of the option\n",
    "# call_price = 637.5         # Market price of the call option\n",
    "# time_to_expiry = 1      # Time to expiry in years\n",
    "# initial_guess = 16\n",
    "# df['time_to_expiry'] = 1 - df['timestamp'] / 1000000 / 250\n",
    "df['implied_vol'] = df.apply(lambda row: implied_volatility(row[f'mid_price_voucher{strike_price}'], row['mid_price_rock'], strike_price, row['time_to_expiry']), axis=1)\n",
    "df['delta'] = df.apply(lambda row: delta(row['mid_price_rock'], strike_price, row['time_to_expiry'], row['implied_vol']), axis=1)\n",
    "df['gamma'] = df.apply(lambda row: gamma(row['mid_price_rock'], strike_price, row['time_to_expiry'], row['implied_vol']), axis=1)\n",
    "df['vega'] = df.apply(lambda row: vega(row['mid_price_rock'], strike_price, row['time_to_expiry'], row['implied_vol']), axis=1)"
   ]
  },
  {
   "cell_type": "code",
   "execution_count": 187,
   "metadata": {},
   "outputs": [
    {
     "data": {
      "text/html": [
       "<div>\n",
       "<style scoped>\n",
       "    .dataframe tbody tr th:only-of-type {\n",
       "        vertical-align: middle;\n",
       "    }\n",
       "\n",
       "    .dataframe tbody tr th {\n",
       "        vertical-align: top;\n",
       "    }\n",
       "\n",
       "    .dataframe thead th {\n",
       "        text-align: right;\n",
       "    }\n",
       "</style>\n",
       "<table border=\"1\" class=\"dataframe\">\n",
       "  <thead>\n",
       "    <tr style=\"text-align: right;\">\n",
       "      <th></th>\n",
       "      <th>mid_price_rock</th>\n",
       "      <th>mid_price_voucher10000</th>\n",
       "      <th>implied_vol</th>\n",
       "      <th>delta</th>\n",
       "      <th>gamma</th>\n",
       "      <th>vega</th>\n",
       "    </tr>\n",
       "  </thead>\n",
       "  <tbody>\n",
       "    <tr>\n",
       "      <th>10000</th>\n",
       "      <td>10516.0</td>\n",
       "      <td>517.5</td>\n",
       "      <td>0.023757</td>\n",
       "      <td>0.983401</td>\n",
       "      <td>0.000165</td>\n",
       "      <td>4.344013</td>\n",
       "    </tr>\n",
       "    <tr>\n",
       "      <th>10001</th>\n",
       "      <td>10515.0</td>\n",
       "      <td>516.5</td>\n",
       "      <td>0.023719</td>\n",
       "      <td>0.983375</td>\n",
       "      <td>0.000166</td>\n",
       "      <td>4.349271</td>\n",
       "    </tr>\n",
       "    <tr>\n",
       "      <th>10002</th>\n",
       "      <td>10515.0</td>\n",
       "      <td>516.5</td>\n",
       "      <td>0.023719</td>\n",
       "      <td>0.983375</td>\n",
       "      <td>0.000166</td>\n",
       "      <td>4.349239</td>\n",
       "    </tr>\n",
       "    <tr>\n",
       "      <th>10003</th>\n",
       "      <td>10517.0</td>\n",
       "      <td>519.5</td>\n",
       "      <td>0.025734</td>\n",
       "      <td>0.975679</td>\n",
       "      <td>0.000211</td>\n",
       "      <td>6.006137</td>\n",
       "    </tr>\n",
       "    <tr>\n",
       "      <th>10004</th>\n",
       "      <td>10519.5</td>\n",
       "      <td>521.5</td>\n",
       "      <td>0.024942</td>\n",
       "      <td>0.979478</td>\n",
       "      <td>0.000189</td>\n",
       "      <td>5.205629</td>\n",
       "    </tr>\n",
       "    <tr>\n",
       "      <th>10005</th>\n",
       "      <td>10517.5</td>\n",
       "      <td>519.5</td>\n",
       "      <td>0.024863</td>\n",
       "      <td>0.979417</td>\n",
       "      <td>0.000190</td>\n",
       "      <td>5.217862</td>\n",
       "    </tr>\n",
       "    <tr>\n",
       "      <th>10006</th>\n",
       "      <td>10515.5</td>\n",
       "      <td>517.5</td>\n",
       "      <td>0.024784</td>\n",
       "      <td>0.979354</td>\n",
       "      <td>0.000191</td>\n",
       "      <td>5.230167</td>\n",
       "    </tr>\n",
       "    <tr>\n",
       "      <th>10007</th>\n",
       "      <td>10516.0</td>\n",
       "      <td>517.5</td>\n",
       "      <td>0.023758</td>\n",
       "      <td>0.983401</td>\n",
       "      <td>0.000165</td>\n",
       "      <td>4.343796</td>\n",
       "    </tr>\n",
       "    <tr>\n",
       "      <th>10008</th>\n",
       "      <td>10515.5</td>\n",
       "      <td>517.5</td>\n",
       "      <td>0.024785</td>\n",
       "      <td>0.979354</td>\n",
       "      <td>0.000191</td>\n",
       "      <td>5.230092</td>\n",
       "    </tr>\n",
       "    <tr>\n",
       "      <th>10009</th>\n",
       "      <td>10517.0</td>\n",
       "      <td>518.0</td>\n",
       "      <td>0.022488</td>\n",
       "      <td>0.987870</td>\n",
       "      <td>0.000133</td>\n",
       "      <td>3.315545</td>\n",
       "    </tr>\n",
       "  </tbody>\n",
       "</table>\n",
       "</div>"
      ],
      "text/plain": [
       "       mid_price_rock  mid_price_voucher10000  implied_vol     delta  \\\n",
       "10000         10516.0                   517.5     0.023757  0.983401   \n",
       "10001         10515.0                   516.5     0.023719  0.983375   \n",
       "10002         10515.0                   516.5     0.023719  0.983375   \n",
       "10003         10517.0                   519.5     0.025734  0.975679   \n",
       "10004         10519.5                   521.5     0.024942  0.979478   \n",
       "10005         10517.5                   519.5     0.024863  0.979417   \n",
       "10006         10515.5                   517.5     0.024784  0.979354   \n",
       "10007         10516.0                   517.5     0.023758  0.983401   \n",
       "10008         10515.5                   517.5     0.024785  0.979354   \n",
       "10009         10517.0                   518.0     0.022488  0.987870   \n",
       "\n",
       "          gamma      vega  \n",
       "10000  0.000165  4.344013  \n",
       "10001  0.000166  4.349271  \n",
       "10002  0.000166  4.349239  \n",
       "10003  0.000211  6.006137  \n",
       "10004  0.000189  5.205629  \n",
       "10005  0.000190  5.217862  \n",
       "10006  0.000191  5.230167  \n",
       "10007  0.000165  4.343796  \n",
       "10008  0.000191  5.230092  \n",
       "10009  0.000133  3.315545  "
      ]
     },
     "execution_count": 187,
     "metadata": {},
     "output_type": "execute_result"
    }
   ],
   "source": [
    "df[['mid_price_rock', f'mid_price_voucher{strike_price}', 'implied_vol', 'delta', 'gamma', 'vega']].head(10)"
   ]
  },
  {
   "cell_type": "code",
   "execution_count": 188,
   "metadata": {},
   "outputs": [
    {
     "data": {
      "text/plain": [
       "np.float64(518.48338993158)"
      ]
     },
     "execution_count": 188,
     "metadata": {},
     "output_type": "execute_result"
    }
   ],
   "source": [
    "spot_price = 10_517\n",
    "strike_price = 10_000\n",
    "time_to_expiry = 1\n",
    "\n",
    "black_scholes_call(spot_price, strike_price, time_to_expiry, 0.023757)"
   ]
  },
  {
   "cell_type": "code",
   "execution_count": 190,
   "metadata": {},
   "outputs": [
    {
     "data": {
      "text/plain": [
       "np.float64(0.023052698192764183)"
      ]
     },
     "execution_count": 190,
     "metadata": {},
     "output_type": "execute_result"
    }
   ],
   "source": [
    "df['implied_vol'].mean()"
   ]
  },
  {
   "cell_type": "code",
   "execution_count": null,
   "metadata": {},
   "outputs": [
    {
     "data": {
      "text/html": [
       "<div>\n",
       "<style scoped>\n",
       "    .dataframe tbody tr th:only-of-type {\n",
       "        vertical-align: middle;\n",
       "    }\n",
       "\n",
       "    .dataframe tbody tr th {\n",
       "        vertical-align: top;\n",
       "    }\n",
       "\n",
       "    .dataframe thead th {\n",
       "        text-align: right;\n",
       "    }\n",
       "</style>\n",
       "<table border=\"1\" class=\"dataframe\">\n",
       "  <thead>\n",
       "    <tr style=\"text-align: right;\">\n",
       "      <th></th>\n",
       "      <th>day</th>\n",
       "      <th>timestamp</th>\n",
       "      <th>bid_price_rock</th>\n",
       "      <th>bid_volume_rock</th>\n",
       "      <th>bid_price_2_rock</th>\n",
       "      <th>bid_volume_2_rock</th>\n",
       "      <th>bid_price_3_rock</th>\n",
       "      <th>bid_volume_3_rock</th>\n",
       "      <th>ask_price_rock</th>\n",
       "      <th>ask_volume_rock</th>\n",
       "      <th>...</th>\n",
       "      <th>mid_price_voucher10500</th>\n",
       "      <th>profit_and_loss_voucher10500</th>\n",
       "      <th>swmid_voucher10500</th>\n",
       "      <th>time_to_expiry</th>\n",
       "      <th>implied_vol</th>\n",
       "      <th>delta</th>\n",
       "      <th>gamma</th>\n",
       "      <th>vega</th>\n",
       "      <th>log_return_1</th>\n",
       "      <th>realized_vol_1</th>\n",
       "    </tr>\n",
       "  </thead>\n",
       "  <tbody>\n",
       "    <tr>\n",
       "      <th>10000</th>\n",
       "      <td>1</td>\n",
       "      <td>0</td>\n",
       "      <td>10515.0</td>\n",
       "      <td>143.0</td>\n",
       "      <td>10514.0</td>\n",
       "      <td>57.0</td>\n",
       "      <td>NaN</td>\n",
       "      <td>NaN</td>\n",
       "      <td>10517</td>\n",
       "      <td>200</td>\n",
       "      <td>...</td>\n",
       "      <td>95.5</td>\n",
       "      <td>0.0</td>\n",
       "      <td>95.5</td>\n",
       "      <td>1.000000</td>\n",
       "      <td>0.023757</td>\n",
       "      <td>0.983401</td>\n",
       "      <td>0.000165</td>\n",
       "      <td>4.344013</td>\n",
       "      <td>NaN</td>\n",
       "      <td>NaN</td>\n",
       "    </tr>\n",
       "    <tr>\n",
       "      <th>10001</th>\n",
       "      <td>1</td>\n",
       "      <td>100</td>\n",
       "      <td>10514.0</td>\n",
       "      <td>104.0</td>\n",
       "      <td>10513.0</td>\n",
       "      <td>44.0</td>\n",
       "      <td>NaN</td>\n",
       "      <td>NaN</td>\n",
       "      <td>10516</td>\n",
       "      <td>104</td>\n",
       "      <td>...</td>\n",
       "      <td>94.5</td>\n",
       "      <td>0.0</td>\n",
       "      <td>94.5</td>\n",
       "      <td>0.999986</td>\n",
       "      <td>0.023719</td>\n",
       "      <td>0.983375</td>\n",
       "      <td>0.000166</td>\n",
       "      <td>4.349271</td>\n",
       "      <td>-0.000095</td>\n",
       "      <td>NaN</td>\n",
       "    </tr>\n",
       "    <tr>\n",
       "      <th>10002</th>\n",
       "      <td>1</td>\n",
       "      <td>200</td>\n",
       "      <td>10514.0</td>\n",
       "      <td>133.0</td>\n",
       "      <td>10513.0</td>\n",
       "      <td>62.0</td>\n",
       "      <td>NaN</td>\n",
       "      <td>NaN</td>\n",
       "      <td>10516</td>\n",
       "      <td>133</td>\n",
       "      <td>...</td>\n",
       "      <td>94.5</td>\n",
       "      <td>0.0</td>\n",
       "      <td>94.5</td>\n",
       "      <td>0.999971</td>\n",
       "      <td>0.023719</td>\n",
       "      <td>0.983375</td>\n",
       "      <td>0.000166</td>\n",
       "      <td>4.349239</td>\n",
       "      <td>0.000000</td>\n",
       "      <td>NaN</td>\n",
       "    </tr>\n",
       "    <tr>\n",
       "      <th>10003</th>\n",
       "      <td>1</td>\n",
       "      <td>300</td>\n",
       "      <td>10516.0</td>\n",
       "      <td>200.0</td>\n",
       "      <td>NaN</td>\n",
       "      <td>NaN</td>\n",
       "      <td>NaN</td>\n",
       "      <td>NaN</td>\n",
       "      <td>10518</td>\n",
       "      <td>149</td>\n",
       "      <td>...</td>\n",
       "      <td>95.5</td>\n",
       "      <td>0.0</td>\n",
       "      <td>95.5</td>\n",
       "      <td>0.999957</td>\n",
       "      <td>0.025734</td>\n",
       "      <td>0.975679</td>\n",
       "      <td>0.000211</td>\n",
       "      <td>6.006137</td>\n",
       "      <td>0.000190</td>\n",
       "      <td>NaN</td>\n",
       "    </tr>\n",
       "    <tr>\n",
       "      <th>10004</th>\n",
       "      <td>1</td>\n",
       "      <td>400</td>\n",
       "      <td>10519.0</td>\n",
       "      <td>108.0</td>\n",
       "      <td>10518.0</td>\n",
       "      <td>63.0</td>\n",
       "      <td>NaN</td>\n",
       "      <td>NaN</td>\n",
       "      <td>10520</td>\n",
       "      <td>103</td>\n",
       "      <td>...</td>\n",
       "      <td>97.5</td>\n",
       "      <td>0.0</td>\n",
       "      <td>97.5</td>\n",
       "      <td>0.999943</td>\n",
       "      <td>0.024942</td>\n",
       "      <td>0.979478</td>\n",
       "      <td>0.000189</td>\n",
       "      <td>5.205629</td>\n",
       "      <td>0.000238</td>\n",
       "      <td>NaN</td>\n",
       "    </tr>\n",
       "    <tr>\n",
       "      <th>...</th>\n",
       "      <td>...</td>\n",
       "      <td>...</td>\n",
       "      <td>...</td>\n",
       "      <td>...</td>\n",
       "      <td>...</td>\n",
       "      <td>...</td>\n",
       "      <td>...</td>\n",
       "      <td>...</td>\n",
       "      <td>...</td>\n",
       "      <td>...</td>\n",
       "      <td>...</td>\n",
       "      <td>...</td>\n",
       "      <td>...</td>\n",
       "      <td>...</td>\n",
       "      <td>...</td>\n",
       "      <td>...</td>\n",
       "      <td>...</td>\n",
       "      <td>...</td>\n",
       "      <td>...</td>\n",
       "      <td>...</td>\n",
       "      <td>...</td>\n",
       "    </tr>\n",
       "    <tr>\n",
       "      <th>19995</th>\n",
       "      <td>1</td>\n",
       "      <td>999500</td>\n",
       "      <td>10224.0</td>\n",
       "      <td>162.0</td>\n",
       "      <td>NaN</td>\n",
       "      <td>NaN</td>\n",
       "      <td>NaN</td>\n",
       "      <td>NaN</td>\n",
       "      <td>10225</td>\n",
       "      <td>8</td>\n",
       "      <td>...</td>\n",
       "      <td>9.5</td>\n",
       "      <td>0.0</td>\n",
       "      <td>9.5</td>\n",
       "      <td>0.857214</td>\n",
       "      <td>0.021300</td>\n",
       "      <td>0.871947</td>\n",
       "      <td>0.001038</td>\n",
       "      <td>19.817346</td>\n",
       "      <td>0.000245</td>\n",
       "      <td>0.371418</td>\n",
       "    </tr>\n",
       "    <tr>\n",
       "      <th>19996</th>\n",
       "      <td>1</td>\n",
       "      <td>999600</td>\n",
       "      <td>10225.0</td>\n",
       "      <td>130.0</td>\n",
       "      <td>10224.0</td>\n",
       "      <td>67.0</td>\n",
       "      <td>NaN</td>\n",
       "      <td>NaN</td>\n",
       "      <td>10226</td>\n",
       "      <td>130</td>\n",
       "      <td>...</td>\n",
       "      <td>9.5</td>\n",
       "      <td>0.0</td>\n",
       "      <td>9.5</td>\n",
       "      <td>0.857200</td>\n",
       "      <td>0.020852</td>\n",
       "      <td>0.877936</td>\n",
       "      <td>0.001026</td>\n",
       "      <td>19.166962</td>\n",
       "      <td>0.000098</td>\n",
       "      <td>0.372490</td>\n",
       "    </tr>\n",
       "    <tr>\n",
       "      <th>19997</th>\n",
       "      <td>1</td>\n",
       "      <td>999700</td>\n",
       "      <td>10221.0</td>\n",
       "      <td>162.0</td>\n",
       "      <td>NaN</td>\n",
       "      <td>NaN</td>\n",
       "      <td>NaN</td>\n",
       "      <td>NaN</td>\n",
       "      <td>10223</td>\n",
       "      <td>108</td>\n",
       "      <td>...</td>\n",
       "      <td>9.5</td>\n",
       "      <td>0.0</td>\n",
       "      <td>9.5</td>\n",
       "      <td>0.857186</td>\n",
       "      <td>0.020886</td>\n",
       "      <td>0.873930</td>\n",
       "      <td>0.001048</td>\n",
       "      <td>19.598134</td>\n",
       "      <td>-0.000342</td>\n",
       "      <td>0.378863</td>\n",
       "    </tr>\n",
       "    <tr>\n",
       "      <th>19998</th>\n",
       "      <td>1</td>\n",
       "      <td>999800</td>\n",
       "      <td>10223.0</td>\n",
       "      <td>122.0</td>\n",
       "      <td>10222.0</td>\n",
       "      <td>65.0</td>\n",
       "      <td>NaN</td>\n",
       "      <td>NaN</td>\n",
       "      <td>10224</td>\n",
       "      <td>116</td>\n",
       "      <td>...</td>\n",
       "      <td>9.5</td>\n",
       "      <td>0.0</td>\n",
       "      <td>9.5</td>\n",
       "      <td>0.857171</td>\n",
       "      <td>0.021733</td>\n",
       "      <td>0.866201</td>\n",
       "      <td>0.001049</td>\n",
       "      <td>20.425199</td>\n",
       "      <td>0.000147</td>\n",
       "      <td>0.378866</td>\n",
       "    </tr>\n",
       "    <tr>\n",
       "      <th>19999</th>\n",
       "      <td>1</td>\n",
       "      <td>999900</td>\n",
       "      <td>10220.0</td>\n",
       "      <td>120.0</td>\n",
       "      <td>10219.0</td>\n",
       "      <td>58.0</td>\n",
       "      <td>NaN</td>\n",
       "      <td>NaN</td>\n",
       "      <td>10221</td>\n",
       "      <td>120</td>\n",
       "      <td>...</td>\n",
       "      <td>8.5</td>\n",
       "      <td>0.0</td>\n",
       "      <td>8.5</td>\n",
       "      <td>0.857157</td>\n",
       "      <td>0.021042</td>\n",
       "      <td>0.870612</td>\n",
       "      <td>0.001059</td>\n",
       "      <td>19.951940</td>\n",
       "      <td>-0.000293</td>\n",
       "      <td>0.385908</td>\n",
       "    </tr>\n",
       "  </tbody>\n",
       "</table>\n",
       "<p>10000 rows × 99 columns</p>\n",
       "</div>"
      ],
      "text/plain": [
       "       day  timestamp  bid_price_rock  bid_volume_rock  bid_price_2_rock  \\\n",
       "10000    1          0         10515.0            143.0           10514.0   \n",
       "10001    1        100         10514.0            104.0           10513.0   \n",
       "10002    1        200         10514.0            133.0           10513.0   \n",
       "10003    1        300         10516.0            200.0               NaN   \n",
       "10004    1        400         10519.0            108.0           10518.0   \n",
       "...    ...        ...             ...              ...               ...   \n",
       "19995    1     999500         10224.0            162.0               NaN   \n",
       "19996    1     999600         10225.0            130.0           10224.0   \n",
       "19997    1     999700         10221.0            162.0               NaN   \n",
       "19998    1     999800         10223.0            122.0           10222.0   \n",
       "19999    1     999900         10220.0            120.0           10219.0   \n",
       "\n",
       "       bid_volume_2_rock  bid_price_3_rock  bid_volume_3_rock  ask_price_rock  \\\n",
       "10000               57.0               NaN                NaN           10517   \n",
       "10001               44.0               NaN                NaN           10516   \n",
       "10002               62.0               NaN                NaN           10516   \n",
       "10003                NaN               NaN                NaN           10518   \n",
       "10004               63.0               NaN                NaN           10520   \n",
       "...                  ...               ...                ...             ...   \n",
       "19995                NaN               NaN                NaN           10225   \n",
       "19996               67.0               NaN                NaN           10226   \n",
       "19997                NaN               NaN                NaN           10223   \n",
       "19998               65.0               NaN                NaN           10224   \n",
       "19999               58.0               NaN                NaN           10221   \n",
       "\n",
       "       ask_volume_rock  ...  mid_price_voucher10500  \\\n",
       "10000              200  ...                    95.5   \n",
       "10001              104  ...                    94.5   \n",
       "10002              133  ...                    94.5   \n",
       "10003              149  ...                    95.5   \n",
       "10004              103  ...                    97.5   \n",
       "...                ...  ...                     ...   \n",
       "19995                8  ...                     9.5   \n",
       "19996              130  ...                     9.5   \n",
       "19997              108  ...                     9.5   \n",
       "19998              116  ...                     9.5   \n",
       "19999              120  ...                     8.5   \n",
       "\n",
       "       profit_and_loss_voucher10500  swmid_voucher10500  time_to_expiry  \\\n",
       "10000                           0.0                95.5        1.000000   \n",
       "10001                           0.0                94.5        0.999986   \n",
       "10002                           0.0                94.5        0.999971   \n",
       "10003                           0.0                95.5        0.999957   \n",
       "10004                           0.0                97.5        0.999943   \n",
       "...                             ...                 ...             ...   \n",
       "19995                           0.0                 9.5        0.857214   \n",
       "19996                           0.0                 9.5        0.857200   \n",
       "19997                           0.0                 9.5        0.857186   \n",
       "19998                           0.0                 9.5        0.857171   \n",
       "19999                           0.0                 8.5        0.857157   \n",
       "\n",
       "       implied_vol     delta     gamma       vega  log_return_1  \\\n",
       "10000     0.023757  0.983401  0.000165   4.344013           NaN   \n",
       "10001     0.023719  0.983375  0.000166   4.349271     -0.000095   \n",
       "10002     0.023719  0.983375  0.000166   4.349239      0.000000   \n",
       "10003     0.025734  0.975679  0.000211   6.006137      0.000190   \n",
       "10004     0.024942  0.979478  0.000189   5.205629      0.000238   \n",
       "...            ...       ...       ...        ...           ...   \n",
       "19995     0.021300  0.871947  0.001038  19.817346      0.000245   \n",
       "19996     0.020852  0.877936  0.001026  19.166962      0.000098   \n",
       "19997     0.020886  0.873930  0.001048  19.598134     -0.000342   \n",
       "19998     0.021733  0.866201  0.001049  20.425199      0.000147   \n",
       "19999     0.021042  0.870612  0.001059  19.951940     -0.000293   \n",
       "\n",
       "       realized_vol_1  \n",
       "10000             NaN  \n",
       "10001             NaN  \n",
       "10002             NaN  \n",
       "10003             NaN  \n",
       "10004             NaN  \n",
       "...               ...  \n",
       "19995        0.371418  \n",
       "19996        0.372490  \n",
       "19997        0.378863  \n",
       "19998        0.378866  \n",
       "19999        0.385908  \n",
       "\n",
       "[10000 rows x 99 columns]"
      ]
     },
     "execution_count": 191,
     "metadata": {},
     "output_type": "execute_result"
    }
   ],
   "source": [
    "dfc = df.copy()\n",
    "realized_vol(dfc, 30, 1)['realized_vol_1']"
   ]
  },
  {
   "cell_type": "code",
   "execution_count": 206,
   "metadata": {},
   "outputs": [
    {
     "data": {
      "text/plain": [
       "np.float64(0.00012557409016140237)"
      ]
     },
     "execution_count": 206,
     "metadata": {},
     "output_type": "execute_result"
    }
   ],
   "source": [
    "np.log(df['mid_price_rock'] / df['mid_price_rock'].shift(1)).var() * (10000 * 365) ** (1/2)"
   ]
  },
  {
   "cell_type": "code",
   "execution_count": null,
   "metadata": {},
   "outputs": [],
   "source": []
  },
  {
   "cell_type": "code",
   "execution_count": 136,
   "metadata": {
    "ExecuteTime": {
     "end_time": "2024-04-19T23:30:59.315043Z",
     "start_time": "2024-04-19T23:30:58.943376Z"
    }
   },
   "outputs": [
    {
     "ename": "ValueError",
     "evalue": "Value of 'y' is not the name of a column in 'data_frame'. Expected one of ['day', 'timestamp', 'bid_price_rock', 'bid_volume_rock', 'bid_price_2_rock', 'bid_volume_2_rock', 'bid_price_3_rock', 'bid_volume_3_rock', 'ask_price_rock', 'ask_volume_rock', 'ask_price_2_rock', 'ask_volume_2_rock', 'ask_price_3_rock', 'ask_volume_3_rock', 'mid_price_rock', 'profit_and_loss_rock', 'swmid_rock', 'bid_price_voucher9500', 'bid_volume_voucher9500', 'bid_price_2_voucher9500', 'bid_volume_2_voucher9500', 'bid_price_3_voucher9500', 'bid_volume_3_voucher9500', 'ask_price_voucher9500', 'ask_volume_voucher9500', 'ask_price_2_voucher9500', 'ask_volume_2_voucher9500', 'ask_price_3_voucher9500', 'ask_volume_3_voucher9500', 'mid_price_voucher9500', 'profit_and_loss_voucher9500', 'swmid_voucher9500', 'bid_price_voucher9750', 'bid_volume_voucher9750', 'bid_price_2_voucher9750', 'bid_volume_2_voucher9750', 'bid_price_3_voucher9750', 'bid_volume_3_voucher9750', 'ask_price_voucher9750', 'ask_volume_voucher9750', 'ask_price_2_voucher9750', 'ask_volume_2_voucher9750', 'ask_price_3_voucher9750', 'ask_volume_3_voucher9750', 'mid_price_voucher9750', 'profit_and_loss_voucher9750', 'swmid_voucher9750', 'bid_price_voucher10000', 'bid_volume_voucher10000', 'bid_price_2_voucher10000', 'bid_volume_2_voucher10000', 'bid_price_3_voucher10000', 'bid_volume_3_voucher10000', 'ask_price_voucher10000', 'ask_volume_voucher10000', 'ask_price_2_voucher10000', 'ask_volume_2_voucher10000', 'ask_price_3_voucher10000', 'ask_volume_3_voucher10000', 'mid_price_voucher10000', 'profit_and_loss_voucher10000', 'swmid_voucher10000', 'bid_price_voucher10250', 'bid_volume_voucher10250', 'bid_price_2_voucher10250', 'bid_volume_2_voucher10250', 'bid_price_3_voucher10250', 'bid_volume_3_voucher10250', 'ask_price_voucher10250', 'ask_volume_voucher10250', 'ask_price_2_voucher10250', 'ask_volume_2_voucher10250', 'ask_price_3_voucher10250', 'ask_volume_3_voucher10250', 'mid_price_voucher10250', 'profit_and_loss_voucher10250', 'swmid_voucher10250', 'bid_price_voucher10500', 'bid_volume_voucher10500', 'bid_price_2_voucher10500', 'bid_volume_2_voucher10500', 'bid_price_3_voucher10500', 'bid_volume_3_voucher10500', 'ask_price_voucher10500', 'ask_volume_voucher10500', 'ask_price_2_voucher10500', 'ask_volume_2_voucher10500', 'ask_price_3_voucher10500', 'ask_volume_3_voucher10500', 'mid_price_voucher10500', 'profit_and_loss_voucher10500', 'swmid_voucher10500', 'time_to_expiry'] but received: delta",
     "output_type": "error",
     "traceback": [
      "\u001b[0;31m---------------------------------------------------------------------------\u001b[0m",
      "\u001b[0;31mValueError\u001b[0m                                Traceback (most recent call last)",
      "Cell \u001b[0;32mIn[136], line 3\u001b[0m\n\u001b[1;32m      1\u001b[0m \u001b[38;5;28;01mimport\u001b[39;00m\u001b[38;5;250m \u001b[39m\u001b[38;5;21;01mplotly\u001b[39;00m\u001b[38;5;21;01m.\u001b[39;00m\u001b[38;5;21;01mexpress\u001b[39;00m\u001b[38;5;250m \u001b[39m\u001b[38;5;28;01mas\u001b[39;00m\u001b[38;5;250m \u001b[39m\u001b[38;5;21;01mpx\u001b[39;00m\n\u001b[0;32m----> 3\u001b[0m fig \u001b[38;5;241m=\u001b[39m \u001b[43mpx\u001b[49m\u001b[38;5;241;43m.\u001b[39;49m\u001b[43mline\u001b[49m\u001b[43m(\u001b[49m\u001b[43mdf\u001b[49m\u001b[43m,\u001b[49m\u001b[43m \u001b[49m\u001b[43mx\u001b[49m\u001b[38;5;241;43m=\u001b[39;49m\u001b[38;5;124;43m'\u001b[39;49m\u001b[38;5;124;43mtimestamp\u001b[39;49m\u001b[38;5;124;43m'\u001b[39;49m\u001b[43m,\u001b[49m\u001b[43m \u001b[49m\u001b[43my\u001b[49m\u001b[38;5;241;43m=\u001b[39;49m\u001b[38;5;124;43m'\u001b[39;49m\u001b[38;5;124;43mdelta\u001b[39;49m\u001b[38;5;124;43m'\u001b[39;49m\u001b[43m,\u001b[49m\u001b[43m \u001b[49m\u001b[43mtitle\u001b[49m\u001b[38;5;241;43m=\u001b[39;49m\u001b[38;5;124;43m'\u001b[39;49m\u001b[38;5;124;43mDelta over Time\u001b[39;49m\u001b[38;5;124;43m'\u001b[39;49m\u001b[43m)\u001b[49m\n\u001b[1;32m      4\u001b[0m fig\u001b[38;5;241m.\u001b[39mshow()\n",
      "File \u001b[0;32m~/Desktop/spacepirate/prosperity-3/.venv/lib/python3.10/site-packages/plotly/express/_chart_types.py:270\u001b[0m, in \u001b[0;36mline\u001b[0;34m(data_frame, x, y, line_group, color, line_dash, symbol, hover_name, hover_data, custom_data, text, facet_row, facet_col, facet_col_wrap, facet_row_spacing, facet_col_spacing, error_x, error_x_minus, error_y, error_y_minus, animation_frame, animation_group, category_orders, labels, orientation, color_discrete_sequence, color_discrete_map, line_dash_sequence, line_dash_map, symbol_sequence, symbol_map, markers, log_x, log_y, range_x, range_y, line_shape, render_mode, title, subtitle, template, width, height)\u001b[0m\n\u001b[1;32m    221\u001b[0m \u001b[38;5;28;01mdef\u001b[39;00m\u001b[38;5;250m \u001b[39m\u001b[38;5;21mline\u001b[39m(\n\u001b[1;32m    222\u001b[0m     data_frame\u001b[38;5;241m=\u001b[39m\u001b[38;5;28;01mNone\u001b[39;00m,\n\u001b[1;32m    223\u001b[0m     x\u001b[38;5;241m=\u001b[39m\u001b[38;5;28;01mNone\u001b[39;00m,\n\u001b[0;32m   (...)\u001b[0m\n\u001b[1;32m    264\u001b[0m     height\u001b[38;5;241m=\u001b[39m\u001b[38;5;28;01mNone\u001b[39;00m,\n\u001b[1;32m    265\u001b[0m ) \u001b[38;5;241m-\u001b[39m\u001b[38;5;241m>\u001b[39m go\u001b[38;5;241m.\u001b[39mFigure:\n\u001b[1;32m    266\u001b[0m \u001b[38;5;250m    \u001b[39m\u001b[38;5;124;03m\"\"\"\u001b[39;00m\n\u001b[1;32m    267\u001b[0m \u001b[38;5;124;03m    In a 2D line plot, each row of `data_frame` is represented as a vertex of\u001b[39;00m\n\u001b[1;32m    268\u001b[0m \u001b[38;5;124;03m    a polyline mark in 2D space.\u001b[39;00m\n\u001b[1;32m    269\u001b[0m \u001b[38;5;124;03m    \"\"\"\u001b[39;00m\n\u001b[0;32m--> 270\u001b[0m     \u001b[38;5;28;01mreturn\u001b[39;00m \u001b[43mmake_figure\u001b[49m\u001b[43m(\u001b[49m\u001b[43margs\u001b[49m\u001b[38;5;241;43m=\u001b[39;49m\u001b[38;5;28;43mlocals\u001b[39;49m\u001b[43m(\u001b[49m\u001b[43m)\u001b[49m\u001b[43m,\u001b[49m\u001b[43m \u001b[49m\u001b[43mconstructor\u001b[49m\u001b[38;5;241;43m=\u001b[39;49m\u001b[43mgo\u001b[49m\u001b[38;5;241;43m.\u001b[39;49m\u001b[43mScatter\u001b[49m\u001b[43m)\u001b[49m\n",
      "File \u001b[0;32m~/Desktop/spacepirate/prosperity-3/.venv/lib/python3.10/site-packages/plotly/express/_core.py:2479\u001b[0m, in \u001b[0;36mmake_figure\u001b[0;34m(args, constructor, trace_patch, layout_patch)\u001b[0m\n\u001b[1;32m   2476\u001b[0m layout_patch \u001b[38;5;241m=\u001b[39m layout_patch \u001b[38;5;129;01mor\u001b[39;00m {}\n\u001b[1;32m   2477\u001b[0m apply_default_cascade(args)\n\u001b[0;32m-> 2479\u001b[0m args \u001b[38;5;241m=\u001b[39m \u001b[43mbuild_dataframe\u001b[49m\u001b[43m(\u001b[49m\u001b[43margs\u001b[49m\u001b[43m,\u001b[49m\u001b[43m \u001b[49m\u001b[43mconstructor\u001b[49m\u001b[43m)\u001b[49m\n\u001b[1;32m   2480\u001b[0m \u001b[38;5;28;01mif\u001b[39;00m constructor \u001b[38;5;129;01min\u001b[39;00m [go\u001b[38;5;241m.\u001b[39mTreemap, go\u001b[38;5;241m.\u001b[39mSunburst, go\u001b[38;5;241m.\u001b[39mIcicle] \u001b[38;5;129;01mand\u001b[39;00m args[\u001b[38;5;124m\"\u001b[39m\u001b[38;5;124mpath\u001b[39m\u001b[38;5;124m\"\u001b[39m] \u001b[38;5;129;01mis\u001b[39;00m \u001b[38;5;129;01mnot\u001b[39;00m \u001b[38;5;28;01mNone\u001b[39;00m:\n\u001b[1;32m   2481\u001b[0m     args \u001b[38;5;241m=\u001b[39m process_dataframe_hierarchy(args)\n",
      "File \u001b[0;32m~/Desktop/spacepirate/prosperity-3/.venv/lib/python3.10/site-packages/plotly/express/_core.py:1727\u001b[0m, in \u001b[0;36mbuild_dataframe\u001b[0;34m(args, constructor)\u001b[0m\n\u001b[1;32m   1724\u001b[0m     args[\u001b[38;5;124m\"\u001b[39m\u001b[38;5;124mcolor\u001b[39m\u001b[38;5;124m\"\u001b[39m] \u001b[38;5;241m=\u001b[39m \u001b[38;5;28;01mNone\u001b[39;00m\n\u001b[1;32m   1725\u001b[0m \u001b[38;5;66;03m# now that things have been prepped, we do the systematic rewriting of `args`\u001b[39;00m\n\u001b[0;32m-> 1727\u001b[0m df_output, wide_id_vars \u001b[38;5;241m=\u001b[39m \u001b[43mprocess_args_into_dataframe\u001b[49m\u001b[43m(\u001b[49m\n\u001b[1;32m   1728\u001b[0m \u001b[43m    \u001b[49m\u001b[43margs\u001b[49m\u001b[43m,\u001b[49m\n\u001b[1;32m   1729\u001b[0m \u001b[43m    \u001b[49m\u001b[43mwide_mode\u001b[49m\u001b[43m,\u001b[49m\n\u001b[1;32m   1730\u001b[0m \u001b[43m    \u001b[49m\u001b[43mvar_name\u001b[49m\u001b[43m,\u001b[49m\n\u001b[1;32m   1731\u001b[0m \u001b[43m    \u001b[49m\u001b[43mvalue_name\u001b[49m\u001b[43m,\u001b[49m\n\u001b[1;32m   1732\u001b[0m \u001b[43m    \u001b[49m\u001b[43mis_pd_like\u001b[49m\u001b[43m,\u001b[49m\n\u001b[1;32m   1733\u001b[0m \u001b[43m    \u001b[49m\u001b[43mnative_namespace\u001b[49m\u001b[43m,\u001b[49m\n\u001b[1;32m   1734\u001b[0m \u001b[43m\u001b[49m\u001b[43m)\u001b[49m\n\u001b[1;32m   1735\u001b[0m df_output: nw\u001b[38;5;241m.\u001b[39mDataFrame\n\u001b[1;32m   1736\u001b[0m \u001b[38;5;66;03m# now that `df_output` exists and `args` contains only references, we complete\u001b[39;00m\n\u001b[1;32m   1737\u001b[0m \u001b[38;5;66;03m# the special-case and wide-mode handling by further rewriting args and/or mutating\u001b[39;00m\n\u001b[1;32m   1738\u001b[0m \u001b[38;5;66;03m# df_output\u001b[39;00m\n",
      "File \u001b[0;32m~/Desktop/spacepirate/prosperity-3/.venv/lib/python3.10/site-packages/plotly/express/_core.py:1328\u001b[0m, in \u001b[0;36mprocess_args_into_dataframe\u001b[0;34m(args, wide_mode, var_name, value_name, is_pd_like, native_namespace)\u001b[0m\n\u001b[1;32m   1326\u001b[0m         \u001b[38;5;28;01mif\u001b[39;00m argument \u001b[38;5;241m==\u001b[39m \u001b[38;5;124m\"\u001b[39m\u001b[38;5;124mindex\u001b[39m\u001b[38;5;124m\"\u001b[39m:\n\u001b[1;32m   1327\u001b[0m             err_msg \u001b[38;5;241m+\u001b[39m\u001b[38;5;241m=\u001b[39m \u001b[38;5;124m\"\u001b[39m\u001b[38;5;130;01m\\n\u001b[39;00m\u001b[38;5;124m To use the index, pass it in directly as `df.index`.\u001b[39m\u001b[38;5;124m\"\u001b[39m\n\u001b[0;32m-> 1328\u001b[0m         \u001b[38;5;28;01mraise\u001b[39;00m \u001b[38;5;167;01mValueError\u001b[39;00m(err_msg)\n\u001b[1;32m   1329\u001b[0m \u001b[38;5;28;01melif\u001b[39;00m length \u001b[38;5;129;01mand\u001b[39;00m (actual_len \u001b[38;5;241m:=\u001b[39m \u001b[38;5;28mlen\u001b[39m(df_input)) \u001b[38;5;241m!=\u001b[39m length:\n\u001b[1;32m   1330\u001b[0m     \u001b[38;5;28;01mraise\u001b[39;00m \u001b[38;5;167;01mValueError\u001b[39;00m(\n\u001b[1;32m   1331\u001b[0m         \u001b[38;5;124m\"\u001b[39m\u001b[38;5;124mAll arguments should have the same length. \u001b[39m\u001b[38;5;124m\"\u001b[39m\n\u001b[1;32m   1332\u001b[0m         \u001b[38;5;124m\"\u001b[39m\u001b[38;5;124mThe length of column argument `df[\u001b[39m\u001b[38;5;132;01m%s\u001b[39;00m\u001b[38;5;124m]` is \u001b[39m\u001b[38;5;132;01m%d\u001b[39;00m\u001b[38;5;124m, whereas the \u001b[39m\u001b[38;5;124m\"\u001b[39m\n\u001b[0;32m   (...)\u001b[0m\n\u001b[1;32m   1339\u001b[0m         )\n\u001b[1;32m   1340\u001b[0m     )\n",
      "\u001b[0;31mValueError\u001b[0m: Value of 'y' is not the name of a column in 'data_frame'. Expected one of ['day', 'timestamp', 'bid_price_rock', 'bid_volume_rock', 'bid_price_2_rock', 'bid_volume_2_rock', 'bid_price_3_rock', 'bid_volume_3_rock', 'ask_price_rock', 'ask_volume_rock', 'ask_price_2_rock', 'ask_volume_2_rock', 'ask_price_3_rock', 'ask_volume_3_rock', 'mid_price_rock', 'profit_and_loss_rock', 'swmid_rock', 'bid_price_voucher9500', 'bid_volume_voucher9500', 'bid_price_2_voucher9500', 'bid_volume_2_voucher9500', 'bid_price_3_voucher9500', 'bid_volume_3_voucher9500', 'ask_price_voucher9500', 'ask_volume_voucher9500', 'ask_price_2_voucher9500', 'ask_volume_2_voucher9500', 'ask_price_3_voucher9500', 'ask_volume_3_voucher9500', 'mid_price_voucher9500', 'profit_and_loss_voucher9500', 'swmid_voucher9500', 'bid_price_voucher9750', 'bid_volume_voucher9750', 'bid_price_2_voucher9750', 'bid_volume_2_voucher9750', 'bid_price_3_voucher9750', 'bid_volume_3_voucher9750', 'ask_price_voucher9750', 'ask_volume_voucher9750', 'ask_price_2_voucher9750', 'ask_volume_2_voucher9750', 'ask_price_3_voucher9750', 'ask_volume_3_voucher9750', 'mid_price_voucher9750', 'profit_and_loss_voucher9750', 'swmid_voucher9750', 'bid_price_voucher10000', 'bid_volume_voucher10000', 'bid_price_2_voucher10000', 'bid_volume_2_voucher10000', 'bid_price_3_voucher10000', 'bid_volume_3_voucher10000', 'ask_price_voucher10000', 'ask_volume_voucher10000', 'ask_price_2_voucher10000', 'ask_volume_2_voucher10000', 'ask_price_3_voucher10000', 'ask_volume_3_voucher10000', 'mid_price_voucher10000', 'profit_and_loss_voucher10000', 'swmid_voucher10000', 'bid_price_voucher10250', 'bid_volume_voucher10250', 'bid_price_2_voucher10250', 'bid_volume_2_voucher10250', 'bid_price_3_voucher10250', 'bid_volume_3_voucher10250', 'ask_price_voucher10250', 'ask_volume_voucher10250', 'ask_price_2_voucher10250', 'ask_volume_2_voucher10250', 'ask_price_3_voucher10250', 'ask_volume_3_voucher10250', 'mid_price_voucher10250', 'profit_and_loss_voucher10250', 'swmid_voucher10250', 'bid_price_voucher10500', 'bid_volume_voucher10500', 'bid_price_2_voucher10500', 'bid_volume_2_voucher10500', 'bid_price_3_voucher10500', 'bid_volume_3_voucher10500', 'ask_price_voucher10500', 'ask_volume_voucher10500', 'ask_price_2_voucher10500', 'ask_volume_2_voucher10500', 'ask_price_3_voucher10500', 'ask_volume_3_voucher10500', 'mid_price_voucher10500', 'profit_and_loss_voucher10500', 'swmid_voucher10500', 'time_to_expiry'] but received: delta"
     ]
    }
   ],
   "source": [
    "import plotly.express as px\n",
    "\n",
    "fig = px.line(df, x='timestamp', y='delta', title='Delta over Time')\n",
    "fig.show()\n"
   ]
  },
  {
   "cell_type": "code",
   "execution_count": 78,
   "metadata": {
    "ExecuteTime": {
     "end_time": "2024-04-19T23:30:59.387908Z",
     "start_time": "2024-04-19T23:30:59.316241Z"
    }
   },
   "outputs": [
    {
     "data": {
      "application/vnd.plotly.v1+json": {
       "config": {
        "plotlyServerURL": "https://plot.ly"
       },
       "data": [
        {
         "hovertemplate": "timestamp=%{x}<br>vega=%{y}<extra></extra>",
         "legendgroup": "",
         "line": {
          "color": "#636efa",
          "dash": "solid"
         },
         "marker": {
          "symbol": "circle"
         },
         "mode": "lines",
         "name": "",
         "showlegend": false,
         "type": "scattergl",
         "x": {
          "bdata": "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",
          "dtype": "i4"
         },
         "xaxis": "x",
         "y": {
          "bdata": "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",
          "dtype": "f8"
         },
         "yaxis": "y"
        }
       ],
       "layout": {
        "legend": {
         "tracegroupgap": 0
        },
        "template": {
         "data": {
          "bar": [
           {
            "error_x": {
             "color": "#2a3f5f"
            },
            "error_y": {
             "color": "#2a3f5f"
            },
            "marker": {
             "line": {
              "color": "#E5ECF6",
              "width": 0.5
             },
             "pattern": {
              "fillmode": "overlay",
              "size": 10,
              "solidity": 0.2
             }
            },
            "type": "bar"
           }
          ],
          "barpolar": [
           {
            "marker": {
             "line": {
              "color": "#E5ECF6",
              "width": 0.5
             },
             "pattern": {
              "fillmode": "overlay",
              "size": 10,
              "solidity": 0.2
             }
            },
            "type": "barpolar"
           }
          ],
          "carpet": [
           {
            "aaxis": {
             "endlinecolor": "#2a3f5f",
             "gridcolor": "white",
             "linecolor": "white",
             "minorgridcolor": "white",
             "startlinecolor": "#2a3f5f"
            },
            "baxis": {
             "endlinecolor": "#2a3f5f",
             "gridcolor": "white",
             "linecolor": "white",
             "minorgridcolor": "white",
             "startlinecolor": "#2a3f5f"
            },
            "type": "carpet"
           }
          ],
          "choropleth": [
           {
            "colorbar": {
             "outlinewidth": 0,
             "ticks": ""
            },
            "type": "choropleth"
           }
          ],
          "contour": [
           {
            "colorbar": {
             "outlinewidth": 0,
             "ticks": ""
            },
            "colorscale": [
             [
              0,
              "#0d0887"
             ],
             [
              0.1111111111111111,
              "#46039f"
             ],
             [
              0.2222222222222222,
              "#7201a8"
             ],
             [
              0.3333333333333333,
              "#9c179e"
             ],
             [
              0.4444444444444444,
              "#bd3786"
             ],
             [
              0.5555555555555556,
              "#d8576b"
             ],
             [
              0.6666666666666666,
              "#ed7953"
             ],
             [
              0.7777777777777778,
              "#fb9f3a"
             ],
             [
              0.8888888888888888,
              "#fdca26"
             ],
             [
              1,
              "#f0f921"
             ]
            ],
            "type": "contour"
           }
          ],
          "contourcarpet": [
           {
            "colorbar": {
             "outlinewidth": 0,
             "ticks": ""
            },
            "type": "contourcarpet"
           }
          ],
          "heatmap": [
           {
            "colorbar": {
             "outlinewidth": 0,
             "ticks": ""
            },
            "colorscale": [
             [
              0,
              "#0d0887"
             ],
             [
              0.1111111111111111,
              "#46039f"
             ],
             [
              0.2222222222222222,
              "#7201a8"
             ],
             [
              0.3333333333333333,
              "#9c179e"
             ],
             [
              0.4444444444444444,
              "#bd3786"
             ],
             [
              0.5555555555555556,
              "#d8576b"
             ],
             [
              0.6666666666666666,
              "#ed7953"
             ],
             [
              0.7777777777777778,
              "#fb9f3a"
             ],
             [
              0.8888888888888888,
              "#fdca26"
             ],
             [
              1,
              "#f0f921"
             ]
            ],
            "type": "heatmap"
           }
          ],
          "histogram": [
           {
            "marker": {
             "pattern": {
              "fillmode": "overlay",
              "size": 10,
              "solidity": 0.2
             }
            },
            "type": "histogram"
           }
          ],
          "histogram2d": [
           {
            "colorbar": {
             "outlinewidth": 0,
             "ticks": ""
            },
            "colorscale": [
             [
              0,
              "#0d0887"
             ],
             [
              0.1111111111111111,
              "#46039f"
             ],
             [
              0.2222222222222222,
              "#7201a8"
             ],
             [
              0.3333333333333333,
              "#9c179e"
             ],
             [
              0.4444444444444444,
              "#bd3786"
             ],
             [
              0.5555555555555556,
              "#d8576b"
             ],
             [
              0.6666666666666666,
              "#ed7953"
             ],
             [
              0.7777777777777778,
              "#fb9f3a"
             ],
             [
              0.8888888888888888,
              "#fdca26"
             ],
             [
              1,
              "#f0f921"
             ]
            ],
            "type": "histogram2d"
           }
          ],
          "histogram2dcontour": [
           {
            "colorbar": {
             "outlinewidth": 0,
             "ticks": ""
            },
            "colorscale": [
             [
              0,
              "#0d0887"
             ],
             [
              0.1111111111111111,
              "#46039f"
             ],
             [
              0.2222222222222222,
              "#7201a8"
             ],
             [
              0.3333333333333333,
              "#9c179e"
             ],
             [
              0.4444444444444444,
              "#bd3786"
             ],
             [
              0.5555555555555556,
              "#d8576b"
             ],
             [
              0.6666666666666666,
              "#ed7953"
             ],
             [
              0.7777777777777778,
              "#fb9f3a"
             ],
             [
              0.8888888888888888,
              "#fdca26"
             ],
             [
              1,
              "#f0f921"
             ]
            ],
            "type": "histogram2dcontour"
           }
          ],
          "mesh3d": [
           {
            "colorbar": {
             "outlinewidth": 0,
             "ticks": ""
            },
            "type": "mesh3d"
           }
          ],
          "parcoords": [
           {
            "line": {
             "colorbar": {
              "outlinewidth": 0,
              "ticks": ""
             }
            },
            "type": "parcoords"
           }
          ],
          "pie": [
           {
            "automargin": true,
            "type": "pie"
           }
          ],
          "scatter": [
           {
            "fillpattern": {
             "fillmode": "overlay",
             "size": 10,
             "solidity": 0.2
            },
            "type": "scatter"
           }
          ],
          "scatter3d": [
           {
            "line": {
             "colorbar": {
              "outlinewidth": 0,
              "ticks": ""
             }
            },
            "marker": {
             "colorbar": {
              "outlinewidth": 0,
              "ticks": ""
             }
            },
            "type": "scatter3d"
           }
          ],
          "scattercarpet": [
           {
            "marker": {
             "colorbar": {
              "outlinewidth": 0,
              "ticks": ""
             }
            },
            "type": "scattercarpet"
           }
          ],
          "scattergeo": [
           {
            "marker": {
             "colorbar": {
              "outlinewidth": 0,
              "ticks": ""
             }
            },
            "type": "scattergeo"
           }
          ],
          "scattergl": [
           {
            "marker": {
             "colorbar": {
              "outlinewidth": 0,
              "ticks": ""
             }
            },
            "type": "scattergl"
           }
          ],
          "scattermap": [
           {
            "marker": {
             "colorbar": {
              "outlinewidth": 0,
              "ticks": ""
             }
            },
            "type": "scattermap"
           }
          ],
          "scattermapbox": [
           {
            "marker": {
             "colorbar": {
              "outlinewidth": 0,
              "ticks": ""
             }
            },
            "type": "scattermapbox"
           }
          ],
          "scatterpolar": [
           {
            "marker": {
             "colorbar": {
              "outlinewidth": 0,
              "ticks": ""
             }
            },
            "type": "scatterpolar"
           }
          ],
          "scatterpolargl": [
           {
            "marker": {
             "colorbar": {
              "outlinewidth": 0,
              "ticks": ""
             }
            },
            "type": "scatterpolargl"
           }
          ],
          "scatterternary": [
           {
            "marker": {
             "colorbar": {
              "outlinewidth": 0,
              "ticks": ""
             }
            },
            "type": "scatterternary"
           }
          ],
          "surface": [
           {
            "colorbar": {
             "outlinewidth": 0,
             "ticks": ""
            },
            "colorscale": [
             [
              0,
              "#0d0887"
             ],
             [
              0.1111111111111111,
              "#46039f"
             ],
             [
              0.2222222222222222,
              "#7201a8"
             ],
             [
              0.3333333333333333,
              "#9c179e"
             ],
             [
              0.4444444444444444,
              "#bd3786"
             ],
             [
              0.5555555555555556,
              "#d8576b"
             ],
             [
              0.6666666666666666,
              "#ed7953"
             ],
             [
              0.7777777777777778,
              "#fb9f3a"
             ],
             [
              0.8888888888888888,
              "#fdca26"
             ],
             [
              1,
              "#f0f921"
             ]
            ],
            "type": "surface"
           }
          ],
          "table": [
           {
            "cells": {
             "fill": {
              "color": "#EBF0F8"
             },
             "line": {
              "color": "white"
             }
            },
            "header": {
             "fill": {
              "color": "#C8D4E3"
             },
             "line": {
              "color": "white"
             }
            },
            "type": "table"
           }
          ]
         },
         "layout": {
          "annotationdefaults": {
           "arrowcolor": "#2a3f5f",
           "arrowhead": 0,
           "arrowwidth": 1
          },
          "autotypenumbers": "strict",
          "coloraxis": {
           "colorbar": {
            "outlinewidth": 0,
            "ticks": ""
           }
          },
          "colorscale": {
           "diverging": [
            [
             0,
             "#8e0152"
            ],
            [
             0.1,
             "#c51b7d"
            ],
            [
             0.2,
             "#de77ae"
            ],
            [
             0.3,
             "#f1b6da"
            ],
            [
             0.4,
             "#fde0ef"
            ],
            [
             0.5,
             "#f7f7f7"
            ],
            [
             0.6,
             "#e6f5d0"
            ],
            [
             0.7,
             "#b8e186"
            ],
            [
             0.8,
             "#7fbc41"
            ],
            [
             0.9,
             "#4d9221"
            ],
            [
             1,
             "#276419"
            ]
           ],
           "sequential": [
            [
             0,
             "#0d0887"
            ],
            [
             0.1111111111111111,
             "#46039f"
            ],
            [
             0.2222222222222222,
             "#7201a8"
            ],
            [
             0.3333333333333333,
             "#9c179e"
            ],
            [
             0.4444444444444444,
             "#bd3786"
            ],
            [
             0.5555555555555556,
             "#d8576b"
            ],
            [
             0.6666666666666666,
             "#ed7953"
            ],
            [
             0.7777777777777778,
             "#fb9f3a"
            ],
            [
             0.8888888888888888,
             "#fdca26"
            ],
            [
             1,
             "#f0f921"
            ]
           ],
           "sequentialminus": [
            [
             0,
             "#0d0887"
            ],
            [
             0.1111111111111111,
             "#46039f"
            ],
            [
             0.2222222222222222,
             "#7201a8"
            ],
            [
             0.3333333333333333,
             "#9c179e"
            ],
            [
             0.4444444444444444,
             "#bd3786"
            ],
            [
             0.5555555555555556,
             "#d8576b"
            ],
            [
             0.6666666666666666,
             "#ed7953"
            ],
            [
             0.7777777777777778,
             "#fb9f3a"
            ],
            [
             0.8888888888888888,
             "#fdca26"
            ],
            [
             1,
             "#f0f921"
            ]
           ]
          },
          "colorway": [
           "#636efa",
           "#EF553B",
           "#00cc96",
           "#ab63fa",
           "#FFA15A",
           "#19d3f3",
           "#FF6692",
           "#B6E880",
           "#FF97FF",
           "#FECB52"
          ],
          "font": {
           "color": "#2a3f5f"
          },
          "geo": {
           "bgcolor": "white",
           "lakecolor": "white",
           "landcolor": "#E5ECF6",
           "showlakes": true,
           "showland": true,
           "subunitcolor": "white"
          },
          "hoverlabel": {
           "align": "left"
          },
          "hovermode": "closest",
          "mapbox": {
           "style": "light"
          },
          "paper_bgcolor": "white",
          "plot_bgcolor": "#E5ECF6",
          "polar": {
           "angularaxis": {
            "gridcolor": "white",
            "linecolor": "white",
            "ticks": ""
           },
           "bgcolor": "#E5ECF6",
           "radialaxis": {
            "gridcolor": "white",
            "linecolor": "white",
            "ticks": ""
           }
          },
          "scene": {
           "xaxis": {
            "backgroundcolor": "#E5ECF6",
            "gridcolor": "white",
            "gridwidth": 2,
            "linecolor": "white",
            "showbackground": true,
            "ticks": "",
            "zerolinecolor": "white"
           },
           "yaxis": {
            "backgroundcolor": "#E5ECF6",
            "gridcolor": "white",
            "gridwidth": 2,
            "linecolor": "white",
            "showbackground": true,
            "ticks": "",
            "zerolinecolor": "white"
           },
           "zaxis": {
            "backgroundcolor": "#E5ECF6",
            "gridcolor": "white",
            "gridwidth": 2,
            "linecolor": "white",
            "showbackground": true,
            "ticks": "",
            "zerolinecolor": "white"
           }
          },
          "shapedefaults": {
           "line": {
            "color": "#2a3f5f"
           }
          },
          "ternary": {
           "aaxis": {
            "gridcolor": "white",
            "linecolor": "white",
            "ticks": ""
           },
           "baxis": {
            "gridcolor": "white",
            "linecolor": "white",
            "ticks": ""
           },
           "bgcolor": "#E5ECF6",
           "caxis": {
            "gridcolor": "white",
            "linecolor": "white",
            "ticks": ""
           }
          },
          "title": {
           "x": 0.05
          },
          "xaxis": {
           "automargin": true,
           "gridcolor": "white",
           "linecolor": "white",
           "ticks": "",
           "title": {
            "standoff": 15
           },
           "zerolinecolor": "white",
           "zerolinewidth": 2
          },
          "yaxis": {
           "automargin": true,
           "gridcolor": "white",
           "linecolor": "white",
           "ticks": "",
           "title": {
            "standoff": 15
           },
           "zerolinecolor": "white",
           "zerolinewidth": 2
          }
         }
        },
        "title": {
         "text": "Vega over Time"
        },
        "xaxis": {
         "anchor": "y",
         "domain": [
          0,
          1
         ],
         "title": {
          "text": "timestamp"
         }
        },
        "yaxis": {
         "anchor": "x",
         "domain": [
          0,
          1
         ],
         "title": {
          "text": "vega"
         }
        }
       }
      }
     },
     "metadata": {},
     "output_type": "display_data"
    }
   ],
   "source": [
    "fig = px.line(df, x='timestamp', y='vega', title='Vega over Time')\n",
    "fig.show()"
   ]
  },
  {
   "cell_type": "code",
   "execution_count": 79,
   "metadata": {
    "ExecuteTime": {
     "end_time": "2024-04-19T23:30:59.545573Z",
     "start_time": "2024-04-19T23:30:59.389874Z"
    }
   },
   "outputs": [
    {
     "data": {
      "application/vnd.plotly.v1+json": {
       "config": {
        "plotlyServerURL": "https://plot.ly"
       },
       "data": [
        {
         "hovertemplate": "timestamp=%{x}<br>implied_vol=%{y}<extra></extra>",
         "legendgroup": "",
         "line": {
          "color": "#636efa",
          "dash": "solid"
         },
         "marker": {
          "symbol": "circle"
         },
         "mode": "lines",
         "name": "",
         "showlegend": false,
         "type": "scattergl",
         "x": {
          "bdata": "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",
          "dtype": "i4"
         },
         "xaxis": "x",
         "y": {
          "bdata": "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",
          "dtype": "f8"
         },
         "yaxis": "y"
        }
       ],
       "layout": {
        "legend": {
         "tracegroupgap": 0
        },
        "template": {
         "data": {
          "bar": [
           {
            "error_x": {
             "color": "#2a3f5f"
            },
            "error_y": {
             "color": "#2a3f5f"
            },
            "marker": {
             "line": {
              "color": "#E5ECF6",
              "width": 0.5
             },
             "pattern": {
              "fillmode": "overlay",
              "size": 10,
              "solidity": 0.2
             }
            },
            "type": "bar"
           }
          ],
          "barpolar": [
           {
            "marker": {
             "line": {
              "color": "#E5ECF6",
              "width": 0.5
             },
             "pattern": {
              "fillmode": "overlay",
              "size": 10,
              "solidity": 0.2
             }
            },
            "type": "barpolar"
           }
          ],
          "carpet": [
           {
            "aaxis": {
             "endlinecolor": "#2a3f5f",
             "gridcolor": "white",
             "linecolor": "white",
             "minorgridcolor": "white",
             "startlinecolor": "#2a3f5f"
            },
            "baxis": {
             "endlinecolor": "#2a3f5f",
             "gridcolor": "white",
             "linecolor": "white",
             "minorgridcolor": "white",
             "startlinecolor": "#2a3f5f"
            },
            "type": "carpet"
           }
          ],
          "choropleth": [
           {
            "colorbar": {
             "outlinewidth": 0,
             "ticks": ""
            },
            "type": "choropleth"
           }
          ],
          "contour": [
           {
            "colorbar": {
             "outlinewidth": 0,
             "ticks": ""
            },
            "colorscale": [
             [
              0,
              "#0d0887"
             ],
             [
              0.1111111111111111,
              "#46039f"
             ],
             [
              0.2222222222222222,
              "#7201a8"
             ],
             [
              0.3333333333333333,
              "#9c179e"
             ],
             [
              0.4444444444444444,
              "#bd3786"
             ],
             [
              0.5555555555555556,
              "#d8576b"
             ],
             [
              0.6666666666666666,
              "#ed7953"
             ],
             [
              0.7777777777777778,
              "#fb9f3a"
             ],
             [
              0.8888888888888888,
              "#fdca26"
             ],
             [
              1,
              "#f0f921"
             ]
            ],
            "type": "contour"
           }
          ],
          "contourcarpet": [
           {
            "colorbar": {
             "outlinewidth": 0,
             "ticks": ""
            },
            "type": "contourcarpet"
           }
          ],
          "heatmap": [
           {
            "colorbar": {
             "outlinewidth": 0,
             "ticks": ""
            },
            "colorscale": [
             [
              0,
              "#0d0887"
             ],
             [
              0.1111111111111111,
              "#46039f"
             ],
             [
              0.2222222222222222,
              "#7201a8"
             ],
             [
              0.3333333333333333,
              "#9c179e"
             ],
             [
              0.4444444444444444,
              "#bd3786"
             ],
             [
              0.5555555555555556,
              "#d8576b"
             ],
             [
              0.6666666666666666,
              "#ed7953"
             ],
             [
              0.7777777777777778,
              "#fb9f3a"
             ],
             [
              0.8888888888888888,
              "#fdca26"
             ],
             [
              1,
              "#f0f921"
             ]
            ],
            "type": "heatmap"
           }
          ],
          "histogram": [
           {
            "marker": {
             "pattern": {
              "fillmode": "overlay",
              "size": 10,
              "solidity": 0.2
             }
            },
            "type": "histogram"
           }
          ],
          "histogram2d": [
           {
            "colorbar": {
             "outlinewidth": 0,
             "ticks": ""
            },
            "colorscale": [
             [
              0,
              "#0d0887"
             ],
             [
              0.1111111111111111,
              "#46039f"
             ],
             [
              0.2222222222222222,
              "#7201a8"
             ],
             [
              0.3333333333333333,
              "#9c179e"
             ],
             [
              0.4444444444444444,
              "#bd3786"
             ],
             [
              0.5555555555555556,
              "#d8576b"
             ],
             [
              0.6666666666666666,
              "#ed7953"
             ],
             [
              0.7777777777777778,
              "#fb9f3a"
             ],
             [
              0.8888888888888888,
              "#fdca26"
             ],
             [
              1,
              "#f0f921"
             ]
            ],
            "type": "histogram2d"
           }
          ],
          "histogram2dcontour": [
           {
            "colorbar": {
             "outlinewidth": 0,
             "ticks": ""
            },
            "colorscale": [
             [
              0,
              "#0d0887"
             ],
             [
              0.1111111111111111,
              "#46039f"
             ],
             [
              0.2222222222222222,
              "#7201a8"
             ],
             [
              0.3333333333333333,
              "#9c179e"
             ],
             [
              0.4444444444444444,
              "#bd3786"
             ],
             [
              0.5555555555555556,
              "#d8576b"
             ],
             [
              0.6666666666666666,
              "#ed7953"
             ],
             [
              0.7777777777777778,
              "#fb9f3a"
             ],
             [
              0.8888888888888888,
              "#fdca26"
             ],
             [
              1,
              "#f0f921"
             ]
            ],
            "type": "histogram2dcontour"
           }
          ],
          "mesh3d": [
           {
            "colorbar": {
             "outlinewidth": 0,
             "ticks": ""
            },
            "type": "mesh3d"
           }
          ],
          "parcoords": [
           {
            "line": {
             "colorbar": {
              "outlinewidth": 0,
              "ticks": ""
             }
            },
            "type": "parcoords"
           }
          ],
          "pie": [
           {
            "automargin": true,
            "type": "pie"
           }
          ],
          "scatter": [
           {
            "fillpattern": {
             "fillmode": "overlay",
             "size": 10,
             "solidity": 0.2
            },
            "type": "scatter"
           }
          ],
          "scatter3d": [
           {
            "line": {
             "colorbar": {
              "outlinewidth": 0,
              "ticks": ""
             }
            },
            "marker": {
             "colorbar": {
              "outlinewidth": 0,
              "ticks": ""
             }
            },
            "type": "scatter3d"
           }
          ],
          "scattercarpet": [
           {
            "marker": {
             "colorbar": {
              "outlinewidth": 0,
              "ticks": ""
             }
            },
            "type": "scattercarpet"
           }
          ],
          "scattergeo": [
           {
            "marker": {
             "colorbar": {
              "outlinewidth": 0,
              "ticks": ""
             }
            },
            "type": "scattergeo"
           }
          ],
          "scattergl": [
           {
            "marker": {
             "colorbar": {
              "outlinewidth": 0,
              "ticks": ""
             }
            },
            "type": "scattergl"
           }
          ],
          "scattermap": [
           {
            "marker": {
             "colorbar": {
              "outlinewidth": 0,
              "ticks": ""
             }
            },
            "type": "scattermap"
           }
          ],
          "scattermapbox": [
           {
            "marker": {
             "colorbar": {
              "outlinewidth": 0,
              "ticks": ""
             }
            },
            "type": "scattermapbox"
           }
          ],
          "scatterpolar": [
           {
            "marker": {
             "colorbar": {
              "outlinewidth": 0,
              "ticks": ""
             }
            },
            "type": "scatterpolar"
           }
          ],
          "scatterpolargl": [
           {
            "marker": {
             "colorbar": {
              "outlinewidth": 0,
              "ticks": ""
             }
            },
            "type": "scatterpolargl"
           }
          ],
          "scatterternary": [
           {
            "marker": {
             "colorbar": {
              "outlinewidth": 0,
              "ticks": ""
             }
            },
            "type": "scatterternary"
           }
          ],
          "surface": [
           {
            "colorbar": {
             "outlinewidth": 0,
             "ticks": ""
            },
            "colorscale": [
             [
              0,
              "#0d0887"
             ],
             [
              0.1111111111111111,
              "#46039f"
             ],
             [
              0.2222222222222222,
              "#7201a8"
             ],
             [
              0.3333333333333333,
              "#9c179e"
             ],
             [
              0.4444444444444444,
              "#bd3786"
             ],
             [
              0.5555555555555556,
              "#d8576b"
             ],
             [
              0.6666666666666666,
              "#ed7953"
             ],
             [
              0.7777777777777778,
              "#fb9f3a"
             ],
             [
              0.8888888888888888,
              "#fdca26"
             ],
             [
              1,
              "#f0f921"
             ]
            ],
            "type": "surface"
           }
          ],
          "table": [
           {
            "cells": {
             "fill": {
              "color": "#EBF0F8"
             },
             "line": {
              "color": "white"
             }
            },
            "header": {
             "fill": {
              "color": "#C8D4E3"
             },
             "line": {
              "color": "white"
             }
            },
            "type": "table"
           }
          ]
         },
         "layout": {
          "annotationdefaults": {
           "arrowcolor": "#2a3f5f",
           "arrowhead": 0,
           "arrowwidth": 1
          },
          "autotypenumbers": "strict",
          "coloraxis": {
           "colorbar": {
            "outlinewidth": 0,
            "ticks": ""
           }
          },
          "colorscale": {
           "diverging": [
            [
             0,
             "#8e0152"
            ],
            [
             0.1,
             "#c51b7d"
            ],
            [
             0.2,
             "#de77ae"
            ],
            [
             0.3,
             "#f1b6da"
            ],
            [
             0.4,
             "#fde0ef"
            ],
            [
             0.5,
             "#f7f7f7"
            ],
            [
             0.6,
             "#e6f5d0"
            ],
            [
             0.7,
             "#b8e186"
            ],
            [
             0.8,
             "#7fbc41"
            ],
            [
             0.9,
             "#4d9221"
            ],
            [
             1,
             "#276419"
            ]
           ],
           "sequential": [
            [
             0,
             "#0d0887"
            ],
            [
             0.1111111111111111,
             "#46039f"
            ],
            [
             0.2222222222222222,
             "#7201a8"
            ],
            [
             0.3333333333333333,
             "#9c179e"
            ],
            [
             0.4444444444444444,
             "#bd3786"
            ],
            [
             0.5555555555555556,
             "#d8576b"
            ],
            [
             0.6666666666666666,
             "#ed7953"
            ],
            [
             0.7777777777777778,
             "#fb9f3a"
            ],
            [
             0.8888888888888888,
             "#fdca26"
            ],
            [
             1,
             "#f0f921"
            ]
           ],
           "sequentialminus": [
            [
             0,
             "#0d0887"
            ],
            [
             0.1111111111111111,
             "#46039f"
            ],
            [
             0.2222222222222222,
             "#7201a8"
            ],
            [
             0.3333333333333333,
             "#9c179e"
            ],
            [
             0.4444444444444444,
             "#bd3786"
            ],
            [
             0.5555555555555556,
             "#d8576b"
            ],
            [
             0.6666666666666666,
             "#ed7953"
            ],
            [
             0.7777777777777778,
             "#fb9f3a"
            ],
            [
             0.8888888888888888,
             "#fdca26"
            ],
            [
             1,
             "#f0f921"
            ]
           ]
          },
          "colorway": [
           "#636efa",
           "#EF553B",
           "#00cc96",
           "#ab63fa",
           "#FFA15A",
           "#19d3f3",
           "#FF6692",
           "#B6E880",
           "#FF97FF",
           "#FECB52"
          ],
          "font": {
           "color": "#2a3f5f"
          },
          "geo": {
           "bgcolor": "white",
           "lakecolor": "white",
           "landcolor": "#E5ECF6",
           "showlakes": true,
           "showland": true,
           "subunitcolor": "white"
          },
          "hoverlabel": {
           "align": "left"
          },
          "hovermode": "closest",
          "mapbox": {
           "style": "light"
          },
          "paper_bgcolor": "white",
          "plot_bgcolor": "#E5ECF6",
          "polar": {
           "angularaxis": {
            "gridcolor": "white",
            "linecolor": "white",
            "ticks": ""
           },
           "bgcolor": "#E5ECF6",
           "radialaxis": {
            "gridcolor": "white",
            "linecolor": "white",
            "ticks": ""
           }
          },
          "scene": {
           "xaxis": {
            "backgroundcolor": "#E5ECF6",
            "gridcolor": "white",
            "gridwidth": 2,
            "linecolor": "white",
            "showbackground": true,
            "ticks": "",
            "zerolinecolor": "white"
           },
           "yaxis": {
            "backgroundcolor": "#E5ECF6",
            "gridcolor": "white",
            "gridwidth": 2,
            "linecolor": "white",
            "showbackground": true,
            "ticks": "",
            "zerolinecolor": "white"
           },
           "zaxis": {
            "backgroundcolor": "#E5ECF6",
            "gridcolor": "white",
            "gridwidth": 2,
            "linecolor": "white",
            "showbackground": true,
            "ticks": "",
            "zerolinecolor": "white"
           }
          },
          "shapedefaults": {
           "line": {
            "color": "#2a3f5f"
           }
          },
          "ternary": {
           "aaxis": {
            "gridcolor": "white",
            "linecolor": "white",
            "ticks": ""
           },
           "baxis": {
            "gridcolor": "white",
            "linecolor": "white",
            "ticks": ""
           },
           "bgcolor": "#E5ECF6",
           "caxis": {
            "gridcolor": "white",
            "linecolor": "white",
            "ticks": ""
           }
          },
          "title": {
           "x": 0.05
          },
          "xaxis": {
           "automargin": true,
           "gridcolor": "white",
           "linecolor": "white",
           "ticks": "",
           "title": {
            "standoff": 15
           },
           "zerolinecolor": "white",
           "zerolinewidth": 2
          },
          "yaxis": {
           "automargin": true,
           "gridcolor": "white",
           "linecolor": "white",
           "ticks": "",
           "title": {
            "standoff": 15
           },
           "zerolinecolor": "white",
           "zerolinewidth": 2
          }
         }
        },
        "title": {
         "text": "Implied Volatility over Time"
        },
        "xaxis": {
         "anchor": "y",
         "domain": [
          0,
          1
         ],
         "title": {
          "text": "timestamp"
         }
        },
        "yaxis": {
         "anchor": "x",
         "domain": [
          0,
          1
         ],
         "title": {
          "text": "implied_vol"
         }
        }
       }
      }
     },
     "metadata": {},
     "output_type": "display_data"
    }
   ],
   "source": [
    "fig = px.line(df, x='timestamp', y='implied_vol', title='Implied Volatility over Time')\n",
    "fig.show()\n"
   ]
  },
  {
   "cell_type": "markdown",
   "metadata": {},
   "source": [
    "# backtest strat-trading implied volatility to mean"
   ]
  },
  {
   "cell_type": "code",
   "execution_count": 138,
   "metadata": {},
   "outputs": [
    {
     "ename": "ValueError",
     "evalue": "f(a) and f(b) must have different signs",
     "output_type": "error",
     "traceback": [
      "\u001b[0;31m---------------------------------------------------------------------------\u001b[0m",
      "\u001b[0;31mValueError\u001b[0m                                Traceback (most recent call last)",
      "Cell \u001b[0;32mIn[138], line 11\u001b[0m\n\u001b[1;32m      8\u001b[0m strike_price \u001b[38;5;241m=\u001b[39m \u001b[38;5;241m10000\u001b[39m\n\u001b[1;32m     10\u001b[0m \u001b[38;5;28;01mfor\u001b[39;00m strike \u001b[38;5;129;01min\u001b[39;00m [\u001b[38;5;241m9500\u001b[39m, \u001b[38;5;241m9750\u001b[39m, \u001b[38;5;241m10000\u001b[39m, \u001b[38;5;241m10250\u001b[39m, \u001b[38;5;241m10500\u001b[39m]:\n\u001b[0;32m---> 11\u001b[0m     df[\u001b[38;5;124mf\u001b[39m\u001b[38;5;124m'\u001b[39m\u001b[38;5;124mimplied_vol_\u001b[39m\u001b[38;5;132;01m{\u001b[39;00mstrike\u001b[38;5;132;01m}\u001b[39;00m\u001b[38;5;124m'\u001b[39m] \u001b[38;5;241m=\u001b[39m \u001b[43mdf\u001b[49m\u001b[38;5;241;43m.\u001b[39;49m\u001b[43mapply\u001b[49m\u001b[43m(\u001b[49m\u001b[38;5;28;43;01mlambda\u001b[39;49;00m\u001b[43m \u001b[49m\u001b[43mrow\u001b[49m\u001b[43m:\u001b[49m\u001b[43m \u001b[49m\u001b[43mimplied_volatility\u001b[49m\u001b[43m(\u001b[49m\u001b[43mrow\u001b[49m\u001b[43m[\u001b[49m\u001b[38;5;124;43mf\u001b[39;49m\u001b[38;5;124;43m'\u001b[39;49m\u001b[38;5;124;43mmid_price_voucher\u001b[39;49m\u001b[38;5;132;43;01m{\u001b[39;49;00m\u001b[43mstrike\u001b[49m\u001b[38;5;132;43;01m}\u001b[39;49;00m\u001b[38;5;124;43m'\u001b[39;49m\u001b[43m]\u001b[49m\u001b[43m,\u001b[49m\u001b[43m \u001b[49m\u001b[43mrow\u001b[49m\u001b[43m[\u001b[49m\u001b[38;5;124;43m'\u001b[39;49m\u001b[38;5;124;43mmid_price_rock\u001b[39;49m\u001b[38;5;124;43m'\u001b[39;49m\u001b[43m]\u001b[49m\u001b[43m,\u001b[49m\u001b[43m \u001b[49m\u001b[43mstrike\u001b[49m\u001b[43m,\u001b[49m\u001b[43m \u001b[49m\u001b[43mrow\u001b[49m\u001b[43m[\u001b[49m\u001b[38;5;124;43m'\u001b[39;49m\u001b[38;5;124;43mtime_to_expiry\u001b[39;49m\u001b[38;5;124;43m'\u001b[39;49m\u001b[43m]\u001b[49m\u001b[43m)\u001b[49m\u001b[43m,\u001b[49m\u001b[43m \u001b[49m\u001b[43maxis\u001b[49m\u001b[38;5;241;43m=\u001b[39;49m\u001b[38;5;241;43m1\u001b[39;49m\u001b[43m)\u001b[49m\n\u001b[1;32m     12\u001b[0m     df[\u001b[38;5;124mf\u001b[39m\u001b[38;5;124m'\u001b[39m\u001b[38;5;124mdelta_\u001b[39m\u001b[38;5;132;01m{\u001b[39;00mstrike\u001b[38;5;132;01m}\u001b[39;00m\u001b[38;5;124m'\u001b[39m] \u001b[38;5;241m=\u001b[39m df\u001b[38;5;241m.\u001b[39mapply(\u001b[38;5;28;01mlambda\u001b[39;00m row: delta(row[\u001b[38;5;124m'\u001b[39m\u001b[38;5;124mmid_price_rock\u001b[39m\u001b[38;5;124m'\u001b[39m], strike, row[\u001b[38;5;124m'\u001b[39m\u001b[38;5;124mtime_to_expiry\u001b[39m\u001b[38;5;124m'\u001b[39m], row[\u001b[38;5;124mf\u001b[39m\u001b[38;5;124m'\u001b[39m\u001b[38;5;124mimplied_vol_\u001b[39m\u001b[38;5;132;01m{\u001b[39;00mstrike\u001b[38;5;132;01m}\u001b[39;00m\u001b[38;5;124m'\u001b[39m]), axis\u001b[38;5;241m=\u001b[39m\u001b[38;5;241m1\u001b[39m)\n\u001b[1;32m     13\u001b[0m     df[\u001b[38;5;124mf\u001b[39m\u001b[38;5;124m'\u001b[39m\u001b[38;5;124mgamma_\u001b[39m\u001b[38;5;132;01m{\u001b[39;00mstrike\u001b[38;5;132;01m}\u001b[39;00m\u001b[38;5;124m'\u001b[39m] \u001b[38;5;241m=\u001b[39m df\u001b[38;5;241m.\u001b[39mapply(\u001b[38;5;28;01mlambda\u001b[39;00m row: gamma(row[\u001b[38;5;124m'\u001b[39m\u001b[38;5;124mmid_price_rock\u001b[39m\u001b[38;5;124m'\u001b[39m], strike, row[\u001b[38;5;124m'\u001b[39m\u001b[38;5;124mtime_to_expiry\u001b[39m\u001b[38;5;124m'\u001b[39m], row[\u001b[38;5;124mf\u001b[39m\u001b[38;5;124m'\u001b[39m\u001b[38;5;124mimplied_vol_\u001b[39m\u001b[38;5;132;01m{\u001b[39;00mstrike\u001b[38;5;132;01m}\u001b[39;00m\u001b[38;5;124m'\u001b[39m]), axis\u001b[38;5;241m=\u001b[39m\u001b[38;5;241m1\u001b[39m)\n",
      "File \u001b[0;32m~/Desktop/spacepirate/prosperity-3/.venv/lib/python3.10/site-packages/pandas/core/frame.py:10374\u001b[0m, in \u001b[0;36mDataFrame.apply\u001b[0;34m(self, func, axis, raw, result_type, args, by_row, engine, engine_kwargs, **kwargs)\u001b[0m\n\u001b[1;32m  10360\u001b[0m \u001b[38;5;28;01mfrom\u001b[39;00m\u001b[38;5;250m \u001b[39m\u001b[38;5;21;01mpandas\u001b[39;00m\u001b[38;5;21;01m.\u001b[39;00m\u001b[38;5;21;01mcore\u001b[39;00m\u001b[38;5;21;01m.\u001b[39;00m\u001b[38;5;21;01mapply\u001b[39;00m\u001b[38;5;250m \u001b[39m\u001b[38;5;28;01mimport\u001b[39;00m frame_apply\n\u001b[1;32m  10362\u001b[0m op \u001b[38;5;241m=\u001b[39m frame_apply(\n\u001b[1;32m  10363\u001b[0m     \u001b[38;5;28mself\u001b[39m,\n\u001b[1;32m  10364\u001b[0m     func\u001b[38;5;241m=\u001b[39mfunc,\n\u001b[0;32m   (...)\u001b[0m\n\u001b[1;32m  10372\u001b[0m     kwargs\u001b[38;5;241m=\u001b[39mkwargs,\n\u001b[1;32m  10373\u001b[0m )\n\u001b[0;32m> 10374\u001b[0m \u001b[38;5;28;01mreturn\u001b[39;00m \u001b[43mop\u001b[49m\u001b[38;5;241;43m.\u001b[39;49m\u001b[43mapply\u001b[49m\u001b[43m(\u001b[49m\u001b[43m)\u001b[49m\u001b[38;5;241m.\u001b[39m__finalize__(\u001b[38;5;28mself\u001b[39m, method\u001b[38;5;241m=\u001b[39m\u001b[38;5;124m\"\u001b[39m\u001b[38;5;124mapply\u001b[39m\u001b[38;5;124m\"\u001b[39m)\n",
      "File \u001b[0;32m~/Desktop/spacepirate/prosperity-3/.venv/lib/python3.10/site-packages/pandas/core/apply.py:916\u001b[0m, in \u001b[0;36mFrameApply.apply\u001b[0;34m(self)\u001b[0m\n\u001b[1;32m    913\u001b[0m \u001b[38;5;28;01melif\u001b[39;00m \u001b[38;5;28mself\u001b[39m\u001b[38;5;241m.\u001b[39mraw:\n\u001b[1;32m    914\u001b[0m     \u001b[38;5;28;01mreturn\u001b[39;00m \u001b[38;5;28mself\u001b[39m\u001b[38;5;241m.\u001b[39mapply_raw(engine\u001b[38;5;241m=\u001b[39m\u001b[38;5;28mself\u001b[39m\u001b[38;5;241m.\u001b[39mengine, engine_kwargs\u001b[38;5;241m=\u001b[39m\u001b[38;5;28mself\u001b[39m\u001b[38;5;241m.\u001b[39mengine_kwargs)\n\u001b[0;32m--> 916\u001b[0m \u001b[38;5;28;01mreturn\u001b[39;00m \u001b[38;5;28;43mself\u001b[39;49m\u001b[38;5;241;43m.\u001b[39;49m\u001b[43mapply_standard\u001b[49m\u001b[43m(\u001b[49m\u001b[43m)\u001b[49m\n",
      "File \u001b[0;32m~/Desktop/spacepirate/prosperity-3/.venv/lib/python3.10/site-packages/pandas/core/apply.py:1063\u001b[0m, in \u001b[0;36mFrameApply.apply_standard\u001b[0;34m(self)\u001b[0m\n\u001b[1;32m   1061\u001b[0m \u001b[38;5;28;01mdef\u001b[39;00m\u001b[38;5;250m \u001b[39m\u001b[38;5;21mapply_standard\u001b[39m(\u001b[38;5;28mself\u001b[39m):\n\u001b[1;32m   1062\u001b[0m     \u001b[38;5;28;01mif\u001b[39;00m \u001b[38;5;28mself\u001b[39m\u001b[38;5;241m.\u001b[39mengine \u001b[38;5;241m==\u001b[39m \u001b[38;5;124m\"\u001b[39m\u001b[38;5;124mpython\u001b[39m\u001b[38;5;124m\"\u001b[39m:\n\u001b[0;32m-> 1063\u001b[0m         results, res_index \u001b[38;5;241m=\u001b[39m \u001b[38;5;28;43mself\u001b[39;49m\u001b[38;5;241;43m.\u001b[39;49m\u001b[43mapply_series_generator\u001b[49m\u001b[43m(\u001b[49m\u001b[43m)\u001b[49m\n\u001b[1;32m   1064\u001b[0m     \u001b[38;5;28;01melse\u001b[39;00m:\n\u001b[1;32m   1065\u001b[0m         results, res_index \u001b[38;5;241m=\u001b[39m \u001b[38;5;28mself\u001b[39m\u001b[38;5;241m.\u001b[39mapply_series_numba()\n",
      "File \u001b[0;32m~/Desktop/spacepirate/prosperity-3/.venv/lib/python3.10/site-packages/pandas/core/apply.py:1081\u001b[0m, in \u001b[0;36mFrameApply.apply_series_generator\u001b[0;34m(self)\u001b[0m\n\u001b[1;32m   1078\u001b[0m \u001b[38;5;28;01mwith\u001b[39;00m option_context(\u001b[38;5;124m\"\u001b[39m\u001b[38;5;124mmode.chained_assignment\u001b[39m\u001b[38;5;124m\"\u001b[39m, \u001b[38;5;28;01mNone\u001b[39;00m):\n\u001b[1;32m   1079\u001b[0m     \u001b[38;5;28;01mfor\u001b[39;00m i, v \u001b[38;5;129;01min\u001b[39;00m \u001b[38;5;28menumerate\u001b[39m(series_gen):\n\u001b[1;32m   1080\u001b[0m         \u001b[38;5;66;03m# ignore SettingWithCopy here in case the user mutates\u001b[39;00m\n\u001b[0;32m-> 1081\u001b[0m         results[i] \u001b[38;5;241m=\u001b[39m \u001b[38;5;28;43mself\u001b[39;49m\u001b[38;5;241;43m.\u001b[39;49m\u001b[43mfunc\u001b[49m\u001b[43m(\u001b[49m\u001b[43mv\u001b[49m\u001b[43m,\u001b[49m\u001b[43m \u001b[49m\u001b[38;5;241;43m*\u001b[39;49m\u001b[38;5;28;43mself\u001b[39;49m\u001b[38;5;241;43m.\u001b[39;49m\u001b[43margs\u001b[49m\u001b[43m,\u001b[49m\u001b[43m \u001b[49m\u001b[38;5;241;43m*\u001b[39;49m\u001b[38;5;241;43m*\u001b[39;49m\u001b[38;5;28;43mself\u001b[39;49m\u001b[38;5;241;43m.\u001b[39;49m\u001b[43mkwargs\u001b[49m\u001b[43m)\u001b[49m\n\u001b[1;32m   1082\u001b[0m         \u001b[38;5;28;01mif\u001b[39;00m \u001b[38;5;28misinstance\u001b[39m(results[i], ABCSeries):\n\u001b[1;32m   1083\u001b[0m             \u001b[38;5;66;03m# If we have a view on v, we need to make a copy because\u001b[39;00m\n\u001b[1;32m   1084\u001b[0m             \u001b[38;5;66;03m#  series_generator will swap out the underlying data\u001b[39;00m\n\u001b[1;32m   1085\u001b[0m             results[i] \u001b[38;5;241m=\u001b[39m results[i]\u001b[38;5;241m.\u001b[39mcopy(deep\u001b[38;5;241m=\u001b[39m\u001b[38;5;28;01mFalse\u001b[39;00m)\n",
      "Cell \u001b[0;32mIn[138], line 11\u001b[0m, in \u001b[0;36m<lambda>\u001b[0;34m(row)\u001b[0m\n\u001b[1;32m      8\u001b[0m strike_price \u001b[38;5;241m=\u001b[39m \u001b[38;5;241m10000\u001b[39m\n\u001b[1;32m     10\u001b[0m \u001b[38;5;28;01mfor\u001b[39;00m strike \u001b[38;5;129;01min\u001b[39;00m [\u001b[38;5;241m9500\u001b[39m, \u001b[38;5;241m9750\u001b[39m, \u001b[38;5;241m10000\u001b[39m, \u001b[38;5;241m10250\u001b[39m, \u001b[38;5;241m10500\u001b[39m]:\n\u001b[0;32m---> 11\u001b[0m     df[\u001b[38;5;124mf\u001b[39m\u001b[38;5;124m'\u001b[39m\u001b[38;5;124mimplied_vol_\u001b[39m\u001b[38;5;132;01m{\u001b[39;00mstrike\u001b[38;5;132;01m}\u001b[39;00m\u001b[38;5;124m'\u001b[39m] \u001b[38;5;241m=\u001b[39m df\u001b[38;5;241m.\u001b[39mapply(\u001b[38;5;28;01mlambda\u001b[39;00m row: \u001b[43mimplied_volatility\u001b[49m\u001b[43m(\u001b[49m\u001b[43mrow\u001b[49m\u001b[43m[\u001b[49m\u001b[38;5;124;43mf\u001b[39;49m\u001b[38;5;124;43m'\u001b[39;49m\u001b[38;5;124;43mmid_price_voucher\u001b[39;49m\u001b[38;5;132;43;01m{\u001b[39;49;00m\u001b[43mstrike\u001b[49m\u001b[38;5;132;43;01m}\u001b[39;49;00m\u001b[38;5;124;43m'\u001b[39;49m\u001b[43m]\u001b[49m\u001b[43m,\u001b[49m\u001b[43m \u001b[49m\u001b[43mrow\u001b[49m\u001b[43m[\u001b[49m\u001b[38;5;124;43m'\u001b[39;49m\u001b[38;5;124;43mmid_price_rock\u001b[39;49m\u001b[38;5;124;43m'\u001b[39;49m\u001b[43m]\u001b[49m\u001b[43m,\u001b[49m\u001b[43m \u001b[49m\u001b[43mstrike\u001b[49m\u001b[43m,\u001b[49m\u001b[43m \u001b[49m\u001b[43mrow\u001b[49m\u001b[43m[\u001b[49m\u001b[38;5;124;43m'\u001b[39;49m\u001b[38;5;124;43mtime_to_expiry\u001b[39;49m\u001b[38;5;124;43m'\u001b[39;49m\u001b[43m]\u001b[49m\u001b[43m)\u001b[49m, axis\u001b[38;5;241m=\u001b[39m\u001b[38;5;241m1\u001b[39m)\n\u001b[1;32m     12\u001b[0m     df[\u001b[38;5;124mf\u001b[39m\u001b[38;5;124m'\u001b[39m\u001b[38;5;124mdelta_\u001b[39m\u001b[38;5;132;01m{\u001b[39;00mstrike\u001b[38;5;132;01m}\u001b[39;00m\u001b[38;5;124m'\u001b[39m] \u001b[38;5;241m=\u001b[39m df\u001b[38;5;241m.\u001b[39mapply(\u001b[38;5;28;01mlambda\u001b[39;00m row: delta(row[\u001b[38;5;124m'\u001b[39m\u001b[38;5;124mmid_price_rock\u001b[39m\u001b[38;5;124m'\u001b[39m], strike, row[\u001b[38;5;124m'\u001b[39m\u001b[38;5;124mtime_to_expiry\u001b[39m\u001b[38;5;124m'\u001b[39m], row[\u001b[38;5;124mf\u001b[39m\u001b[38;5;124m'\u001b[39m\u001b[38;5;124mimplied_vol_\u001b[39m\u001b[38;5;132;01m{\u001b[39;00mstrike\u001b[38;5;132;01m}\u001b[39;00m\u001b[38;5;124m'\u001b[39m]), axis\u001b[38;5;241m=\u001b[39m\u001b[38;5;241m1\u001b[39m)\n\u001b[1;32m     13\u001b[0m     df[\u001b[38;5;124mf\u001b[39m\u001b[38;5;124m'\u001b[39m\u001b[38;5;124mgamma_\u001b[39m\u001b[38;5;132;01m{\u001b[39;00mstrike\u001b[38;5;132;01m}\u001b[39;00m\u001b[38;5;124m'\u001b[39m] \u001b[38;5;241m=\u001b[39m df\u001b[38;5;241m.\u001b[39mapply(\u001b[38;5;28;01mlambda\u001b[39;00m row: gamma(row[\u001b[38;5;124m'\u001b[39m\u001b[38;5;124mmid_price_rock\u001b[39m\u001b[38;5;124m'\u001b[39m], strike, row[\u001b[38;5;124m'\u001b[39m\u001b[38;5;124mtime_to_expiry\u001b[39m\u001b[38;5;124m'\u001b[39m], row[\u001b[38;5;124mf\u001b[39m\u001b[38;5;124m'\u001b[39m\u001b[38;5;124mimplied_vol_\u001b[39m\u001b[38;5;132;01m{\u001b[39;00mstrike\u001b[38;5;132;01m}\u001b[39;00m\u001b[38;5;124m'\u001b[39m]), axis\u001b[38;5;241m=\u001b[39m\u001b[38;5;241m1\u001b[39m)\n",
      "Cell \u001b[0;32mIn[117], line 36\u001b[0m, in \u001b[0;36mimplied_volatility\u001b[0;34m(call_price, spot, strike, time_to_expiry)\u001b[0m\n\u001b[1;32m     33\u001b[0m     \u001b[38;5;28;01mreturn\u001b[39;00m estimated_price \u001b[38;5;241m-\u001b[39m call_price\n\u001b[1;32m     35\u001b[0m \u001b[38;5;66;03m# Using Brent's method to find the root of the equation\u001b[39;00m\n\u001b[0;32m---> 36\u001b[0m implied_vol \u001b[38;5;241m=\u001b[39m \u001b[43mbrentq\u001b[49m\u001b[43m(\u001b[49m\u001b[43mequation\u001b[49m\u001b[43m,\u001b[49m\u001b[43m \u001b[49m\u001b[38;5;241;43m1e-10\u001b[39;49m\u001b[43m,\u001b[49m\u001b[43m \u001b[49m\u001b[38;5;241;43m3.0\u001b[39;49m\u001b[43m,\u001b[49m\u001b[43m \u001b[49m\u001b[43mxtol\u001b[49m\u001b[38;5;241;43m=\u001b[39;49m\u001b[38;5;241;43m1e-10\u001b[39;49m\u001b[43m)\u001b[49m\n\u001b[1;32m     37\u001b[0m \u001b[38;5;28;01mreturn\u001b[39;00m implied_vol\n",
      "File \u001b[0;32m~/Desktop/spacepirate/prosperity-3/.venv/lib/python3.10/site-packages/scipy/optimize/_zeros_py.py:798\u001b[0m, in \u001b[0;36mbrentq\u001b[0;34m(f, a, b, args, xtol, rtol, maxiter, full_output, disp)\u001b[0m\n\u001b[1;32m    796\u001b[0m     \u001b[38;5;28;01mraise\u001b[39;00m \u001b[38;5;167;01mValueError\u001b[39;00m(\u001b[38;5;124mf\u001b[39m\u001b[38;5;124m\"\u001b[39m\u001b[38;5;124mrtol too small (\u001b[39m\u001b[38;5;132;01m{\u001b[39;00mrtol\u001b[38;5;132;01m:\u001b[39;00m\u001b[38;5;124mg\u001b[39m\u001b[38;5;132;01m}\u001b[39;00m\u001b[38;5;124m < \u001b[39m\u001b[38;5;132;01m{\u001b[39;00m_rtol\u001b[38;5;132;01m:\u001b[39;00m\u001b[38;5;124mg\u001b[39m\u001b[38;5;132;01m}\u001b[39;00m\u001b[38;5;124m)\u001b[39m\u001b[38;5;124m\"\u001b[39m)\n\u001b[1;32m    797\u001b[0m f \u001b[38;5;241m=\u001b[39m _wrap_nan_raise(f)\n\u001b[0;32m--> 798\u001b[0m r \u001b[38;5;241m=\u001b[39m \u001b[43m_zeros\u001b[49m\u001b[38;5;241;43m.\u001b[39;49m\u001b[43m_brentq\u001b[49m\u001b[43m(\u001b[49m\u001b[43mf\u001b[49m\u001b[43m,\u001b[49m\u001b[43m \u001b[49m\u001b[43ma\u001b[49m\u001b[43m,\u001b[49m\u001b[43m \u001b[49m\u001b[43mb\u001b[49m\u001b[43m,\u001b[49m\u001b[43m \u001b[49m\u001b[43mxtol\u001b[49m\u001b[43m,\u001b[49m\u001b[43m \u001b[49m\u001b[43mrtol\u001b[49m\u001b[43m,\u001b[49m\u001b[43m \u001b[49m\u001b[43mmaxiter\u001b[49m\u001b[43m,\u001b[49m\u001b[43m \u001b[49m\u001b[43margs\u001b[49m\u001b[43m,\u001b[49m\u001b[43m \u001b[49m\u001b[43mfull_output\u001b[49m\u001b[43m,\u001b[49m\u001b[43m \u001b[49m\u001b[43mdisp\u001b[49m\u001b[43m)\u001b[49m\n\u001b[1;32m    799\u001b[0m \u001b[38;5;28;01mreturn\u001b[39;00m results_c(full_output, r, \u001b[38;5;124m\"\u001b[39m\u001b[38;5;124mbrentq\u001b[39m\u001b[38;5;124m\"\u001b[39m)\n",
      "\u001b[0;31mValueError\u001b[0m: f(a) and f(b) must have different signs"
     ]
    }
   ],
   "source": [
    "trading_dte = 8 - mk['day']\n",
    "mk['time_to_expiry'] = 1 - mk['timestamp'] / (1_000_000 * trading_dte)\n",
    "\n",
    "# q = mk['day'] == 0\n",
    "# df = mk[q].copy()\n",
    "df = mk.copy()\n",
    "\n",
    "strike_price = 10000\n",
    "\n",
    "for strike in [9500, 9750, 10000, 10250, 10500]:\n",
    "    df[f'implied_vol_{strike}'] = df.apply(lambda row: implied_volatility(row[f'mid_price_voucher{strike}'], row['mid_price_rock'], strike, row['time_to_expiry']), axis=1)\n",
    "    df[f'delta_{strike}'] = df.apply(lambda row: delta(row['mid_price_rock'], strike, row['time_to_expiry'], row[f'implied_vol_{strike}']), axis=1)\n",
    "    df[f'gamma_{strike}'] = df.apply(lambda row: gamma(row['mid_price_rock'], strike, row['time_to_expiry'], row[f'implied_vol_{strike}']), axis=1)\n",
    "    df[f'vega_{strike}'] = df.apply(lambda row: vega(row['mid_price_rock'], strike, row['time_to_expiry'], row[f'implied_vol_{strike}']), axis=1)\n",
    "\n",
    "# df['implied_vol'] = df.apply(lambda row: implied_volatility(row[f'mid_price_voucher{strike_price}'], row['mid_price_rock'], strike_price, row['time_to_expiry']), axis=1)\n",
    "# df['delta'] = df.apply(lambda row: delta(row['mid_price_rock'], strike_price, row['time_to_expiry'], row['implied_vol']), axis=1)\n",
    "# df['gamma'] = df.apply(lambda row: gamma(row['mid_price_rock'], strike_price, row['time_to_expiry'], row['implied_vol']), axis=1)\n",
    "# df['vega'] = df.apply(lambda row: vega(row['mid_price_rock'], strike_price, row['time_to_expiry'], row['implied_vol']), axis=1)"
   ]
  },
  {
   "cell_type": "code",
   "execution_count": 123,
   "metadata": {},
   "outputs": [
    {
     "data": {
      "text/html": [
       "<div>\n",
       "<style scoped>\n",
       "    .dataframe tbody tr th:only-of-type {\n",
       "        vertical-align: middle;\n",
       "    }\n",
       "\n",
       "    .dataframe tbody tr th {\n",
       "        vertical-align: top;\n",
       "    }\n",
       "\n",
       "    .dataframe thead th {\n",
       "        text-align: right;\n",
       "    }\n",
       "</style>\n",
       "<table border=\"1\" class=\"dataframe\">\n",
       "  <thead>\n",
       "    <tr style=\"text-align: right;\">\n",
       "      <th></th>\n",
       "      <th>count</th>\n",
       "      <th>mean</th>\n",
       "      <th>std</th>\n",
       "      <th>min</th>\n",
       "      <th>25%</th>\n",
       "      <th>50%</th>\n",
       "      <th>75%</th>\n",
       "      <th>max</th>\n",
       "    </tr>\n",
       "    <tr>\n",
       "      <th>day</th>\n",
       "      <th></th>\n",
       "      <th></th>\n",
       "      <th></th>\n",
       "      <th></th>\n",
       "      <th></th>\n",
       "      <th></th>\n",
       "      <th></th>\n",
       "      <th></th>\n",
       "    </tr>\n",
       "  </thead>\n",
       "  <tbody>\n",
       "    <tr>\n",
       "      <th>0</th>\n",
       "      <td>10000.0</td>\n",
       "      <td>0.025439</td>\n",
       "      <td>0.001029</td>\n",
       "      <td>0.021430</td>\n",
       "      <td>0.024720</td>\n",
       "      <td>0.025435</td>\n",
       "      <td>0.026127</td>\n",
       "      <td>0.029275</td>\n",
       "    </tr>\n",
       "    <tr>\n",
       "      <th>1</th>\n",
       "      <td>10000.0</td>\n",
       "      <td>0.023053</td>\n",
       "      <td>0.001232</td>\n",
       "      <td>0.019044</td>\n",
       "      <td>0.022156</td>\n",
       "      <td>0.023156</td>\n",
       "      <td>0.023952</td>\n",
       "      <td>0.026640</td>\n",
       "    </tr>\n",
       "    <tr>\n",
       "      <th>2</th>\n",
       "      <td>10000.0</td>\n",
       "      <td>0.019715</td>\n",
       "      <td>0.000704</td>\n",
       "      <td>0.016988</td>\n",
       "      <td>0.019238</td>\n",
       "      <td>0.019706</td>\n",
       "      <td>0.020178</td>\n",
       "      <td>0.023177</td>\n",
       "    </tr>\n",
       "  </tbody>\n",
       "</table>\n",
       "</div>"
      ],
      "text/plain": [
       "       count      mean       std       min       25%       50%       75%  \\\n",
       "day                                                                        \n",
       "0    10000.0  0.025439  0.001029  0.021430  0.024720  0.025435  0.026127   \n",
       "1    10000.0  0.023053  0.001232  0.019044  0.022156  0.023156  0.023952   \n",
       "2    10000.0  0.019715  0.000704  0.016988  0.019238  0.019706  0.020178   \n",
       "\n",
       "          max  \n",
       "day            \n",
       "0    0.029275  \n",
       "1    0.026640  \n",
       "2    0.023177  "
      ]
     },
     "execution_count": 123,
     "metadata": {},
     "output_type": "execute_result"
    }
   ],
   "source": [
    "df.groupby('day')['implied_vol_10000'].describe()"
   ]
  },
  {
   "cell_type": "code",
   "execution_count": 124,
   "metadata": {},
   "outputs": [
    {
     "data": {
      "text/html": [
       "<div>\n",
       "<style scoped>\n",
       "    .dataframe tbody tr th:only-of-type {\n",
       "        vertical-align: middle;\n",
       "    }\n",
       "\n",
       "    .dataframe tbody tr th {\n",
       "        vertical-align: top;\n",
       "    }\n",
       "\n",
       "    .dataframe thead th {\n",
       "        text-align: right;\n",
       "    }\n",
       "</style>\n",
       "<table border=\"1\" class=\"dataframe\">\n",
       "  <thead>\n",
       "    <tr style=\"text-align: right;\">\n",
       "      <th></th>\n",
       "      <th>count</th>\n",
       "      <th>mean</th>\n",
       "      <th>std</th>\n",
       "      <th>min</th>\n",
       "      <th>25%</th>\n",
       "      <th>50%</th>\n",
       "      <th>75%</th>\n",
       "      <th>max</th>\n",
       "    </tr>\n",
       "    <tr>\n",
       "      <th>day</th>\n",
       "      <th></th>\n",
       "      <th></th>\n",
       "      <th></th>\n",
       "      <th></th>\n",
       "      <th></th>\n",
       "      <th></th>\n",
       "      <th></th>\n",
       "      <th></th>\n",
       "    </tr>\n",
       "  </thead>\n",
       "  <tbody>\n",
       "    <tr>\n",
       "      <th>0</th>\n",
       "      <td>10000.0</td>\n",
       "      <td>0.023173</td>\n",
       "      <td>0.000322</td>\n",
       "      <td>0.022249</td>\n",
       "      <td>0.022936</td>\n",
       "      <td>0.023129</td>\n",
       "      <td>0.023380</td>\n",
       "      <td>0.024593</td>\n",
       "    </tr>\n",
       "    <tr>\n",
       "      <th>1</th>\n",
       "      <td>10000.0</td>\n",
       "      <td>0.021223</td>\n",
       "      <td>0.000314</td>\n",
       "      <td>0.020344</td>\n",
       "      <td>0.020971</td>\n",
       "      <td>0.021276</td>\n",
       "      <td>0.021463</td>\n",
       "      <td>0.022045</td>\n",
       "    </tr>\n",
       "    <tr>\n",
       "      <th>2</th>\n",
       "      <td>10000.0</td>\n",
       "      <td>0.019347</td>\n",
       "      <td>0.000385</td>\n",
       "      <td>0.018455</td>\n",
       "      <td>0.019074</td>\n",
       "      <td>0.019285</td>\n",
       "      <td>0.019607</td>\n",
       "      <td>0.020470</td>\n",
       "    </tr>\n",
       "  </tbody>\n",
       "</table>\n",
       "</div>"
      ],
      "text/plain": [
       "       count      mean       std       min       25%       50%       75%  \\\n",
       "day                                                                        \n",
       "0    10000.0  0.023173  0.000322  0.022249  0.022936  0.023129  0.023380   \n",
       "1    10000.0  0.021223  0.000314  0.020344  0.020971  0.021276  0.021463   \n",
       "2    10000.0  0.019347  0.000385  0.018455  0.019074  0.019285  0.019607   \n",
       "\n",
       "          max  \n",
       "day            \n",
       "0    0.024593  \n",
       "1    0.022045  \n",
       "2    0.020470  "
      ]
     },
     "execution_count": 124,
     "metadata": {},
     "output_type": "execute_result"
    }
   ],
   "source": [
    "df.groupby('day')['implied_vol_10250'].describe()"
   ]
  },
  {
   "cell_type": "code",
   "execution_count": 125,
   "metadata": {},
   "outputs": [
    {
     "data": {
      "text/html": [
       "<div>\n",
       "<style scoped>\n",
       "    .dataframe tbody tr th:only-of-type {\n",
       "        vertical-align: middle;\n",
       "    }\n",
       "\n",
       "    .dataframe tbody tr th {\n",
       "        vertical-align: top;\n",
       "    }\n",
       "\n",
       "    .dataframe thead th {\n",
       "        text-align: right;\n",
       "    }\n",
       "</style>\n",
       "<table border=\"1\" class=\"dataframe\">\n",
       "  <thead>\n",
       "    <tr style=\"text-align: right;\">\n",
       "      <th></th>\n",
       "      <th>count</th>\n",
       "      <th>mean</th>\n",
       "      <th>std</th>\n",
       "      <th>min</th>\n",
       "      <th>25%</th>\n",
       "      <th>50%</th>\n",
       "      <th>75%</th>\n",
       "      <th>max</th>\n",
       "    </tr>\n",
       "    <tr>\n",
       "      <th>day</th>\n",
       "      <th></th>\n",
       "      <th></th>\n",
       "      <th></th>\n",
       "      <th></th>\n",
       "      <th></th>\n",
       "      <th></th>\n",
       "      <th></th>\n",
       "      <th></th>\n",
       "    </tr>\n",
       "  </thead>\n",
       "  <tbody>\n",
       "    <tr>\n",
       "      <th>0</th>\n",
       "      <td>10000.0</td>\n",
       "      <td>0.022636</td>\n",
       "      <td>0.000403</td>\n",
       "      <td>0.021722</td>\n",
       "      <td>0.022201</td>\n",
       "      <td>0.022754</td>\n",
       "      <td>0.022968</td>\n",
       "      <td>0.023502</td>\n",
       "    </tr>\n",
       "    <tr>\n",
       "      <th>1</th>\n",
       "      <td>10000.0</td>\n",
       "      <td>0.021248</td>\n",
       "      <td>0.000508</td>\n",
       "      <td>0.020485</td>\n",
       "      <td>0.020877</td>\n",
       "      <td>0.021040</td>\n",
       "      <td>0.021507</td>\n",
       "      <td>0.023169</td>\n",
       "    </tr>\n",
       "    <tr>\n",
       "      <th>2</th>\n",
       "      <td>10000.0</td>\n",
       "      <td>0.020978</td>\n",
       "      <td>0.000847</td>\n",
       "      <td>0.019227</td>\n",
       "      <td>0.020298</td>\n",
       "      <td>0.020840</td>\n",
       "      <td>0.021600</td>\n",
       "      <td>0.023616</td>\n",
       "    </tr>\n",
       "  </tbody>\n",
       "</table>\n",
       "</div>"
      ],
      "text/plain": [
       "       count      mean       std       min       25%       50%       75%  \\\n",
       "day                                                                        \n",
       "0    10000.0  0.022636  0.000403  0.021722  0.022201  0.022754  0.022968   \n",
       "1    10000.0  0.021248  0.000508  0.020485  0.020877  0.021040  0.021507   \n",
       "2    10000.0  0.020978  0.000847  0.019227  0.020298  0.020840  0.021600   \n",
       "\n",
       "          max  \n",
       "day            \n",
       "0    0.023502  \n",
       "1    0.023169  \n",
       "2    0.023616  "
      ]
     },
     "execution_count": 125,
     "metadata": {},
     "output_type": "execute_result"
    }
   ],
   "source": [
    "df.groupby('day')['implied_vol_10500'].describe()"
   ]
  },
  {
   "cell_type": "code",
   "execution_count": null,
   "metadata": {
    "ExecuteTime": {
     "end_time": "2024-04-20T00:37:32.089017Z",
     "start_time": "2024-04-20T00:37:32.079632Z"
    }
   },
   "outputs": [],
   "source": [
    "df_backtest = df[['timestamp', f'mid_price_voucher{strike_price}', 'mid_price_rock', 'implied_vol', 'delta', 'vega']]"
   ]
  },
  {
   "cell_type": "code",
   "execution_count": null,
   "metadata": {
    "ExecuteTime": {
     "end_time": "2024-04-20T00:37:32.486971Z",
     "start_time": "2024-04-20T00:37:32.476419Z"
    }
   },
   "outputs": [
    {
     "data": {
      "text/plain": [
       "np.float64(0.02543853816937061)"
      ]
     },
     "execution_count": 83,
     "metadata": {},
     "output_type": "execute_result"
    }
   ],
   "source": [
    "df_backtest['implied_vol'].describe()"
   ]
  },
  {
   "cell_type": "code",
   "execution_count": 91,
   "metadata": {
    "ExecuteTime": {
     "end_time": "2024-04-20T00:37:33.142802Z",
     "start_time": "2024-04-20T00:37:33.137413Z"
    }
   },
   "outputs": [],
   "source": [
    "# implied_vol_mean = 0.16\n",
    "implied_vol_mean = 0.02543853816937061\n",
    "implied_vol_std = df_backtest['implied_vol'].std()"
   ]
  },
  {
   "cell_type": "code",
   "execution_count": 107,
   "metadata": {
    "ExecuteTime": {
     "end_time": "2024-04-20T00:38:37.820773Z",
     "start_time": "2024-04-20T00:38:37.348234Z"
    }
   },
   "outputs": [
    {
     "name": "stdout",
     "output_type": "stream",
     "text": [
      "Trade History:\n",
      "Position: -1, Option Price: 515.5, Underlying Price: 10510.0, Implied Volatility: 0.02927544148101071\n",
      "Position: 0, Option Price: 498.5, Underlying Price: 10495.5, Implied Volatility: 0.02562770446362991\n",
      "Position: -1, Option Price: 513.5, Underlying Price: 10509.0, Implied Volatility: 0.028527562691845455\n",
      "Position: 0, Option Price: 551.5, Underlying Price: 10550.0, Implied Volatility: 0.02540064673358045\n",
      "Position: -1, Option Price: 545.5, Underlying Price: 10542.0, Implied Volatility: 0.028676497786131117\n",
      "Position: 0, Option Price: 585.5, Underlying Price: 10584.5, Implied Volatility: 0.025289597327398276\n",
      "Position: -1, Option Price: 579.5, Underlying Price: 10577.0, Implied Volatility: 0.028545074938557426\n",
      "Position: 0, Option Price: 550.5, Underlying Price: 10549.0, Implied Volatility: 0.02537583570817812\n",
      "Position: -1, Option Price: 554.5, Underlying Price: 10551.0, Implied Volatility: 0.029084960924291667\n",
      "Position: 0, Option Price: 527.0, Underlying Price: 10525.0, Implied Volatility: 0.025539536760498582\n",
      "Position: -1, Option Price: 535.5, Underlying Price: 10531.5, Implied Volatility: 0.028935430065428418\n",
      "Position: 0, Option Price: 526.5, Underlying Price: 10524.5, Implied Volatility: 0.02552449354877924\n",
      "Position: -1, Option Price: 529.5, Underlying Price: 10525.5, Implied Volatility: 0.02867996286487521\n",
      "Position: 0, Option Price: 527.0, Underlying Price: 10525.0, Implied Volatility: 0.025545461032616158\n",
      "Position: -1, Option Price: 504.5, Underlying Price: 10499.5, Implied Volatility: 0.028722242366282957\n",
      "Position: 0, Option Price: 505.5, Underlying Price: 10503.0, Implied Volatility: 0.025561074112051142\n",
      "Position: 1, Option Price: 393.0, Underlying Price: 10389.5, Implied Volatility: 0.022267172254370905\n",
      "Position: 0, Option Price: 398.5, Underlying Price: 10392.0, Implied Volatility: 0.025343096620899976\n",
      "Position: 1, Option Price: 404.5, Underlying Price: 10401.5, Implied Volatility: 0.022270275485898577\n",
      "Position: 0, Option Price: 418.5, Underlying Price: 10413.0, Implied Volatility: 0.025572181154387787\n",
      "Position: 1, Option Price: 401.0, Underlying Price: 10398.5, Implied Volatility: 0.021445676107928982\n",
      "Position: 0, Option Price: 402.5, Underlying Price: 10396.5, Implied Volatility: 0.025235662259316265\n",
      "Position: 1, Option Price: 415.5, Underlying Price: 10413.0, Implied Volatility: 0.022169868879938864\n",
      "Position: 0, Option Price: 415.5, Underlying Price: 10410.0, Implied Volatility: 0.025539983103936608\n",
      "Position: 1, Option Price: 455.0, Underlying Price: 10453.5, Implied Volatility: 0.022099110701467826\n",
      "Position: 0, Option Price: 459.5, Underlying Price: 10456.0, Implied Volatility: 0.025499182043398846\n",
      "Position: 1, Option Price: 413.5, Underlying Price: 10411.0, Implied Volatility: 0.022264013480489023\n",
      "Position: 0, Option Price: 407.5, Underlying Price: 10402.0, Implied Volatility: 0.02536328366228328\n",
      "Position: 1, Option Price: 471.5, Underlying Price: 10470.5, Implied Volatility: 0.02172631767850648\n",
      "Position: 0, Option Price: 471.5, Underlying Price: 10468.5, Implied Volatility: 0.02561967654997698\n",
      "Position: -1, Option Price: 539.5, Underlying Price: 10536.5, Implied Volatility: 0.02893117332143089\n",
      "Position: 0, Option Price: 529.5, Underlying Price: 10528.0, Implied Volatility: 0.025642724722856038\n",
      "Position: 1, Option Price: 505.0, Underlying Price: 10504.5, Implied Volatility: 0.02142966188583426\n",
      "Position: 0, Option Price: 500.0, Underlying Price: 10498.0, Implied Volatility: 0.025582892918101993\n",
      "Position: -1, Option Price: 511.5, Underlying Price: 10508.0, Implied Volatility: 0.0285750277844769\n",
      "Position: 0, Option Price: 517.5, Underlying Price: 10516.0, Implied Volatility: 0.025288305875435194\n",
      "Position: -1, Option Price: 548.5, Underlying Price: 10546.0, Implied Volatility: 0.02868405792589103\n",
      "Position: 0, Option Price: 550.5, Underlying Price: 10549.5, Implied Volatility: 0.025243274109500703\n",
      "Position: -1, Option Price: 550.5, Underlying Price: 10548.0, Implied Volatility: 0.02877856633266534\n",
      "Position: 0, Option Price: 552.0, Underlying Price: 10551.0, Implied Volatility: 0.025309684651210515\n",
      "Position: -1, Option Price: 550.5, Underlying Price: 10548.0, Implied Volatility: 0.028789621705036583\n",
      "Position: 0, Option Price: 552.5, Underlying Price: 10551.5, Implied Volatility: 0.025332607504516696\n",
      "\n",
      "Final PnL: 45.619784398346475\n"
     ]
    }
   ],
   "source": [
    "import pandas as pd\n",
    "\n",
    "# Set the threshold values\n",
    "\n",
    "# upper_threshold = 0.006  # Threshold for selling option\n",
    "# lower_threshold = -0.006  # Threshold for buying option\n",
    "# close_threshold = 0.0001  # Threshold for clearing position\n",
    "g = 3\n",
    "c = 0.2\n",
    "upper_threshold = g*implied_vol_std  # Threshold for selling option\n",
    "lower_threshold = -g*implied_vol_std  # Threshold for buying option\n",
    "close_threshold = c*implied_vol_std  # Threshold for clearing position\n",
    "\n",
    "# Initialize variables\n",
    "position = 0\n",
    "pnl = 0\n",
    "vega_pnl = 0\n",
    "trade_history = []\n",
    "\n",
    "# Iterate over each row in the dataframe\n",
    "for idx, row in df_backtest.iterrows():\n",
    "    implied_vol = row['implied_vol']\n",
    "    if idx == 0:\n",
    "        continue\n",
    "    prev_implied_vol = df_backtest.iloc[idx-1]['implied_vol']\n",
    "    mid_price_voucher = row[f'mid_price_voucher{strike_price}']\n",
    "    mid_price_rock = row['mid_price_rock']\n",
    "    vega = row['vega']\n",
    "    d = row['delta']\n",
    "\n",
    "    # Check if implied vol is above the upper threshold and no current position\n",
    "    if implied_vol > implied_vol_mean + upper_threshold and position == 0:\n",
    "        # Sell 1 delta hedged option\n",
    "        position = -1\n",
    "        entry_price_voucher = mid_price_voucher\n",
    "        entry_price_rock = mid_price_rock\n",
    "        trade_history.append((-1, entry_price_voucher, entry_price_rock, implied_vol))\n",
    "\n",
    "    # Check if implied vol is below the lower threshold and no current position\n",
    "    elif implied_vol < implied_vol_mean + lower_threshold and position == 0:\n",
    "        # Buy 1 delta hedged option\n",
    "        position = 1\n",
    "        entry_price_voucher = mid_price_voucher\n",
    "        entry_price_rock = mid_price_rock\n",
    "        trade_history.append((1, entry_price_voucher, entry_price_rock, implied_vol))\n",
    "\n",
    "    # Check if implied vol is within the close threshold and there is a current position\n",
    "    elif abs(implied_vol - implied_vol_mean) <= close_threshold and position != 0:\n",
    "        # Clear the position\n",
    "        pnl += position * (mid_price_voucher - entry_price_voucher + d * (entry_price_rock - mid_price_rock))\n",
    "        position = 0\n",
    "        trade_history.append((0, mid_price_voucher, mid_price_rock, implied_vol))\n",
    "\n",
    "    if position != 0:\n",
    "        vega_pnl += position * vega * (implied_vol - prev_implied_vol) * 100\n",
    "# Calculate final PnL if there is still an open position\n",
    "if position != 0:\n",
    "    pnl += position * (mid_price_voucher - entry_price_voucher + d * (entry_price_rock - mid_price_rock))\n",
    "\n",
    "# Print the trade history and final PnL\n",
    "print(\"Trade History:\")\n",
    "for trade in trade_history:\n",
    "    print(f\"Position: {trade[0]}, Option Price: {trade[1]}, Underlying Price: {trade[2]}, Implied Volatility: {trade[3]}\")\n",
    "\n",
    "print(f\"\\nFinal PnL: {pnl}\")"
   ]
  },
  {
   "cell_type": "code",
   "execution_count": 108,
   "metadata": {
    "ExecuteTime": {
     "end_time": "2024-04-20T00:39:01.089539Z",
     "start_time": "2024-04-20T00:39:01.084074Z"
    }
   },
   "outputs": [
    {
     "data": {
      "text/plain": [
       "np.float64(-14877.774274805664)"
      ]
     },
     "execution_count": 108,
     "metadata": {},
     "output_type": "execute_result"
    }
   ],
   "source": [
    "vega_pnl * 600"
   ]
  },
  {
   "cell_type": "code",
   "execution_count": 109,
   "metadata": {
    "ExecuteTime": {
     "end_time": "2024-04-20T00:27:03.483471Z",
     "start_time": "2024-04-20T00:27:03.252387Z"
    }
   },
   "outputs": [
    {
     "ename": "KeyError",
     "evalue": "'mid_price_voucher'",
     "output_type": "error",
     "traceback": [
      "\u001b[0;31m---------------------------------------------------------------------------\u001b[0m",
      "\u001b[0;31mKeyError\u001b[0m                                  Traceback (most recent call last)",
      "File \u001b[0;32m~/Desktop/spacepirate/prosperity-3/.venv/lib/python3.10/site-packages/pandas/core/indexes/base.py:3805\u001b[0m, in \u001b[0;36mIndex.get_loc\u001b[0;34m(self, key)\u001b[0m\n\u001b[1;32m   3804\u001b[0m \u001b[38;5;28;01mtry\u001b[39;00m:\n\u001b[0;32m-> 3805\u001b[0m     \u001b[38;5;28;01mreturn\u001b[39;00m \u001b[38;5;28;43mself\u001b[39;49m\u001b[38;5;241;43m.\u001b[39;49m\u001b[43m_engine\u001b[49m\u001b[38;5;241;43m.\u001b[39;49m\u001b[43mget_loc\u001b[49m\u001b[43m(\u001b[49m\u001b[43mcasted_key\u001b[49m\u001b[43m)\u001b[49m\n\u001b[1;32m   3806\u001b[0m \u001b[38;5;28;01mexcept\u001b[39;00m \u001b[38;5;167;01mKeyError\u001b[39;00m \u001b[38;5;28;01mas\u001b[39;00m err:\n",
      "File \u001b[0;32mindex.pyx:167\u001b[0m, in \u001b[0;36mpandas._libs.index.IndexEngine.get_loc\u001b[0;34m()\u001b[0m\n",
      "File \u001b[0;32mindex.pyx:196\u001b[0m, in \u001b[0;36mpandas._libs.index.IndexEngine.get_loc\u001b[0;34m()\u001b[0m\n",
      "File \u001b[0;32mpandas/_libs/hashtable_class_helper.pxi:7081\u001b[0m, in \u001b[0;36mpandas._libs.hashtable.PyObjectHashTable.get_item\u001b[0;34m()\u001b[0m\n",
      "File \u001b[0;32mpandas/_libs/hashtable_class_helper.pxi:7089\u001b[0m, in \u001b[0;36mpandas._libs.hashtable.PyObjectHashTable.get_item\u001b[0;34m()\u001b[0m\n",
      "\u001b[0;31mKeyError\u001b[0m: 'mid_price_voucher'",
      "\nThe above exception was the direct cause of the following exception:\n",
      "\u001b[0;31mKeyError\u001b[0m                                  Traceback (most recent call last)",
      "Cell \u001b[0;32mIn[109], line 15\u001b[0m\n\u001b[1;32m     13\u001b[0m \u001b[38;5;28;01mfor\u001b[39;00m _, row \u001b[38;5;129;01min\u001b[39;00m df_backtest\u001b[38;5;241m.\u001b[39miterrows():\n\u001b[1;32m     14\u001b[0m     implied_vol \u001b[38;5;241m=\u001b[39m row[\u001b[38;5;124m'\u001b[39m\u001b[38;5;124mimplied_vol\u001b[39m\u001b[38;5;124m'\u001b[39m]\n\u001b[0;32m---> 15\u001b[0m     mid_price_voucher \u001b[38;5;241m=\u001b[39m \u001b[43mrow\u001b[49m\u001b[43m[\u001b[49m\u001b[38;5;124;43m'\u001b[39;49m\u001b[38;5;124;43mmid_price_voucher\u001b[39;49m\u001b[38;5;124;43m'\u001b[39;49m\u001b[43m]\u001b[49m\n\u001b[1;32m     16\u001b[0m     mid_price_rock \u001b[38;5;241m=\u001b[39m row[\u001b[38;5;124m'\u001b[39m\u001b[38;5;124mmid_price_rock\u001b[39m\u001b[38;5;124m'\u001b[39m]\n\u001b[1;32m     17\u001b[0m     d \u001b[38;5;241m=\u001b[39m row[\u001b[38;5;124m'\u001b[39m\u001b[38;5;124mdelta\u001b[39m\u001b[38;5;124m'\u001b[39m]\n",
      "File \u001b[0;32m~/Desktop/spacepirate/prosperity-3/.venv/lib/python3.10/site-packages/pandas/core/series.py:1121\u001b[0m, in \u001b[0;36mSeries.__getitem__\u001b[0;34m(self, key)\u001b[0m\n\u001b[1;32m   1118\u001b[0m     \u001b[38;5;28;01mreturn\u001b[39;00m \u001b[38;5;28mself\u001b[39m\u001b[38;5;241m.\u001b[39m_values[key]\n\u001b[1;32m   1120\u001b[0m \u001b[38;5;28;01melif\u001b[39;00m key_is_scalar:\n\u001b[0;32m-> 1121\u001b[0m     \u001b[38;5;28;01mreturn\u001b[39;00m \u001b[38;5;28;43mself\u001b[39;49m\u001b[38;5;241;43m.\u001b[39;49m\u001b[43m_get_value\u001b[49m\u001b[43m(\u001b[49m\u001b[43mkey\u001b[49m\u001b[43m)\u001b[49m\n\u001b[1;32m   1123\u001b[0m \u001b[38;5;66;03m# Convert generator to list before going through hashable part\u001b[39;00m\n\u001b[1;32m   1124\u001b[0m \u001b[38;5;66;03m# (We will iterate through the generator there to check for slices)\u001b[39;00m\n\u001b[1;32m   1125\u001b[0m \u001b[38;5;28;01mif\u001b[39;00m is_iterator(key):\n",
      "File \u001b[0;32m~/Desktop/spacepirate/prosperity-3/.venv/lib/python3.10/site-packages/pandas/core/series.py:1237\u001b[0m, in \u001b[0;36mSeries._get_value\u001b[0;34m(self, label, takeable)\u001b[0m\n\u001b[1;32m   1234\u001b[0m     \u001b[38;5;28;01mreturn\u001b[39;00m \u001b[38;5;28mself\u001b[39m\u001b[38;5;241m.\u001b[39m_values[label]\n\u001b[1;32m   1236\u001b[0m \u001b[38;5;66;03m# Similar to Index.get_value, but we do not fall back to positional\u001b[39;00m\n\u001b[0;32m-> 1237\u001b[0m loc \u001b[38;5;241m=\u001b[39m \u001b[38;5;28;43mself\u001b[39;49m\u001b[38;5;241;43m.\u001b[39;49m\u001b[43mindex\u001b[49m\u001b[38;5;241;43m.\u001b[39;49m\u001b[43mget_loc\u001b[49m\u001b[43m(\u001b[49m\u001b[43mlabel\u001b[49m\u001b[43m)\u001b[49m\n\u001b[1;32m   1239\u001b[0m \u001b[38;5;28;01mif\u001b[39;00m is_integer(loc):\n\u001b[1;32m   1240\u001b[0m     \u001b[38;5;28;01mreturn\u001b[39;00m \u001b[38;5;28mself\u001b[39m\u001b[38;5;241m.\u001b[39m_values[loc]\n",
      "File \u001b[0;32m~/Desktop/spacepirate/prosperity-3/.venv/lib/python3.10/site-packages/pandas/core/indexes/base.py:3812\u001b[0m, in \u001b[0;36mIndex.get_loc\u001b[0;34m(self, key)\u001b[0m\n\u001b[1;32m   3807\u001b[0m     \u001b[38;5;28;01mif\u001b[39;00m \u001b[38;5;28misinstance\u001b[39m(casted_key, \u001b[38;5;28mslice\u001b[39m) \u001b[38;5;129;01mor\u001b[39;00m (\n\u001b[1;32m   3808\u001b[0m         \u001b[38;5;28misinstance\u001b[39m(casted_key, abc\u001b[38;5;241m.\u001b[39mIterable)\n\u001b[1;32m   3809\u001b[0m         \u001b[38;5;129;01mand\u001b[39;00m \u001b[38;5;28many\u001b[39m(\u001b[38;5;28misinstance\u001b[39m(x, \u001b[38;5;28mslice\u001b[39m) \u001b[38;5;28;01mfor\u001b[39;00m x \u001b[38;5;129;01min\u001b[39;00m casted_key)\n\u001b[1;32m   3810\u001b[0m     ):\n\u001b[1;32m   3811\u001b[0m         \u001b[38;5;28;01mraise\u001b[39;00m InvalidIndexError(key)\n\u001b[0;32m-> 3812\u001b[0m     \u001b[38;5;28;01mraise\u001b[39;00m \u001b[38;5;167;01mKeyError\u001b[39;00m(key) \u001b[38;5;28;01mfrom\u001b[39;00m\u001b[38;5;250m \u001b[39m\u001b[38;5;21;01merr\u001b[39;00m\n\u001b[1;32m   3813\u001b[0m \u001b[38;5;28;01mexcept\u001b[39;00m \u001b[38;5;167;01mTypeError\u001b[39;00m:\n\u001b[1;32m   3814\u001b[0m     \u001b[38;5;66;03m# If we have a listlike key, _check_indexing_error will raise\u001b[39;00m\n\u001b[1;32m   3815\u001b[0m     \u001b[38;5;66;03m#  InvalidIndexError. Otherwise we fall through and re-raise\u001b[39;00m\n\u001b[1;32m   3816\u001b[0m     \u001b[38;5;66;03m#  the TypeError.\u001b[39;00m\n\u001b[1;32m   3817\u001b[0m     \u001b[38;5;28mself\u001b[39m\u001b[38;5;241m.\u001b[39m_check_indexing_error(key)\n",
      "\u001b[0;31mKeyError\u001b[0m: 'mid_price_voucher'"
     ]
    }
   ],
   "source": [
    "import pandas as pd\n",
    "\n",
    "# Set the threshold values\n",
    "upper_threshold = 0.005  # Threshold for selling option\n",
    "lower_threshold = -0.005  # Threshold for buying option\n",
    "\n",
    "# Initialize variables\n",
    "position = 0\n",
    "pnl = 0\n",
    "trade_history = []\n",
    "\n",
    "# Iterate over each row in the dataframe\n",
    "for _, row in df_backtest.iterrows():\n",
    "    implied_vol = row['implied_vol']\n",
    "    mid_price_voucher = row['mid_price_voucher']\n",
    "    mid_price_rock = row['mid_price_rock']\n",
    "    d = row['delta']\n",
    "\n",
    "    # Check if implied vol is above the upper threshold\n",
    "    if implied_vol > implied_vol_mean + upper_threshold:\n",
    "        # Sell to target position of -1\n",
    "        if position > -1:\n",
    "            quantity = -1 - position\n",
    "            position = -1\n",
    "            entry_price_voucher = mid_price_voucher\n",
    "            entry_price_rock = mid_price_rock\n",
    "            trade_history.append((quantity, entry_price_voucher, entry_price_rock, implied_vol))\n",
    "\n",
    "    # Check if implied vol is below the lower threshold\n",
    "    elif implied_vol < implied_vol_mean + lower_threshold:\n",
    "        # Buy to target position of 1\n",
    "        if position < 1:\n",
    "            quantity = 1 - position\n",
    "            position = 1\n",
    "            entry_price_voucher = mid_price_voucher\n",
    "            entry_price_rock = mid_price_rock\n",
    "            trade_history.append((quantity, entry_price_voucher, entry_price_rock, implied_vol))\n",
    "\n",
    "# Calculate final PnL for the remaining position\n",
    "if position != 0:\n",
    "    pnl += position * (mid_price_voucher - entry_price_voucher + d * (entry_price_rock - mid_price_rock))\n",
    "\n",
    "# Print the trade history and final PnL\n",
    "print(\"Trade History:\")\n",
    "for trade in trade_history:\n",
    "    print(f\"Quantity: {trade[0]}, Option Price: {trade[1]}, Underlying Price: {trade[2]}, Implied Volatility: {trade[3]}\")\n",
    "\n",
    "print(f\"\\nFinal PnL: {pnl}\")"
   ]
  },
  {
   "cell_type": "code",
   "execution_count": null,
   "metadata": {},
   "outputs": [],
   "source": []
  }
 ],
 "metadata": {
  "kernelspec": {
   "display_name": ".venv",
   "language": "python",
   "name": "python3"
  },
  "language_info": {
   "codemirror_mode": {
    "name": "ipython",
    "version": 3
   },
   "file_extension": ".py",
   "mimetype": "text/x-python",
   "name": "python",
   "nbconvert_exporter": "python",
   "pygments_lexer": "ipython3",
   "version": "3.10.15"
  },
  "toc": {
   "base_numbering": 1,
   "nav_menu": {},
   "number_sections": true,
   "sideBar": true,
   "skip_h1_title": false,
   "title_cell": "Table of Contents",
   "title_sidebar": "Contents",
   "toc_cell": false,
   "toc_position": {},
   "toc_section_display": true,
   "toc_window_display": false
  }
 },
 "nbformat": 4,
 "nbformat_minor": 2
}
